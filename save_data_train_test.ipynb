{
 "cells": [
  {
   "cell_type": "code",
   "execution_count": 1,
   "metadata": {},
   "outputs": [],
   "source": [
    "import tensorflow as tf\n",
    "from tensorflow.keras.models import load_model\n",
    "import numpy as np\n",
    "import pandas as pd\n",
    "from pyspark.sql import functions as F\n",
    "from pyspark.sql.functions import pandas_udf, PandasUDFType\n",
    "from pyspark.sql.types import StructField, StructType, DoubleType,MapType, StringType,ArrayType, FloatType, TimestampType, IntegerType\n",
    "from cerebralcortex.core.datatypes import DataStream\n",
    "from cerebralcortex.core.metadata_manager.stream.metadata import Metadata, DataDescriptor, \\\n",
    "ModuleMetadata\n",
    "from scipy import signal\n",
    "from scipy.interpolate import interp1d\n",
    "from cerebralcortex import Kernel\n",
    "from scipy.stats import skew,kurtosis,mode\n",
    "from collections import Counter\n",
    "import pandas as pd\n",
    "import os\n",
    "import pickle\n",
    "CC = Kernel(\"/home/jupyter/cc3_conf/\", study_name='mperf')"
   ]
  },
  {
   "cell_type": "code",
   "execution_count": null,
   "metadata": {},
   "outputs": [
    {
     "name": "stdout",
     "output_type": "stream",
     "text": [
      "--------------------exercise--------------------\n",
      "0,1,2,3,4,5,6,7,8,9,10,11,12,13,14,15,16,17,18,19,20,21,22,23,24,25,26,27,28,29,30,31,32,33,34,35,36,37,38,39,40,41,42,43,44,45,46,47,48,49,50,51,52,53,54,55,56,57,58,"
     ]
    }
   ],
   "source": [
    "activities = ['exercise','stairs']\n",
    "window_size = 20\n",
    "training_percentage = .8\n",
    "activity = activities[0]\n",
    "for activity in activities:\n",
    "    print('-'*20+activity+'-'*20)\n",
    "    directory = './data/'+str(window_size)+'/'+activity+'/'\n",
    "    if not os.path.isdir(directory+'training'):\n",
    "        os.makedirs(directory+'training')\n",
    "    if not os.path.isdir(directory+'testing'):\n",
    "        os.makedirs(directory+'testing')\n",
    "    stream_name = 'org.md2k.feature.motionsensehrv.decoded.rightwrist.all.activity.all.three.'+str(window_size)+'.secs.'+str(activity)\n",
    "    users = CC.get_stream(stream_name).select('user').distinct().toPandas()['user'].values\n",
    "    for i,user_id in enumerate(users):\n",
    "        data = CC.get_stream(stream_name,user_id=user_id)\n",
    "        data = data.toPandas()\n",
    "        data  = data.sort_values('timestamp').reset_index(drop=True)\n",
    "        data['time'] = data['start'].apply(lambda a:a.timestamp())\n",
    "        data['data'] = data['data'].apply(lambda a:np.array(a).reshape(1,-1,3))\n",
    "        training_data = data[:int(data.shape[0]*training_percentage)] \n",
    "        testing_data = data[int(data.shape[0]*training_percentage):] \n",
    "        pickle.dump(training_data,open(directory+'training/'+str(user_id),'wb'))\n",
    "        pickle.dump(testing_data,open(directory+'testing/'+str(user_id),'wb'))\n",
    "        print(i,end=',')\n",
    "    print()"
   ]
  },
  {
   "cell_type": "code",
   "execution_count": null,
   "metadata": {},
   "outputs": [],
   "source": []
  }
 ],
 "metadata": {
  "kernelspec": {
   "display_name": "High Performance CC3.3",
   "language": "python",
   "name": "cc33_high_performance"
  },
  "language_info": {
   "codemirror_mode": {
    "name": "ipython",
    "version": 3
   },
   "file_extension": ".py",
   "mimetype": "text/x-python",
   "name": "python",
   "nbconvert_exporter": "python",
   "pygments_lexer": "ipython3",
   "version": "3.6.8"
  }
 },
 "nbformat": 4,
 "nbformat_minor": 2
}
