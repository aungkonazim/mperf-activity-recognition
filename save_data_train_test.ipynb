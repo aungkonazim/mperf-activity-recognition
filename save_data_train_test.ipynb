{
 "cells": [
  {
   "cell_type": "code",
   "execution_count": 4,
   "metadata": {},
   "outputs": [],
   "source": [
    "import tensorflow as tf\n",
    "from tensorflow.keras.models import load_model\n",
    "import numpy as np\n",
    "import pandas as pd\n",
    "from pyspark.sql import functions as F\n",
    "from pyspark.sql.functions import pandas_udf, PandasUDFType\n",
    "from pyspark.sql.types import StructField, StructType, DoubleType,MapType, StringType,ArrayType, FloatType, TimestampType, IntegerType\n",
    "from cerebralcortex.core.datatypes import DataStream\n",
    "from cerebralcortex.core.metadata_manager.stream.metadata import Metadata, DataDescriptor, \\\n",
    "ModuleMetadata\n",
    "from scipy import signal\n",
    "from scipy.interpolate import interp1d\n",
    "from cerebralcortex import Kernel\n",
    "from scipy.stats import skew,kurtosis,mode\n",
    "from collections import Counter\n",
    "import pandas as pd\n",
    "import os\n",
    "import warnings\n",
    "warnings.filterwarnings('ignore')\n",
    "import pickle\n",
    "CC = Kernel(\"/home/jupyter/cc3_conf/\", study_name='mperf')"
   ]
  },
  {
   "cell_type": "code",
   "execution_count": null,
   "metadata": {},
   "outputs": [],
   "source": [
    "activities = ['Stationery','Stairs','Exercise','Walking','Sports']\n",
    "window_size = 20\n",
    "training_percentage = .8\n",
    "activity = activities[0]\n",
    "for activity in activities[::-1]:\n",
    "    directory = './data/'+str(window_size)+'/'+activity.lower()+'_moral/'\n",
    "    if not os.path.isdir(directory+'training'):\n",
    "        os.makedirs(directory+'training')\n",
    "    if not os.path.isdir(directory+'testing'):\n",
    "        os.makedirs(directory+'testing')\n",
    "    stream_name = 'accelerometer--org.md2k.motionsense--motion_sense--right_wrist'+'.activity.all.three.'+str(window_size)+'.secs.'+str(activity.lower())\n",
    "    users = CC.get_stream(stream_name).select('user').distinct().toPandas()['user'].values\n",
    "    for i,user_id in enumerate(users):\n",
    "        data = CC.get_stream(stream_name,user_id=user_id)\n",
    "        data = data.toPandas()\n",
    "        data  = data.sort_values('timestamp').reset_index(drop=True)\n",
    "        data['time'] = data['start'].apply(lambda a:a.timestamp())\n",
    "        data['data'] = data['data'].apply(lambda a:np.array(a).reshape(1,-1,3))\n",
    "        training_data = data[:int(data.shape[0]*(training_percentage))] \n",
    "        testing_data = data[int(data.shape[0]*training_percentage):] \n",
    "        pickle.dump(training_data,open(directory+'training/'+str(user_id),'wb'))\n",
    "        pickle.dump(testing_data,open(directory+'testing/'+str(user_id),'wb'))\n",
    "        print(i,testing_data.shape[0],end=',')\n",
    "    print()"
   ]
  },
  {
   "cell_type": "code",
   "execution_count": 5,
   "metadata": {},
   "outputs": [
    {
     "name": "stdout",
     "output_type": "stream",
     "text": [
      "--------------------walking--------------------\n",
      "0 1310,1 1827,2 971,3 9,4 661,5 3,6 2047,7 1284,8 1213,9 891,10 593,11 1251,12 67,13 137,14 885,15 593,16 1537,17 1517,18 1707,19 1119,20 465,21 1675,22 1140,23 497,24 581,25 701,26 10,27 938,28 1054,29 937,30 509,31 531,32 681,33 1418,34 1694,35 671,36 505,37 62,38 1437,39 741,40 1806,41 1257,42 1086,43 985,44 681,45 1046,46 600,47 628,48 1554,49 988,50 455,51 1623,52 828,53 703,54 485,55 441,56 403,57 1731,58 1977,59 1493,60 2067,61 961,62 1077,63 778,64 899,65 189,66 456,67 1158,68 2347,69 1133,70 701,71 1111,72 468,73 84,74 1361,75 844,76 689,77 560,78 770,79 1880,80 1415,81 1081,82 1015,83 845,84 110,85 1392,86 634,87 1310,88 1479,89 832,90 539,91 1231,92 1071,93 716,94 490,95 4,96 1100,97 1556,98 1035,99 940,100 629,101 688,102 3000,103 1987,104 31,105 1502,106 975,107 813,108 468,109 1119,110 410,111 89,112 71,113 427,114 765,115 929,116 732,117 457,118 83,119 54,120 947,121 741,122 857,123 855,124 482,125 1051,126 1119,127 664,128 1026,129 579,130 1467,131 541,132 2,133 1326,134 159,135 890,136 622,137 1202,138 568,139 657,140 667,141 492,142 767,143 175,144 721,145 126,146 13,147 2124,148 1249,149 1840,150 1561,151 418,152 186,153 11,154 647,155 936,156 1347,157 1038,158 504,159 818,160 654,161 270,162 690,163 674,164 1699,165 2197,166 1009,167 875,168 452,169 302,170 58,171 785,172 1804,173 299,174 899,175 756,176 623,177 2190,178 2111,179 2087,180 875,181 593,182 1518,183 663,184 744,185 134,186 484,187 809,188 603,189 1675,190 1461,191 148,192 633,193 588,194 632,195 165,196 1378,197 461,198 600,199 704,200 21,201 1178,202 1324,203 466,204 913,205 691,206 5,207 601,208 1568,209 11,210 79,211 883,212 462,213 14,214 1478,215 954,216 1503,217 945,218 860,219 770,220 780,221 71,222 404,223 453,224 951,225 612,226 649,227 1180,228 845,229 659,230 555,231 636,232 1152,233 837,234 248,235 1407,236 906,237 892,238 732,239 503,240 11,241 1486,242 1504,243 1238,244 1223,245 507,246 789,247 2212,248 682,249 708,250 180,251 967,252 285,253 1003,254 646,255 1128,256 1039,257 780,258 472,259 1042,260 910,261 1412,262 556,263 695,264 1383,265 16,266 1170,267 1065,268 487,269 627,270 511,271 451,272 40,273 1051,274 1256,275 730,276 1067,277 562,278 580,279 769,280 228,281 2046,282 668,283 579,284 663,285 2,286 9,287 1,288 1156,289 1514,290 1190,291 401,292 936,293 472,294 511,295 659,296 878,297 1458,298 1319,299 1237,300 886,301 444,302 13,303 1287,304 779,305 1105,306 977,307 837,308 70,309 496,310 115,311 126,312 2,313 27,314 775,315 550,316 306,317 624,318 278,319 1482,320 745,321 1853,322 602,323 1247,324 639,325 42,326 577,327 768,328 1096,329 530,330 693,331 2213,332 1579,333 1557,334 2261,335 1461,336 1036,337 408,338 42,339 2,340 1863,341 1447,342 858,343 1414,344 1192,345 576,346 1418,347 434,348 39,349 2142,350 2022,351 1384,352 888,353 789,354 325,355 533,356 1239,357 766,358 855,359 237,360 3000,361 1343,362 468,363 528,364 801,365 371,366 543,367 532,368 653,369 711,370 513,371 1445,372 637,373 61,374 244,375 8,376 1243,377 1803,378 722,379 950,380 881,381 57,382 1190,383 784,384 674,385 339,386 836,387 1042,388 1048,389 829,390 875,391 702,392 380,393 113,394 259,\n"
     ]
    }
   ],
   "source": [
    "def get_shortened_data(data_windowed,minutes=2000,window_size=20,training_percentage=.8):\n",
    "    schema = data_windowed.schema\n",
    "    @pandas_udf(schema, PandasUDFType.GROUPED_MAP)\n",
    "    def get_user_data(df):\n",
    "        df = df[int(df.shape[0]*training_percentage):]\n",
    "        return df\n",
    "    data_windowed = data_windowed.groupBy(['user','day']).apply(get_user_data)\n",
    "    n = int(minutes*60/window_size)\n",
    "    @pandas_udf(schema, PandasUDFType.GROUPED_MAP)\n",
    "    def get_user_data_sort(df):\n",
    "        df = df.sort_values('timestamp').reset_index(drop=True)\n",
    "        if n>=df.shape[0]//2:\n",
    "            m = df.shape[0]//2\n",
    "        else:\n",
    "            m = n\n",
    "        df = df[int(df.shape[0]-m):]\n",
    "        return df\n",
    "    data_windowed = data_windowed.groupBy('user').apply(get_user_data_sort)\n",
    "    return data_windowed\n",
    "    \n",
    "activities = ['walking']\n",
    "window_size = 20\n",
    "training_percentage = .8\n",
    "activity = activities[0]\n",
    "for activity in activities:\n",
    "    print('-'*20+activity+'-'*20)\n",
    "    directory = './data/'+str(window_size)+'/'+activity+'/'\n",
    "    if not os.path.isdir(directory+'training'):\n",
    "        os.makedirs(directory+'training')\n",
    "    if not os.path.isdir(directory+'testing'):\n",
    "        os.makedirs(directory+'testing')\n",
    "    stream_name = 'org.md2k.feature.motionsensehrv.decoded.rightwrist.all.activity.all.three.'+str(window_size)+'.secs.'+str(activity)\n",
    "    users = CC.get_stream(stream_name).select('user').distinct().toPandas()['user'].values\n",
    "    for i,user_id in enumerate(users):\n",
    "        data = CC.get_stream(stream_name,user_id=user_id)\n",
    "        if activity=='stationery':\n",
    "            data = get_shortened_data(data,minutes=1000,window_size=20)\n",
    "        data = data.toPandas()\n",
    "        data  = data.sort_values('timestamp').reset_index(drop=True)\n",
    "#         if activity == 'stationery':\n",
    "#             data = data[int(data.shape[0]*training_percentage):] \n",
    "        data['time'] = data['start'].apply(lambda a:a.timestamp())\n",
    "        data['data'] = data['data'].apply(lambda a:np.array(a).reshape(1,-1,3))\n",
    "        if activity =='stationery':\n",
    "            testing_data  = data\n",
    "            pickle.dump(testing_data,open(directory+'testing/'+str(user_id),'wb'))\n",
    "        else:\n",
    "#             training_data = data[:int(data.shape[0]*(training_percentage))] \n",
    "            testing_data = data[int(data.shape[0]*training_percentage):] \n",
    "            if testing_data.shape[0]>3000:\n",
    "                testing_data = testing_data[:3000]\n",
    "#             if training_data.shape[0]>5000:\n",
    "#                 training_data = training_data[:5000]\n",
    "#             pickle.dump(training_data,open(directory+'training/'+str(user_id),'wb'))\n",
    "            pickle.dump(testing_data,open(directory+'testing/'+str(user_id),'wb'))\n",
    "        print(i,testing_data.shape[0],end=',')\n",
    "    print()"
   ]
  },
  {
   "cell_type": "code",
   "execution_count": null,
   "metadata": {},
   "outputs": [],
   "source": [
    "def get_shortened_data(data_windowed,minutes=2000,window_size=20,training_percentage=.3):\n",
    "    schema = data_windowed.schema\n",
    "    @pandas_udf(schema, PandasUDFType.GROUPED_MAP)\n",
    "    def get_user_data(df):\n",
    "        df = df[:int(df.shape[0]*training_percentage)]\n",
    "        return df\n",
    "    data_windowed = data_windowed.groupBy(['user','day']).apply(get_user_data)\n",
    "    n = int(minutes*60/window_size)\n",
    "    @pandas_udf(schema, PandasUDFType.GROUPED_MAP)\n",
    "    def get_user_data_sort(df):\n",
    "        df = df.sort_values('timestamp').reset_index(drop=True)\n",
    "#         if n>=df.shape[0]//2:\n",
    "#             m = df.shape[0]//2\n",
    "#         else:\n",
    "#             m = n\n",
    "        df = df[:n]\n",
    "        return df\n",
    "    data_windowed = data_windowed.groupBy('user').apply(get_user_data_sort)\n",
    "    return data_windowed\n",
    "    \n",
    "activities = ['stationery']\n",
    "window_size = 20\n",
    "training_percentage = .8\n",
    "activity = activities[0]\n",
    "for activity in activities:\n",
    "    print('-'*20+activity+'-'*20)\n",
    "    directory = './data/'+str(window_size)+'/'+activity+'/'\n",
    "    if not os.path.isdir(directory+'training'):\n",
    "        os.makedirs(directory+'training')\n",
    "    if not os.path.isdir(directory+'testing'):\n",
    "        os.makedirs(directory+'testing')\n",
    "    stream_name = 'org.md2k.feature.motionsensehrv.decoded.rightwrist.all.activity.all.three.'+str(window_size)+'.secs.'+str(activity)\n",
    "    users = CC.get_stream(stream_name).select('user').distinct().toPandas()['user'].values\n",
    "    for i,user_id in enumerate(users):\n",
    "        data = CC.get_stream(stream_name,user_id=user_id)\n",
    "        if activity=='stationery':\n",
    "            data = get_shortened_data(data,minutes=3000,window_size=20)\n",
    "        data = data.toPandas()\n",
    "        data  = data.sort_values('timestamp').reset_index(drop=True)\n",
    "#         if activity == 'stationery':\n",
    "#             data = data[int(data.shape[0]*training_percentage):] \n",
    "        data['time'] = data['start'].apply(lambda a:a.timestamp())\n",
    "        data['data'] = data['data'].apply(lambda a:np.array(a).reshape(1,-1,3))\n",
    "        if activity =='stationery':\n",
    "            training_data  = data\n",
    "            pickle.dump(training_data,open(directory+'training/'+str(user_id),'wb'))\n",
    "        else:\n",
    "            training_data = data[:int(data.shape[0]*training_percentage)] \n",
    "            testing_data = data[int(data.shape[0]*training_percentage):] \n",
    "            pickle.dump(training_data,open(directory+'training/'+str(user_id),'wb'))\n",
    "            pickle.dump(testing_data,open(directory+'testing/'+str(user_id),'wb'))\n",
    "        print(i,training_data.shape[0],end=',')\n",
    "    print()"
   ]
  },
  {
   "cell_type": "code",
   "execution_count": null,
   "metadata": {},
   "outputs": [],
   "source": [
    "import shutil"
   ]
  },
  {
   "cell_type": "code",
   "execution_count": null,
   "metadata": {},
   "outputs": [],
   "source": [
    "shutil.make_archive('./data/20/std/','zip','./data/20/std/')"
   ]
  },
  {
   "cell_type": "code",
   "execution_count": null,
   "metadata": {},
   "outputs": [],
   "source": [
    "data = data.withColumn('time',F.col('timestamp').cast('double'))"
   ]
  },
  {
   "cell_type": "code",
   "execution_count": null,
   "metadata": {},
   "outputs": [],
   "source": [
    "df = data.select('time').distinct().toPandas()['time'].values"
   ]
  },
  {
   "cell_type": "code",
   "execution_count": null,
   "metadata": {},
   "outputs": [],
   "source": [
    "activities = ['stationery']\n",
    "window_size = 20\n",
    "stream_name = 'org.md2k.feature.motionsensehrv.decoded.rightwrist.all.activity.all.three.'+str(window_size)+'.secs.'+str(activities[0])\n",
    "users = CC.get_stream(stream_name).select('user').distinct().toPandas()['user'].values"
   ]
  },
  {
   "cell_type": "code",
   "execution_count": null,
   "metadata": {},
   "outputs": [],
   "source": [
    "times = CC.get_stream(stream_name).select('timestamp').distinct().toPandas()['timestamp'].values"
   ]
  },
  {
   "cell_type": "code",
   "execution_count": null,
   "metadata": {},
   "outputs": [],
   "source": [
    "import os"
   ]
  },
  {
   "cell_type": "code",
   "execution_count": null,
   "metadata": {},
   "outputs": [],
   "source": [
    "len(os.listdir('./data/20/stationery/testing'))"
   ]
  },
  {
   "cell_type": "code",
   "execution_count": 1,
   "metadata": {},
   "outputs": [],
   "source": [
    "import shutil"
   ]
  },
  {
   "cell_type": "code",
   "execution_count": 2,
   "metadata": {},
   "outputs": [],
   "source": [
    "shutil.rmtree('./data/20/std5/training/')"
   ]
  },
  {
   "cell_type": "code",
   "execution_count": null,
   "metadata": {},
   "outputs": [],
   "source": [
    "import shutil\n",
    "\n",
    "# shutil.make_archive('./data/20/std10/testing/','zip','./data/20/std10/testing/')"
   ]
  },
  {
   "cell_type": "code",
   "execution_count": null,
   "metadata": {},
   "outputs": [],
   "source": [
    "shutil.rmtree('/home/jupyter/mullah/cc3/rice_data/ecg_ppg_5_left_final_v1//')"
   ]
  },
  {
   "cell_type": "code",
   "execution_count": null,
   "metadata": {},
   "outputs": [],
   "source": []
  }
 ],
 "metadata": {
  "kernelspec": {
   "display_name": "High Performance CC3.3",
   "language": "python",
   "name": "cc33_high_performance"
  },
  "language_info": {
   "codemirror_mode": {
    "name": "ipython",
    "version": 3
   },
   "file_extension": ".py",
   "mimetype": "text/x-python",
   "name": "python",
   "nbconvert_exporter": "python",
   "pygments_lexer": "ipython3",
   "version": "3.6.8"
  }
 },
 "nbformat": 4,
 "nbformat_minor": 2
}
