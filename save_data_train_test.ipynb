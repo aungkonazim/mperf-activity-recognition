{
 "cells": [
  {
   "cell_type": "code",
   "execution_count": null,
   "metadata": {},
   "outputs": [],
   "source": [
    "import tensorflow as tf\n",
    "from tensorflow.keras.models import load_model\n",
    "import numpy as np\n",
    "import pandas as pd\n",
    "from pyspark.sql import functions as F\n",
    "from pyspark.sql.functions import pandas_udf, PandasUDFType\n",
    "from pyspark.sql.types import StructField, StructType, DoubleType,MapType, StringType,ArrayType, FloatType, TimestampType, IntegerType\n",
    "from cerebralcortex.core.datatypes import DataStream\n",
    "from cerebralcortex.core.metadata_manager.stream.metadata import Metadata, DataDescriptor, \\\n",
    "ModuleMetadata\n",
    "from scipy import signal\n",
    "from scipy.interpolate import interp1d\n",
    "from cerebralcortex import Kernel\n",
    "from scipy.stats import skew,kurtosis,mode\n",
    "from collections import Counter\n",
    "import pandas as pd\n",
    "import os\n",
    "import warnings\n",
    "warnings.filterwarnings('ignore')\n",
    "import pickle\n",
    "CC = Kernel(\"/home/jupyter/cc3_conf/\", study_name='mperf')"
   ]
  },
  {
   "cell_type": "code",
   "execution_count": null,
   "metadata": {},
   "outputs": [],
   "source": [
    "def get_shortened_data(data_windowed,minutes=2000,window_size=20,training_percentage=.8):\n",
    "    schema = data_windowed.schema\n",
    "    @pandas_udf(schema, PandasUDFType.GROUPED_MAP)\n",
    "    def get_user_data(df):\n",
    "        df = df[int(df.shape[0]*training_percentage):]\n",
    "        return df\n",
    "    data_windowed = data_windowed.groupBy(['user','day']).apply(get_user_data)\n",
    "    n = int(minutes*60/window_size)\n",
    "    @pandas_udf(schema, PandasUDFType.GROUPED_MAP)\n",
    "    def get_user_data_sort(df):\n",
    "        df = df.sort_values('timestamp').reset_index(drop=True)\n",
    "        if n>=df.shape[0]//2:\n",
    "            m = df.shape[0]//2\n",
    "        else:\n",
    "            m = n\n",
    "        df = df[int(df.shape[0]-m):]\n",
    "        return df\n",
    "    data_windowed = data_windowed.groupBy('user').apply(get_user_data_sort)\n",
    "    return data_windowed\n",
    "    \n",
    "activities = ['stationery']\n",
    "window_size = 20\n",
    "training_percentage = .8\n",
    "activity = activities[0]\n",
    "for activity in activities:\n",
    "    print('-'*20+activity+'-'*20)\n",
    "    directory = './data/'+str(window_size)+'/'+activity+'/'\n",
    "    if not os.path.isdir(directory+'training'):\n",
    "        os.makedirs(directory+'training')\n",
    "    if not os.path.isdir(directory+'testing'):\n",
    "        os.makedirs(directory+'testing')\n",
    "    stream_name = 'org.md2k.feature.motionsensehrv.decoded.rightwrist.all.activity.all.three.'+str(window_size)+'.secs.'+str(activity)\n",
    "    users = CC.get_stream(stream_name).select('user').distinct().toPandas()['user'].values\n",
    "    for i,user_id in enumerate(users):\n",
    "        data = CC.get_stream(stream_name,user_id=user_id)\n",
    "        if activity=='stationery':\n",
    "            data = get_shortened_data(data,minutes=1000,window_size=20)\n",
    "        data = data.toPandas()\n",
    "        data  = data.sort_values('timestamp').reset_index(drop=True)\n",
    "#         if activity == 'stationery':\n",
    "#             data = data[int(data.shape[0]*training_percentage):] \n",
    "        data['time'] = data['start'].apply(lambda a:a.timestamp())\n",
    "        data['data'] = data['data'].apply(lambda a:np.array(a).reshape(1,-1,3))\n",
    "        if activity =='stationery':\n",
    "            testing_data  = data\n",
    "            pickle.dump(testing_data,open(directory+'testing/'+str(user_id),'wb'))\n",
    "        else:\n",
    "            training_data = data[:int(data.shape[0]*training_percentage)] \n",
    "            testing_data = data[int(data.shape[0]*training_percentage):] \n",
    "            pickle.dump(training_data,open(directory+'training/'+str(user_id),'wb'))\n",
    "            pickle.dump(testing_data,open(directory+'testing/'+str(user_id),'wb'))\n",
    "        print(i,testing_data.shape[0],end=',')\n",
    "    print()"
   ]
  },
  {
   "cell_type": "code",
   "execution_count": null,
   "metadata": {},
   "outputs": [],
   "source": [
    "def get_shortened_data(data_windowed,minutes=2000,window_size=20,training_percentage=.3):\n",
    "    schema = data_windowed.schema\n",
    "    @pandas_udf(schema, PandasUDFType.GROUPED_MAP)\n",
    "    def get_user_data(df):\n",
    "        df = df[:int(df.shape[0]*training_percentage)]\n",
    "        return df\n",
    "    data_windowed = data_windowed.groupBy(['user','day']).apply(get_user_data)\n",
    "    n = int(minutes*60/window_size)\n",
    "    @pandas_udf(schema, PandasUDFType.GROUPED_MAP)\n",
    "    def get_user_data_sort(df):\n",
    "        df = df.sort_values('timestamp').reset_index(drop=True)\n",
    "#         if n>=df.shape[0]//2:\n",
    "#             m = df.shape[0]//2\n",
    "#         else:\n",
    "#             m = n\n",
    "        df = df[:n]\n",
    "        return df\n",
    "    data_windowed = data_windowed.groupBy('user').apply(get_user_data_sort)\n",
    "    return data_windowed\n",
    "    \n",
    "activities = ['stationery']\n",
    "window_size = 20\n",
    "training_percentage = .8\n",
    "activity = activities[0]\n",
    "for activity in activities:\n",
    "    print('-'*20+activity+'-'*20)\n",
    "    directory = './data/'+str(window_size)+'/'+activity+'/'\n",
    "    if not os.path.isdir(directory+'training'):\n",
    "        os.makedirs(directory+'training')\n",
    "    if not os.path.isdir(directory+'testing'):\n",
    "        os.makedirs(directory+'testing')\n",
    "    stream_name = 'org.md2k.feature.motionsensehrv.decoded.rightwrist.all.activity.all.three.'+str(window_size)+'.secs.'+str(activity)\n",
    "    users = CC.get_stream(stream_name).select('user').distinct().toPandas()['user'].values\n",
    "    for i,user_id in enumerate(users):\n",
    "        data = CC.get_stream(stream_name,user_id=user_id)\n",
    "        if activity=='stationery':\n",
    "            data = get_shortened_data(data,minutes=3000,window_size=20)\n",
    "        data = data.toPandas()\n",
    "        data  = data.sort_values('timestamp').reset_index(drop=True)\n",
    "#         if activity == 'stationery':\n",
    "#             data = data[int(data.shape[0]*training_percentage):] \n",
    "        data['time'] = data['start'].apply(lambda a:a.timestamp())\n",
    "        data['data'] = data['data'].apply(lambda a:np.array(a).reshape(1,-1,3))\n",
    "        if activity =='stationery':\n",
    "            training_data  = data\n",
    "            pickle.dump(training_data,open(directory+'training/'+str(user_id),'wb'))\n",
    "        else:\n",
    "            training_data = data[:int(data.shape[0]*training_percentage)] \n",
    "            testing_data = data[int(data.shape[0]*training_percentage):] \n",
    "            pickle.dump(training_data,open(directory+'training/'+str(user_id),'wb'))\n",
    "            pickle.dump(testing_data,open(directory+'testing/'+str(user_id),'wb'))\n",
    "        print(i,training_data.shape[0],end=',')\n",
    "    print()"
   ]
  },
  {
   "cell_type": "code",
   "execution_count": null,
   "metadata": {},
   "outputs": [],
   "source": [
    "import shutil"
   ]
  },
  {
   "cell_type": "code",
   "execution_count": null,
   "metadata": {},
   "outputs": [],
   "source": [
    "shutil.make_archive('./data/20/std/','zip','./data/20/std/')"
   ]
  },
  {
   "cell_type": "code",
   "execution_count": null,
   "metadata": {},
   "outputs": [],
   "source": [
    "data = data.withColumn('time',F.col('timestamp').cast('double'))"
   ]
  },
  {
   "cell_type": "code",
   "execution_count": null,
   "metadata": {},
   "outputs": [],
   "source": [
    "df = data.select('time').distinct().toPandas()['time'].values"
   ]
  },
  {
   "cell_type": "code",
   "execution_count": null,
   "metadata": {},
   "outputs": [],
   "source": [
    "activities = ['stationery']\n",
    "window_size = 20\n",
    "stream_name = 'org.md2k.feature.motionsensehrv.decoded.rightwrist.all.activity.all.three.'+str(window_size)+'.secs.'+str(activities[0])\n",
    "users = CC.get_stream(stream_name).select('user').distinct().toPandas()['user'].values"
   ]
  },
  {
   "cell_type": "code",
   "execution_count": null,
   "metadata": {},
   "outputs": [],
   "source": [
    "times = CC.get_stream(stream_name).select('timestamp').distinct().toPandas()['timestamp'].values"
   ]
  },
  {
   "cell_type": "code",
   "execution_count": null,
   "metadata": {},
   "outputs": [],
   "source": [
    "import os"
   ]
  },
  {
   "cell_type": "code",
   "execution_count": null,
   "metadata": {},
   "outputs": [],
   "source": [
    "len(os.listdir('./data/20/stationery/testing'))"
   ]
  },
  {
   "cell_type": "code",
   "execution_count": 1,
   "metadata": {},
   "outputs": [],
   "source": [
    "import shutil"
   ]
  },
  {
   "cell_type": "code",
   "execution_count": 5,
   "metadata": {},
   "outputs": [],
   "source": [
    "shutil.rmtree('./data/10/Sitting/')"
   ]
  },
  {
   "cell_type": "code",
   "execution_count": null,
   "metadata": {},
   "outputs": [],
   "source": []
  }
 ],
 "metadata": {
  "kernelspec": {
   "display_name": "High Performance CC3.3",
   "language": "python",
   "name": "cc33_high_performance"
  },
  "language_info": {
   "codemirror_mode": {
    "name": "ipython",
    "version": 3
   },
   "file_extension": ".py",
   "mimetype": "text/x-python",
   "name": "python",
   "nbconvert_exporter": "python",
   "pygments_lexer": "ipython3",
   "version": "3.6.8"
  }
 },
 "nbformat": 4,
 "nbformat_minor": 2
}
