{
 "cells": [
  {
   "cell_type": "code",
   "execution_count": 6,
   "metadata": {},
   "outputs": [],
   "source": [
    "import tensorflow as tf\n",
    "from tensorflow.keras.models import load_model\n",
    "import numpy as np\n",
    "import pandas as pd\n",
    "from pyspark.sql import functions as F\n",
    "from pyspark.sql.functions import pandas_udf, PandasUDFType\n",
    "from pyspark.sql.types import StructField, StructType, DoubleType,MapType, StringType,ArrayType, FloatType, TimestampType, IntegerType\n",
    "from cerebralcortex.core.datatypes import DataStream\n",
    "from cerebralcortex.core.metadata_manager.stream.metadata import Metadata, DataDescriptor, \\\n",
    "ModuleMetadata\n",
    "from scipy import signal\n",
    "from scipy.interpolate import interp1d\n",
    "from cerebralcortex import Kernel\n",
    "from scipy.stats import skew,kurtosis,mode\n",
    "from collections import Counter\n",
    "import pandas as pd\n",
    "import os\n",
    "import warnings\n",
    "warnings.filterwarnings('ignore')\n",
    "import pickle\n",
    "CC = Kernel(\"/home/jupyter/cc3_conf/\", study_name='mperf')"
   ]
  },
  {
   "cell_type": "code",
   "execution_count": null,
   "metadata": {},
   "outputs": [
    {
     "name": "stdout",
     "output_type": "stream",
     "text": [
      "--------------------stationery--------------------\n",
      "0 3000,1 3000,2 3000,3 19,4 1,5 3000,6 65,7 3000,8 3000,9 3000,10 3000,11 3000,12 3000,13 907,14 795,15 3000,16 3000,17 3000,18 3000,19 3000,20 3000,21 3000,22 3000,23 3000,24 3000,25 3000,26 3000,27 20,28 3000,29 3000,30 3000,31 3000,32 3000,33 3000,34 3000,35 3000,36 3000,37 3000,38 412,39 3000,40 3000,41 3000,42 3000,43 3000,44 3000,45 3000,153 3000,154 3000,155 3000,156 3000,157 121,158 3000,159 3000,160 3000,161 3000,162 3000,163 3000,164 5,165 3000,166 3000,167 3000,168 2131,169 3000,170 3000,171 3000,172 3000,173 3000,174 3000,175 1537,176 3000,177 3000,178 3000,179 3000,180 2205,181 3000,182 3000,183 3000,184 3000,185 3000,186 3000,187 3000,188 3000,189 1753,190 3000,191 3000,192 3000,193 3000,194 3000,195 3000,196 3000,197 3000,198 337,199 3000,200 1747,201 3000,202 3000,203 3000,204 3000,205 396,206 3000,207 3000,208 3000,209 3000,210 3000,211 49,212 3000,213 3000,214 822,215 50,216 3000,217 3000,218 103,219 3000,220 3000,221 3000,222 3000,223 3000,224 3000,225 27,226 3000,227 3000,228 3000,229 3000,230 3000,231 2653,232 3000,233 3000,234 3000,235 3000,236 3000,237 3000,238 3000,239 3000,240 1884,241 3000,242 3000,243 3000,244 3000,245 3000,246 146,247 3000,248 3000,249 3000,250 3000,251 3000,252 3000,253 1723,254 3000,255 3000,256 3000,257 3000,258 3000,259 3000,260 3000,261 3000,262 3000,263 3000,264 3000,265 3000,266 3000,267 3000,268 3000,269 3000,270 3000,271 162,272 3000,273 3000,274 3000,275 3000,276 3000,277 3000,278 73,279 3000,280 3000,281 3000,282 3000,283 3000,284 2631,285 3000,286 3000,287 3000,288 3000,289 3000,290 3000,291 26,292 60,293 34,294 3000,295 3000,296 3000,297 3000,298 3000,299 3000,300 3000,301 3000,302 3000,303 3000,304 3000,305 3000,306 3000,307 3000,308 43,309 3000,310 3000,311 3000,312 3000,313 3000,314 3000,315 3000,316 819,317 1172,318 217,319 22,320 3000,321 3000,322 3000,323 3000,324 2924,325 3000,326 3000,327 3000,328 3000,329 3000,330 3000,331 243,332 3000,333 3000,334 3000,335 3000,336 3000,337 3000,338 3000,339 3000,340 3000,341 3000,342 3000,343 3000,344 102,345 688,346 3000,347 3000,348 3000,349 3000,350 3000,351 3000,352 3000,353 3000,354 241,355 3000,"
     ]
    }
   ],
   "source": [
    "def get_shortened_data(data_windowed,minutes=2000,window_size=20,training_percentage=.8):\n",
    "    schema = data_windowed.schema\n",
    "    @pandas_udf(schema, PandasUDFType.GROUPED_MAP)\n",
    "    def get_user_data(df):\n",
    "        df = df[int(df.shape[0]*training_percentage):]\n",
    "        return df\n",
    "    data_windowed = data_windowed.groupBy(['user','day']).apply(get_user_data)\n",
    "    n = int(minutes*60/window_size)\n",
    "    @pandas_udf(schema, PandasUDFType.GROUPED_MAP)\n",
    "    def get_user_data_sort(df):\n",
    "        df = df.sort_values('timestamp').reset_index(drop=True)\n",
    "        if n>=df.shape[0]//2:\n",
    "            m = df.shape[0]//2\n",
    "        else:\n",
    "            m = n\n",
    "        df = df[int(df.shape[0]-m):]\n",
    "        return df\n",
    "    data_windowed = data_windowed.groupBy('user').apply(get_user_data_sort)\n",
    "    return data_windowed\n",
    "    \n",
    "activities = ['stationery']\n",
    "window_size = 20\n",
    "training_percentage = .8\n",
    "activity = activities[0]\n",
    "for activity in activities:\n",
    "    print('-'*20+activity+'-'*20)\n",
    "    directory = './data/'+str(window_size)+'/'+activity+'/'\n",
    "    if not os.path.isdir(directory+'training'):\n",
    "        os.makedirs(directory+'training')\n",
    "    if not os.path.isdir(directory+'testing'):\n",
    "        os.makedirs(directory+'testing')\n",
    "    stream_name = 'org.md2k.feature.motionsensehrv.decoded.rightwrist.all.activity.all.three.'+str(window_size)+'.secs.'+str(activity)\n",
    "    users = CC.get_stream(stream_name).select('user').distinct().toPandas()['user'].values\n",
    "    for i,user_id in enumerate(users):\n",
    "        data = CC.get_stream(stream_name,user_id=user_id)\n",
    "        if activity=='stationery':\n",
    "            data = get_shortened_data(data,minutes=1000,window_size=20)\n",
    "        data = data.toPandas()\n",
    "        data  = data.sort_values('timestamp').reset_index(drop=True)\n",
    "#         if activity == 'stationery':\n",
    "#             data = data[int(data.shape[0]*training_percentage):] \n",
    "        data['time'] = data['start'].apply(lambda a:a.timestamp())\n",
    "        data['data'] = data['data'].apply(lambda a:np.array(a).reshape(1,-1,3))\n",
    "        if activity =='stationery':\n",
    "            testing_data  = data\n",
    "            pickle.dump(testing_data,open(directory+'testing/'+str(user_id),'wb'))\n",
    "        else:\n",
    "            training_data = data[:int(data.shape[0]*training_percentage)] \n",
    "            testing_data = data[int(data.shape[0]*training_percentage):] \n",
    "            pickle.dump(training_data,open(directory+'training/'+str(user_id),'wb'))\n",
    "            pickle.dump(testing_data,open(directory+'testing/'+str(user_id),'wb'))\n",
    "        print(i,testing_data.shape[0],end=',')\n",
    "    print()"
   ]
  },
  {
   "cell_type": "code",
   "execution_count": null,
   "metadata": {},
   "outputs": [],
   "source": [
    "import shutil"
   ]
  },
  {
   "cell_type": "code",
   "execution_count": null,
   "metadata": {},
   "outputs": [],
   "source": [
    "shutil.make_archive('./data/20/std/','zip','./data/20/std/')"
   ]
  },
  {
   "cell_type": "code",
   "execution_count": null,
   "metadata": {},
   "outputs": [],
   "source": [
    "data = data.withColumn('time',F.col('timestamp').cast('double'))"
   ]
  },
  {
   "cell_type": "code",
   "execution_count": null,
   "metadata": {},
   "outputs": [],
   "source": [
    "df = data.select('time').distinct().toPandas()['time'].values"
   ]
  },
  {
   "cell_type": "code",
   "execution_count": null,
   "metadata": {},
   "outputs": [],
   "source": [
    "activities = ['stationery']\n",
    "window_size = 20\n",
    "stream_name = 'org.md2k.feature.motionsensehrv.decoded.rightwrist.all.activity.all.three.'+str(window_size)+'.secs.'+str(activities[0])\n",
    "users = CC.get_stream(stream_name).select('user').distinct().toPandas()['user'].values"
   ]
  },
  {
   "cell_type": "code",
   "execution_count": null,
   "metadata": {},
   "outputs": [],
   "source": [
    "times = CC.get_stream(stream_name).select('timestamp').distinct().toPandas()['timestamp'].values"
   ]
  },
  {
   "cell_type": "code",
   "execution_count": null,
   "metadata": {},
   "outputs": [],
   "source": []
  }
 ],
 "metadata": {
  "kernelspec": {
   "display_name": "High Performance CC3.3",
   "language": "python",
   "name": "cc33_high_performance"
  },
  "language_info": {
   "codemirror_mode": {
    "name": "ipython",
    "version": 3
   },
   "file_extension": ".py",
   "mimetype": "text/x-python",
   "name": "python",
   "nbconvert_exporter": "python",
   "pygments_lexer": "ipython3",
   "version": "3.6.8"
  }
 },
 "nbformat": 4,
 "nbformat_minor": 2
}
