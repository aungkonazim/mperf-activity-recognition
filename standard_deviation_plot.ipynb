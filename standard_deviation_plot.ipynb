{
 "cells": [
  {
   "cell_type": "code",
   "execution_count": null,
   "metadata": {},
   "outputs": [],
   "source": [
    "import pickle\n",
    "import pandas as pd\n",
    "import numpy as np"
   ]
  },
  {
   "cell_type": "code",
   "execution_count": null,
   "metadata": {},
   "outputs": [],
   "source": [
    "import os\n",
    "def get_testing_data(directory,min_length,window_size,maxlen = float('inf')):\n",
    "    X = []\n",
    "    y = []\n",
    "    n = 60//window_size\n",
    "    count  = 0\n",
    "    for f in os.listdir(directory):\n",
    "        if f[0]=='.':\n",
    "            continue\n",
    "        data = pickle.load(open(directory+f,'rb'))\n",
    "        if data.shape[0]//n<min_length:\n",
    "            continue\n",
    "        count+=data.shape[0]\n",
    "        \n",
    "        X.append(np.concatenate(list(data['data'])))\n",
    "        y.extend([f]*data.shape[0])\n",
    "        if count>=maxlen:\n",
    "            break\n",
    "    return np.concatenate(X),np.array(y)\n",
    "activities = ['stationery','stairs','sports','walking']\n",
    "min_length = 100\n",
    "window_size = 20\n",
    "maxlen = 10000000\n",
    "std_df = []\n",
    "for activity in activities:\n",
    "    data_directory = './data/'+str(window_size)+'/'+activity+'/testing/'\n",
    "    X,y = get_testing_data(data_directory,min_length,window_size,maxlen=maxlen)\n",
    "    X_magnitude = np.array([np.sqrt(np.sum(np.square(a),axis=1)) for a in X])\n",
    "    X_std = np.std(X_magnitude,axis=1)\n",
    "#     if activity in ['stairs','walking']:\n",
    "#         activity = 'Walking & Stairs'\n",
    "    if activity in ['stairs','walking','exercise']:\n",
    "        X_std = X_std[X_std>=.025]\n",
    "#     elif activity == 'stationery':\n",
    "#         X_std = X_std[X_std>=.005]\n",
    "    std_df.append(pd.DataFrame({'std':np.array(X_std),'activity':[activity]*len(X_std)}))\n",
    "df = pd.concat(std_df)"
   ]
  },
  {
   "cell_type": "code",
   "execution_count": null,
   "metadata": {},
   "outputs": [],
   "source": [
    "import seaborn as sns\n",
    "import matplotlib.pyplot as plt\n",
    "plt.rcParams.update({'font.size':30})\n",
    "plt.figure(figsize=(15,8))\n",
    "sns.boxplot(x='activity',y='std',data=df,showfliers=False)\n",
    "plt.xlabel('Activity Type')\n",
    "plt.ylabel('Accelerometer\\n Standard Deviation')\n",
    "plt.tight_layout()\n",
    "plt.savefig('./images/boxplot_of_std_activities.png')\n",
    "plt.show()"
   ]
  },
  {
   "cell_type": "code",
   "execution_count": null,
   "metadata": {},
   "outputs": [],
   "source": [
    "df['Activity Type'] = df['activity']\n",
    "plt.rcParams.update({'font.size':30})\n",
    "plt.figure(figsize=(15,8))\n",
    "sns.histplot(df,x='std',hue='Activity Type',stat='density',kde=True)\n",
    "plt.xlim([0,.5])\n",
    "plt.ylim([0,15])\n",
    "plt.xlabel('Accelerometer\\n Standard Deviation')\n",
    "plt.tight_layout()\n",
    "plt.savefig('./images/histogram_of_std_activities.png')\n",
    "plt.show()"
   ]
  },
  {
   "cell_type": "code",
   "execution_count": null,
   "metadata": {},
   "outputs": [],
   "source": []
  }
 ],
 "metadata": {
  "kernelspec": {
   "display_name": "CC3.3",
   "language": "python",
   "name": "cc33"
  },
  "language_info": {
   "codemirror_mode": {
    "name": "ipython",
    "version": 3
   },
   "file_extension": ".py",
   "mimetype": "text/x-python",
   "name": "python",
   "nbconvert_exporter": "python",
   "pygments_lexer": "ipython3",
   "version": "3.6.8"
  }
 },
 "nbformat": 4,
 "nbformat_minor": 2
}
