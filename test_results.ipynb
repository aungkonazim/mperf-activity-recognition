{
 "cells": [
  {
   "cell_type": "code",
   "execution_count": 1,
   "metadata": {},
   "outputs": [],
   "source": [
    "import tensorflow as tf\n",
    "import os\n",
    "\n",
    "import pickle\n",
    "window_size = 20\n",
    "train_length = 120\n",
    "activity = 'walking'\n",
    "n_user  = 333\n",
    "model_directory = './models/'+str(window_size)+'/'+activity+'/'+str(n_user)+'/'+str(train_length)+'/'\n",
    "\n",
    "model = tf.keras.models.load_model(model_directory+'trained_model_seed_4_iteration_0.hdf5')\n",
    "\n",
    "user_dict = pickle.load(open(model_directory+'user_dict_seed_4_iteration_0.p','rb'))\n",
    "\n",
    "data_directory = './data/'+str(window_size)+'/'+activity+'/testing/'\n",
    "\n",
    "from sklearn.metrics import accuracy_score\n",
    "import numpy as np\n",
    "def get_training_data(directory,\n",
    "                      test_length,\n",
    "                      user_dict,\n",
    "                      window_size,\n",
    "                      model):\n",
    "    n = 60//window_size\n",
    "    users = list(user_dict.keys())\n",
    "    results = []\n",
    "    for f in users:\n",
    "        df = pickle.load(open(directory+f,'rb'))\n",
    "        X = np.concatenate(list(df['data']))\n",
    "        pred = model.predict(X).argmax(axis=1)\n",
    "        results.append(accuracy_score([user_dict[f]]*df.shape[0],pred))\n",
    "    return results\n",
    "\n",
    "results = get_training_data(data_directory,1,user_dict,window_size,model)\n",
    "\n",
    "np.mean(results)"
   ]
  },
  {
   "cell_type": "code",
   "execution_count": null,
   "metadata": {},
   "outputs": [],
   "source": []
  }
 ],
 "metadata": {
  "kernelspec": {
   "display_name": "tensorflow",
   "language": "python",
   "name": "tensorflow"
  },
  "language_info": {
   "codemirror_mode": {
    "name": "ipython",
    "version": 3
   },
   "file_extension": ".py",
   "mimetype": "text/x-python",
   "name": "python",
   "nbconvert_exporter": "python",
   "pygments_lexer": "ipython3",
   "version": "3.7.10"
  }
 },
 "nbformat": 4,
 "nbformat_minor": 2
}
