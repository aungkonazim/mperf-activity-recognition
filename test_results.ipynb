{
 "cells": [
  {
   "cell_type": "code",
   "execution_count": 6,
   "metadata": {},
   "outputs": [],
   "source": [
    "import tensorflow as tf\n",
    "import os\n",
    "import pickle\n",
    "import pandas as pd\n",
    "import numpy as np\n",
    "\n",
    "def get_testing_data(directory,min_length,window_size):\n",
    "    X = []\n",
    "    y = []\n",
    "    n = 60//window_size\n",
    "    for f in os.listdir(directory):\n",
    "        if f[0]=='.':\n",
    "            continue\n",
    "        data = pickle.load(open(directory+f,'rb'))\n",
    "        if data.shape[0]//n<min_length:\n",
    "            continue\n",
    "        X.append(np.concatenate(list(data['data'])))\n",
    "        y.extend([f]*data.shape[0])\n",
    "    return np.concatenate(X),np.array(y)\n",
    "\n",
    "window_size = 20\n",
    "activity = 'walking'\n",
    "n_user  = 333\n",
    "min_length = 10\n",
    "data_directory = './data/'+str(window_size)+'/'+activity+'/testing/'\n",
    "model_directory = './models/'+str(window_size)+'/'+activity+'/'+str(n_user)+'/'\n",
    "train_lengths = os.listdir(model_directory)\n",
    "X,y = get_testing_data(data_directory,min_length,window_size)"
   ]
  },
  {
   "cell_type": "code",
   "execution_count": 16,
   "metadata": {},
   "outputs": [
    {
     "name": "stdout",
     "output_type": "stream",
     "text": [
      "[('./models/20/walking/333/120/trainedmodel_seed_100_iteration_0.hdf5', './models/20/walking/333/120/userdict_seed_100_iteration_0.p'), ('./models/20/walking/333/120/trainedmodel_seed_100_iteration_1.hdf5', './models/20/walking/333/120/userdict_seed_100_iteration_1.p'), ('./models/20/walking/333/120/trainedmodel_seed_100_iteration_2.hdf5', './models/20/walking/333/120/userdict_seed_100_iteration_2.p')]\n",
      "[('./models/20/walking/333/10/trainedmodel_seed_100_iteration_0.hdf5', './models/20/walking/333/10/userdict_seed_100_iteration_0.p'), ('./models/20/walking/333/10/trainedmodel_seed_100_iteration_1.hdf5', './models/20/walking/333/10/userdict_seed_100_iteration_1.p'), ('./models/20/walking/333/10/trainedmodel_seed_100_iteration_2.hdf5', './models/20/walking/333/10/userdict_seed_100_iteration_2.p')]\n",
      "[('./models/20/walking/333/20/trainedmodel_seed_100_iteration_0.hdf5', './models/20/walking/333/20/userdict_seed_100_iteration_0.p'), ('./models/20/walking/333/20/trainedmodel_seed_100_iteration_1.hdf5', './models/20/walking/333/20/userdict_seed_100_iteration_1.p'), ('./models/20/walking/333/20/trainedmodel_seed_100_iteration_2.hdf5', './models/20/walking/333/20/userdict_seed_100_iteration_2.p')]\n",
      "[('./models/20/walking/333/30/trainedmodel_seed_100_iteration_0.hdf5', './models/20/walking/333/30/userdict_seed_100_iteration_0.p'), ('./models/20/walking/333/30/trainedmodel_seed_100_iteration_1.hdf5', './models/20/walking/333/30/userdict_seed_100_iteration_1.p'), ('./models/20/walking/333/30/trainedmodel_seed_100_iteration_2.hdf5', './models/20/walking/333/30/userdict_seed_100_iteration_2.p')]\n",
      "[('./models/20/walking/333/40/trainedmodel_seed_100_iteration_0.hdf5', './models/20/walking/333/40/userdict_seed_100_iteration_0.p'), ('./models/20/walking/333/40/trainedmodel_seed_100_iteration_1.hdf5', './models/20/walking/333/40/userdict_seed_100_iteration_1.p'), ('./models/20/walking/333/40/trainedmodel_seed_100_iteration_2.hdf5', './models/20/walking/333/40/userdict_seed_100_iteration_2.p')]\n",
      "[('./models/20/walking/333/50/trainedmodel_seed_100_iteration_0.hdf5', './models/20/walking/333/50/userdict_seed_100_iteration_0.p'), ('./models/20/walking/333/50/trainedmodel_seed_100_iteration_1.hdf5', './models/20/walking/333/50/userdict_seed_100_iteration_1.p'), ('./models/20/walking/333/50/trainedmodel_seed_100_iteration_2.hdf5', './models/20/walking/333/50/userdict_seed_100_iteration_2.p')]\n",
      "[('./models/20/walking/333/60/trainedmodel_seed_100_iteration_0.hdf5', './models/20/walking/333/60/userdict_seed_100_iteration_0.p'), ('./models/20/walking/333/60/trainedmodel_seed_100_iteration_1.hdf5', './models/20/walking/333/60/userdict_seed_100_iteration_1.p'), ('./models/20/walking/333/60/trainedmodel_seed_100_iteration_2.hdf5', './models/20/walking/333/60/userdict_seed_100_iteration_2.p')]\n",
      "[('./models/20/walking/333/90/trainedmodel_seed_100_iteration_0.hdf5', './models/20/walking/333/90/userdict_seed_100_iteration_0.p'), ('./models/20/walking/333/90/trainedmodel_seed_100_iteration_1.hdf5', './models/20/walking/333/90/userdict_seed_100_iteration_1.p'), ('./models/20/walking/333/90/trainedmodel_seed_100_iteration_2.hdf5', './models/20/walking/333/90/userdict_seed_100_iteration_2.p')]\n",
      "[('./models/20/walking/333/150/trainedmodel_seed_100_iteration_0.hdf5', './models/20/walking/333/150/userdict_seed_100_iteration_0.p'), ('./models/20/walking/333/150/trainedmodel_seed_100_iteration_1.hdf5', './models/20/walking/333/150/userdict_seed_100_iteration_1.p'), ('./models/20/walking/333/150/trainedmodel_seed_100_iteration_2.hdf5', './models/20/walking/333/150/userdict_seed_100_iteration_2.p')]\n",
      "[('./models/20/walking/333/180/trainedmodel_seed_100_iteration_0.hdf5', './models/20/walking/333/180/userdict_seed_100_iteration_0.p'), ('./models/20/walking/333/180/trainedmodel_seed_100_iteration_1.hdf5', './models/20/walking/333/180/userdict_seed_100_iteration_1.p'), ('./models/20/walking/333/180/trainedmodel_seed_100_iteration_2.hdf5', './models/20/walking/333/180/userdict_seed_100_iteration_2.p')]\n"
     ]
    }
   ],
   "source": [
    "def get_dictfilename(a):\n",
    "    a = a.replace('trainedmodel','userdict').replace('hdf5','p')\n",
    "    return a\n",
    "for f in os.listdir(model_directory):\n",
    "    model_files = [model_directory+f+'/'+a for a in os.listdir(model_directory+f) if a[-1]=='5']\n",
    "    dict_files = [get_dictfilename(a) for a in model_files]\n",
    "    print(list(zip(model_files,dict_files)))"
   ]
  },
  {
   "cell_type": "code",
   "execution_count": 2,
   "metadata": {},
   "outputs": [
    {
     "data": {
      "text/plain": [
       "['120', '10', '20', '30', '40', '50', '60', '90', '150', '180']"
      ]
     },
     "execution_count": 2,
     "metadata": {},
     "output_type": "execute_result"
    }
   ],
   "source": [
    "# model = tf.keras.models.load_model(model_directory+'trained_model_seed_4_iteration_0.hdf5')\n",
    "\n",
    "# user_dict = pickle.load(open(model_directory+'user_dict_seed_4_iteration_0.p','rb'))\n",
    "\n",
    "# data_directory = './data/'+str(window_size)+'/'+activity+'/testing/'\n",
    "\n",
    "# from sklearn.metrics import accuracy_score\n",
    "# import numpy as np\n",
    "# def get_training_data(directory,\n",
    "#                       test_length,\n",
    "#                       user_dict,\n",
    "#                       window_size,\n",
    "#                       model):\n",
    "#     n = 60//window_size\n",
    "#     users = list(user_dict.keys())\n",
    "#     results = []\n",
    "#     for f in users:\n",
    "#         df = pickle.load(open(directory+f,'rb'))\n",
    "#         X = np.concatenate(list(df['data']))\n",
    "#         pred = model.predict(X).argmax(axis=1)\n",
    "#         results.append(accuracy_score([user_dict[f]]*df.shape[0],pred))\n",
    "#     return results\n",
    "\n",
    "# results = get_training_data(data_directory,1,user_dict,window_size,model)\n",
    "\n",
    "# np.mean(results)"
   ]
  },
  {
   "cell_type": "code",
   "execution_count": 14,
   "metadata": {},
   "outputs": [],
   "source": [
    "a = 'ststs'"
   ]
  },
  {
   "cell_type": "code",
   "execution_count": 15,
   "metadata": {},
   "outputs": [
    {
     "data": {
      "text/plain": [
       "'rtrtr'"
      ]
     },
     "execution_count": 15,
     "metadata": {},
     "output_type": "execute_result"
    }
   ],
   "source": [
    "a.replace('s','r')"
   ]
  },
  {
   "cell_type": "code",
   "execution_count": null,
   "metadata": {},
   "outputs": [],
   "source": []
  }
 ],
 "metadata": {
  "kernelspec": {
   "display_name": "High Performance CC3.3",
   "language": "python",
   "name": "cc33_high_performance"
  },
  "language_info": {
   "codemirror_mode": {
    "name": "ipython",
    "version": 3
   },
   "file_extension": ".py",
   "mimetype": "text/x-python",
   "name": "python",
   "nbconvert_exporter": "python",
   "pygments_lexer": "ipython3",
   "version": "3.6.8"
  }
 },
 "nbformat": 4,
 "nbformat_minor": 2
}
