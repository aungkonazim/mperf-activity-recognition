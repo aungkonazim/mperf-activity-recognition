{
 "cells": [
  {
   "cell_type": "code",
   "execution_count": 1,
   "metadata": {},
   "outputs": [],
   "source": [
    "import tensorflow as tf\n",
    "from tensorflow.keras.models import load_model\n",
    "import numpy as np\n",
    "import pandas as pd\n",
    "from pyspark.sql import functions as F\n",
    "from pyspark.sql.functions import pandas_udf, PandasUDFType\n",
    "from pyspark.sql.types import StructField, StructType, DoubleType,MapType, StringType,ArrayType, FloatType, TimestampType, IntegerType\n",
    "from cerebralcortex.core.datatypes import DataStream\n",
    "from cerebralcortex.core.metadata_manager.stream.metadata import Metadata, DataDescriptor, \\\n",
    "ModuleMetadata\n",
    "from scipy import signal\n",
    "from scipy.interpolate import interp1d\n",
    "from cerebralcortex import Kernel\n",
    "from scipy.stats import skew,kurtosis,mode\n",
    "from collections import Counter\n",
    "CC = Kernel(\"/home/jupyter/cc3_conf/\", study_name='mperf')"
   ]
  },
  {
   "cell_type": "code",
   "execution_count": 2,
   "metadata": {},
   "outputs": [],
   "source": [
    "def get_data_for_saving(data,\n",
    "                        data_acl,\n",
    "                        stream_name = 'org.md2k.feature.motionsensehrv.decoded.rightwrist.all.activity',\n",
    "                        acl_stream_name = 'org.md2k.feature.motionsensehrv.decoded.rightwrist.all',\n",
    "                        activities = ['Walking'],\n",
    "                        window_size = 60,\n",
    "                        base_window_size  = 10):\n",
    "\n",
    "    data = data.select('localtime','timestamp','day','prediction','user','version')\n",
    "    data  = data.filter(F.col('prediction').isin(activities))\n",
    "    groupbycols = ['user','version','day',F.window('timestamp',windowDuration=str(window_size)+' seconds', startTime='0 seconds')]\n",
    "    data_windowed = data.groupBy(groupbycols).agg(F.collect_list('prediction')).withColumnRenamed('collect_list(prediction)','prediction')\n",
    "#     data_windowed = data_windowed.filter(F.size(F.col('prediction'))==window_size//base_window_size)\n",
    "#     def get_most_frequent(a):\n",
    "#         return Counter(a).most_common()[0][0]\n",
    "#     qfunction = F.udf(get_most_frequent,StringType())\n",
    "#     data_windowed = data_windowed.withColumn('prediction',qfunction(data_windowed['prediction']))\n",
    "    data_windowed = data_windowed.withColumn('prediction',F.col('prediction').getItem(0))\n",
    "    \n",
    "    data_acl = data_acl.select('localtime','timestamp','aclx','acly','aclz','user','version')\n",
    "    data_acl = data_acl.withColumn('time',F.col('timestamp').cast('double'))\n",
    "    data_acl = data_acl.withColumn('data',F.array('time','aclx','acly','aclz')).drop('time','aclx','acly','aclz')\n",
    "    groupbycols = ['user','version',F.window('timestamp',windowDuration=str(window_size)+' seconds', startTime='0 seconds')]\n",
    "    data_acl_windowed = data_acl.groupBy(groupbycols).agg(F.collect_list('data')).withColumnRenamed('collect_list(data)','data')\n",
    "    data_joined = data_windowed.join(data_acl_windowed,on=['user','window'],how='inner')\n",
    "    \n",
    "#     def reshape_data(a):\n",
    "# #         a = np.array([np.array(b) for b in a])\n",
    "# #         a = a[a[:,0].argsort()]\n",
    "# #         return list(a.reshape(-1))\n",
    "#         return [1,2,3,4]\n",
    "#     qfunction = F.udf(reshape_data,ArrayType(DoubleType()))\n",
    "#     data_joined_final = data_joined.withColumn('data',qfunction(data_joined['data']))\n",
    "\n",
    "    schema = data_joined.schema\n",
    "    stream_metadata = Metadata()\n",
    "    stream_metadata.set_name(stream_name+'.'+str(window_size)+'.secs').set_description(\"ACL data saving for REID model, window size = \"+str(window_size)+' secs')\n",
    "    for field in schema.fields:\n",
    "        stream_metadata.add_dataDescriptor(\n",
    "            DataDescriptor().set_name(str(field.name)).set_type(str(field.dataType))\n",
    "        )\n",
    "    stream_metadata.add_module(\n",
    "        ModuleMetadata().set_name(\"ACL data saving for REID model, window size = \"+str(window_size)+' secs') \\\n",
    "        .set_attribute(\"url\", \"https://md2k.org\").set_author(\n",
    "            \"Md Azim Ullah\", \"mullah@memphis.edu\"))\n",
    "    ds = DataStream(data=data_joined,metadata=stream_metadata)\n",
    "    return ds"
   ]
  },
  {
   "cell_type": "code",
   "execution_count": 4,
   "metadata": {},
   "outputs": [
    {
     "name": "stdout",
     "output_type": "stream",
     "text": [
      "0,1,2,3,4,5,6,7,8,9,10,11,12,13,14,15,16,17,18,19,20,21,22,23,24,25,26,27,28,29,30,31,32,33,34,35,36,37,38,39,40,41,42,43,44,45,46,47,48,49,50,51,52,53,54,55,56,57,58,59,60,61,62,63,64,65,66,67,68,69,70,71,72,73,74,75,76,77,78,79,80,81,82,83,84,85,86,87,88,89,90,91,92,93,94,95,96,97,98,99,100,101,102,103,104,105,106,107,108,109,110,111,112,113,114,115,116,117,118,119,120,121,122,123,124,125,126,127,128,129,130,131,132,133,134,135,136,137,138,139,140,141,142,143,144,145,146,147,148,149,150,151,152,153,154,155,156,157,158,159,160,161,162,163,164,165,166,167,168,169,170,171,172,173,174,175,176,177,178,179,180,181,182,183,184,185,186,187,188,189,190,191,192,193,194,195,196,197,198,199,200,201,202,203,204,205,206,207,208,209,210,211,212,213,214,215,216,217,218,219,220,221,222,223,224,225,226,227,228,229,230,231,232,233,234,235,236,237,238,239,240,241,242,243,244,245,246,247,248,249,250,251,252,253,254,255,256,257,258,259,260,261,262,263,264,265,266,267,268,269,270,271,272,273,274,275,276,277,278,279,280,281,282,283,284,285,286,287,288,289,290,291,292,293,294,295,296,297,298,299,300,301,302,303,304,305,306,307,308,309,310,311,312,313,314,315,316,317,318,319,320,321,322,323,324,325,326,327,328,329,330,331,332,333,334,335,336,337,338,339,340,341,342,343,344,345,346,347,348,349,350,351,352,353,354,355,356,357,358,359,360,361,362,363,364,365,366,367,368,369,370,371,372,373,374,375,376,377,378,379,380,381,382,383,384,385,386,387,"
     ]
    }
   ],
   "source": [
    "import pickle\n",
    "base_window_size = 10\n",
    "window_size = 10\n",
    "stream_name = 'org.md2k.feature.motionsensehrv.decoded.rightwrist.all.activity'\n",
    "activities = ['Walking']\n",
    "acl_stream_name = 'org.md2k.feature.motionsensehrv.decoded.rightwrist.all'\n",
    "user_id1 = '6676c0e9-c6a6-413e-8355-fea361685385'\n",
    "users = pickle.load(open('./data/users.p','rb'))\n",
    "for i,user_id in enumerate(users):\n",
    "    if user_id==user_id1:\n",
    "        continue\n",
    "    data = CC.get_stream(stream_name,user_id=user_id)\n",
    "    data_acl = CC.get_stream(acl_stream_name,user_id=user_id)\n",
    "    data_final = get_data_for_saving(data,\n",
    "                            data_acl,\n",
    "                            stream_name = stream_name,\n",
    "                            acl_stream_name = acl_stream_name,\n",
    "                            activities = activities,\n",
    "                            window_size = window_size,\n",
    "                            base_window_size  = base_window_size)\n",
    "    CC.save_stream(data_final,overwrite=False)\n",
    "    print(i,end=',')"
   ]
  },
  {
   "cell_type": "code",
   "execution_count": null,
   "metadata": {},
   "outputs": [],
   "source": [
    "data_final.count()"
   ]
  },
  {
   "cell_type": "code",
   "execution_count": null,
   "metadata": {},
   "outputs": [],
   "source": [
    "filtered_data = data.filter(F.col('prediction').isin(activities))"
   ]
  },
  {
   "cell_type": "code",
   "execution_count": null,
   "metadata": {},
   "outputs": [],
   "source": [
    "filtered_data.count()"
   ]
  },
  {
   "cell_type": "code",
   "execution_count": null,
   "metadata": {},
   "outputs": [],
   "source": [
    "data_final.count()"
   ]
  },
  {
   "cell_type": "code",
   "execution_count": null,
   "metadata": {},
   "outputs": [],
   "source": [
    "base_window_size = 10\n",
    "import pickle\n",
    "stream_name = 'org.md2k.feature.motionsensehrv.decoded.rightwrist.all.activity'\n",
    "activities = ['Walking']\n",
    "window_size = 20\n",
    "acl_stream_name = 'org.md2k.feature.motionsensehrv.decoded.rightwrist.all'\n",
    "user_id1 = '3ca3dbf5-2390-409e-bd2c-c9f23a255e75'\n",
    "users = pickle.load(open('./data/users.p','rb'))\n",
    "for user_id in users:\n",
    "    if user_id==user_id1:\n",
    "        continue\n",
    "    data = CC.get_stream(stream_name,user_id=user_id)\n",
    "    data_acl = CC.get_stream(acl_stream_name,user_id=user_id)\n",
    "    data_final = get_data_for_saving(data,\n",
    "                            data_acl,\n",
    "                            stream_name = stream_name,\n",
    "                            acl_stream_name = acl_stream_name,\n",
    "                            activities = activities,\n",
    "                            window_size = window_size,\n",
    "                            base_window_size  = base_window_size)\n",
    "    CC.save_stream(data_final,overwrite=False)\n",
    "    data = CC.get_stream(stream_name+'.'+str(window_size)+'.secs',user_id=user_id)\n",
    "    df = data._data.toPandas()\n",
    "    pickle.dump(df,open('./data/right_wrist/'+user_id+'.p','wb'))\n",
    "    print(user_id)"
   ]
  },
  {
   "cell_type": "code",
   "execution_count": null,
   "metadata": {},
   "outputs": [],
   "source": [
    "data = CC.get_stream(stream_name+'.'+str(window_size)+'.secs')"
   ]
  },
  {
   "cell_type": "code",
   "execution_count": null,
   "metadata": {},
   "outputs": [],
   "source": [
    "df = data._data.toPandas()"
   ]
  },
  {
   "cell_type": "code",
   "execution_count": null,
   "metadata": {},
   "outputs": [],
   "source": [
    "import pickle\n",
    "pickle.dump(df,open('./data/right_wrist/'+user_id+'.p','wb'))"
   ]
  },
  {
   "cell_type": "code",
   "execution_count": null,
   "metadata": {},
   "outputs": [],
   "source": [
    "data_final.drop('data').show(1,False)"
   ]
  },
  {
   "cell_type": "code",
   "execution_count": null,
   "metadata": {},
   "outputs": [],
   "source": [
    "data = CC.get_stream('org.md2k.feature.motionsensehrv.decoded.rightwrist.all.activity.60.secs')"
   ]
  },
  {
   "cell_type": "code",
   "execution_count": null,
   "metadata": {},
   "outputs": [],
   "source": [
    "window_size = 20\n",
    "stream_name = 'org.md2k.feature.motionsensehrv.decoded.rightwrist.all.activity'\n",
    "data = CC.get_stream(stream_name+'.'+str(window_size)+'.secs')"
   ]
  },
  {
   "cell_type": "code",
   "execution_count": null,
   "metadata": {},
   "outputs": [],
   "source": [
    "data.count()"
   ]
  },
  {
   "cell_type": "code",
   "execution_count": null,
   "metadata": {},
   "outputs": [],
   "source": [
    "data = CC.get_stream('org.md2k.feature.motionsensehrv.decoded.rightwrist.all.activity')"
   ]
  },
  {
   "cell_type": "code",
   "execution_count": null,
   "metadata": {},
   "outputs": [],
   "source": [
    "data = data.drop('magnitude')"
   ]
  },
  {
   "cell_type": "code",
   "execution_count": null,
   "metadata": {},
   "outputs": [],
   "source": [
    "ds =  data.groupBy('prediction').count()"
   ]
  },
  {
   "cell_type": "code",
   "execution_count": null,
   "metadata": {},
   "outputs": [],
   "source": [
    "data.printSchema()"
   ]
  },
  {
   "cell_type": "code",
   "execution_count": null,
   "metadata": {},
   "outputs": [],
   "source": [
    "825139*10/3600"
   ]
  },
  {
   "cell_type": "code",
   "execution_count": null,
   "metadata": {},
   "outputs": [],
   "source": [
    "import os"
   ]
  },
  {
   "cell_type": "code",
   "execution_count": null,
   "metadata": {},
   "outputs": [],
   "source": [
    "len(os.listdir('./data/right_wrist/'))"
   ]
  },
  {
   "cell_type": "code",
   "execution_count": null,
   "metadata": {},
   "outputs": [],
   "source": [
    "import shutil"
   ]
  },
  {
   "cell_type": "code",
   "execution_count": 1,
   "metadata": {},
   "outputs": [],
   "source": [
    "import pickle"
   ]
  },
  {
   "cell_type": "code",
   "execution_count": 9,
   "metadata": {},
   "outputs": [],
   "source": [
    "import os\n",
    "hours = []\n",
    "for f in os.listdir('./data/right_wrist/'):\n",
    "    data = pickle.load(open('./data/right_wrist/'+f,'rb'))\n",
    "    hours.append(data.shape[0]*20/3600)"
   ]
  },
  {
   "cell_type": "code",
   "execution_count": 8,
   "metadata": {},
   "outputs": [
    {
     "data": {
      "text/plain": [
       "1.4277777777777778"
      ]
     },
     "execution_count": 8,
     "metadata": {},
     "output_type": "execute_result"
    }
   ],
   "source": [
    "data.shape[0]*20/3600"
   ]
  },
  {
   "cell_type": "code",
   "execution_count": 10,
   "metadata": {},
   "outputs": [],
   "source": [
    "import matplotlib.pyplot as plt"
   ]
  },
  {
   "cell_type": "code",
   "execution_count": 12,
   "metadata": {},
   "outputs": [],
   "source": [
    "from collections import Counter"
   ]
  },
  {
   "cell_type": "code",
   "execution_count": 16,
   "metadata": {},
   "outputs": [
    {
     "data": {
      "text/plain": [
       "Counter({4.0: 26,\n",
       "         5.0: 28,\n",
       "         0.0: 111,\n",
       "         3.0: 42,\n",
       "         1.0: 80,\n",
       "         2.0: 55,\n",
       "         6.0: 14,\n",
       "         11.0: 5,\n",
       "         7.0: 9,\n",
       "         10.0: 3,\n",
       "         14.0: 1,\n",
       "         28.0: 1,\n",
       "         8.0: 5,\n",
       "         9.0: 3,\n",
       "         16.0: 1,\n",
       "         13.0: 2,\n",
       "         225.0: 1,\n",
       "         18.0: 1,\n",
       "         12.0: 1})"
      ]
     },
     "execution_count": 16,
     "metadata": {},
     "output_type": "execute_result"
    }
   ],
   "source": [
    "import numpy as np\n",
    "Counter(np.floor(hours))"
   ]
  },
  {
   "cell_type": "code",
   "execution_count": null,
   "metadata": {},
   "outputs": [],
   "source": [
    "shutil.make_archive('./data/right_wrist/','zip','./data/right_wrist/')"
   ]
  },
  {
   "cell_type": "code",
   "execution_count": null,
   "metadata": {},
   "outputs": [],
   "source": [
    "import numpy as np\n",
    "import tensorflow as tf\n",
    "from tensorflow import keras\n",
    "from tensorflow.keras import layers\n",
    "import tensorflow as tf\n",
    "gpus = tf.config.experimental.list_physical_devices('GPU')\n",
    "if gpus:\n",
    "  # Restrict TensorFlow to only use the first GPU\n",
    "    try:\n",
    "        tf.config.experimental.set_visible_devices(gpus[0], 'GPU')\n",
    "        logical_gpus = tf.config.experimental.list_logical_devices('GPU')\n",
    "        print(len(gpus), \"Physical GPUs,\", len(logical_gpus), \"Logical GPU\")\n",
    "    except RuntimeError as e:\n",
    "        # Visible devices must be set before GPUs have been initialized\n",
    "        print(e)\n",
    "np.random.seed(100)"
   ]
  },
  {
   "cell_type": "code",
   "execution_count": null,
   "metadata": {},
   "outputs": [],
   "source": [
    "gpus"
   ]
  },
  {
   "cell_type": "code",
   "execution_count": null,
   "metadata": {},
   "outputs": [],
   "source": []
  }
 ],
 "metadata": {
  "kernelspec": {
   "display_name": "Python 3",
   "language": "python",
   "name": "python3"
  },
  "language_info": {
   "codemirror_mode": {
    "name": "ipython",
    "version": 3
   },
   "file_extension": ".py",
   "mimetype": "text/x-python",
   "name": "python",
   "nbconvert_exporter": "python",
   "pygments_lexer": "ipython3",
   "version": "3.8.5"
  }
 },
 "nbformat": 4,
 "nbformat_minor": 4
}
