{
 "cells": [
  {
   "cell_type": "code",
   "execution_count": 27,
   "metadata": {},
   "outputs": [
    {
     "name": "stderr",
     "output_type": "stream",
     "text": [
      "/cerebralcortex/kessel_jupyter_virtualenv/cc33/lib64/python3.6/site-packages/cerebralcortex/core/data_manager/raw/data.py:67: DeprecationWarning: pyarrow.hdfs.connect is deprecated as of 2.0.0, please use pyarrow.fs.HadoopFileSystem instead.\n",
      "  self.fs = pa.hdfs.connect(self.hdfs_ip, self.hdfs_port)\n"
     ]
    }
   ],
   "source": [
    "import tensorflow as tf\n",
    "from tensorflow.keras.models import load_model\n",
    "import numpy as np\n",
    "import pandas as pd\n",
    "from pyspark.sql import functions as F\n",
    "from pyspark.sql.functions import pandas_udf, PandasUDFType\n",
    "from pyspark.sql.types import StructField, StructType, DoubleType,MapType, StringType,ArrayType, FloatType, TimestampType, IntegerType\n",
    "from cerebralcortex.core.datatypes import DataStream\n",
    "from cerebralcortex.core.metadata_manager.stream.metadata import Metadata, DataDescriptor, \\\n",
    "ModuleMetadata\n",
    "from scipy import signal\n",
    "from scipy.interpolate import interp1d\n",
    "from cerebralcortex import Kernel\n",
    "from scipy.stats import skew,kurtosis,mode\n",
    "CC = Kernel(\"/home/jupyter/cc3_conf/\", study_name='mperf')"
   ]
  },
  {
   "cell_type": "markdown",
   "metadata": {},
   "source": [
    "Resampling mperf data to 20Hz and computes the magnitude and applies activity recognition model"
   ]
  },
  {
   "cell_type": "code",
   "execution_count": 2,
   "metadata": {},
   "outputs": [],
   "source": [
    "import tempfile\n",
    "import tensorflow\n",
    "\n",
    "def interpolate_acl(a,window_size=10,fs_now=25,fs_new=20):\n",
    "    x_now = np.linspace(0,window_size,window_size*fs_now)\n",
    "    f = interp1d(x_now,a,axis=0,fill_value='extrapolate')\n",
    "    x_new = np.linspace(0,window_size,window_size*fs_new)\n",
    "    return f(x_new)\n",
    "\n",
    "class ModelWrapperPickable:\n",
    "\n",
    "    def __init__(self, model):\n",
    "        self.model = model\n",
    "\n",
    "    def __getstate__(self):\n",
    "        model_str = ''\n",
    "        with tempfile.NamedTemporaryFile(suffix='.hdf5', delete=True) as fd:\n",
    "            tensorflow.keras.models.save_model(self.model, fd.name, overwrite=True)\n",
    "            model_str = fd.read()\n",
    "        d = { 'model_str': model_str }\n",
    "        return d\n",
    "\n",
    "    def __setstate__(self, state):\n",
    "        with tempfile.NamedTemporaryFile(suffix='.hdf5', delete=True) as fd:\n",
    "            fd.write(state['model_str'])\n",
    "            fd.flush()\n",
    "            self.model = tensorflow.keras.models.load_model(fd.name)\n",
    "\n",
    "\n",
    "def isDatapointsWithinRange(red,infrared,green):\n",
    "        red = np.asarray(red, dtype=np.float32)\n",
    "        infrared = np.asarray(infrared, dtype=np.float32)\n",
    "        green = np.asarray(green, dtype=np.float32)\n",
    "        a =  len(np.where((red >= 20000)& (red<=200000))[0]) < .33*10*25\n",
    "        b = len(np.where((infrared >= 80000)& (infrared<=230000))[0]) < .33*10*25\n",
    "        c = len(np.where((green >= 500)& (green<=20000))[0]) < .33*10*25\n",
    "        if a and b and c:\n",
    "            return False\n",
    "        return True            \n",
    "\n",
    "            \n",
    "def compute_quality(red,infrared,green):\n",
    "        \"\"\"\n",
    "        :param window: a window containing list of DataPoints\n",
    "        :return: an integer reptresenting the status of the window 0= attached, 1 = not attached\n",
    "        \"\"\"\n",
    "        if len(red)==0:\n",
    "            return 'Not Worn' #not attached\n",
    "        if not isDatapointsWithinRange(red,infrared,green):\n",
    "            return 'Not Worn'\n",
    "        red_mean = np.mean(red)\n",
    "        ir_mean = np.mean(infrared)\n",
    "        green_mean = np.mean(green)\n",
    "        if red_mean < 5000 and ir_mean < 5000:\n",
    "            return 'Not Worn'\n",
    "        if not (red_mean>green_mean and ir_mean>red_mean):\n",
    "            return 'Not Worn'\n",
    "        diff = 30000\n",
    "        if red_mean<130000:\n",
    "            diff = 10000\n",
    "        if not red_mean - green_mean > diff:\n",
    "            return 'Not Worn'\n",
    "        if not ir_mean - red_mean >diff:\n",
    "            return 'Not Worn'\n",
    "        return 'Worn'            \n",
    "            \n",
    "\n",
    "def compute_magnitude_and_activity(data,\n",
    "                                   Fs = 25,\n",
    "                                   window_size = 10,\n",
    "                                   stream_name = 'org.md2k.feature.motionsensehrv.decoded.rightwrist.all',\n",
    "                                   new_Fs = 20,\n",
    "                                   filename1 = './models/activity_estimator_both_magnitude.hdf5',\n",
    "                                   filename2 = './models/activity_estimator_wisdm_magnitude.hdf5'):\n",
    "            \n",
    "    model = load_model(filename1)\n",
    "\n",
    "    model_wrapper= ModelWrapperPickable(model)\n",
    "\n",
    "\n",
    "    model_wisdm = load_model(filename2)\n",
    "\n",
    "    model_wrapper_wisdm= ModelWrapperPickable(model_wisdm)\n",
    "\n",
    "\n",
    "    data = data.select('localtime','timestamp','aclx','acly','aclz','user','version','red','infrared','green')\n",
    "\n",
    "    data = data.withColumn('magnitude',F.sqrt(F.pow(F.col('aclx'),2)+F.pow(F.col('acly'),2)+F.pow(F.col('aclz'),2))).drop('aclx','acly','aclz')\n",
    "\n",
    "    data = data.withColumn('time',F.col('timestamp').cast('double'))\n",
    "\n",
    "    data = data.withColumn('magnitude_time',F.array('time','magnitude')).drop('time','magnitude')\n",
    "\n",
    "    groupbycols = ['user','version',F.window('timestamp',windowDuration=str(window_size)+' seconds', startTime='0 seconds')]\n",
    "    data_windowed_10 = data.groupBy(groupbycols).agg(F.collect_list('magnitude_time'),\n",
    "                                                     F.collect_list('localtime'),\n",
    "                                                    F.collect_list('red'),\n",
    "                                                    F.collect_list('infrared'),\n",
    "                                                    F.collect_list('green'))\n",
    "\n",
    "    data_windowed_10 = data_windowed_10.withColumnRenamed('collect_list(magnitude_time)','magnitude_time')\n",
    "    data_windowed_10 = data_windowed_10.withColumnRenamed('collect_list(localtime)','localtime')\n",
    "    \n",
    "    data_windowed_10 = data_windowed_10.withColumnRenamed('collect_list(red)','red')\n",
    "    data_windowed_10 = data_windowed_10.withColumnRenamed('collect_list(infrared)','infrared')\n",
    "    data_windowed_10 = data_windowed_10.withColumnRenamed('collect_list(green)','green')\n",
    "\n",
    "    qfunction = F.udf(compute_quality,StringType())\n",
    "    data_windowed_10 = data_windowed_10.withColumn('quality',qfunction(data_windowed_10['red'],data_windowed_10['infrared'],data_windowed_10['green']))\n",
    "\n",
    "    data_windowed_10 = data_windowed_10.drop('red','infrared','green')\n",
    "    \n",
    "    data_windowed_10 = data_windowed_10.filter(F.col('quality')=='Worn').drop('quality')\n",
    "\n",
    "    \n",
    "    data_windowed_10 = data_windowed_10.withColumn('localtime',F.col('localtime').getItem(0))\n",
    "\n",
    "    data_windowed_10 = data_windowed_10.withColumn('length',F.size('magnitude_time'))\n",
    "\n",
    "    data_windowed_10 = data_windowed_10.filter(F.col('length')==window_size*Fs).drop('length')\n",
    "\n",
    "    data_windowed_10 = data_windowed_10.withColumn('timestamp',F.col('window').start).withColumn('start',F.col('window').start).withColumn('end',F.col('window').end).drop('window')\n",
    "\n",
    "    data_windowed_10  = data_windowed_10.withColumn('day',F.date_format('localtime',\"yyyyMMdd\"))\n",
    "\n",
    "    final_activity_list = ['Brushing','Cycling','Sports','Eating','Driving',\n",
    "                           'Exercise','Sitting','Stairs','Standing','Walking']\n",
    "    final_activity_dict = {a:i for i,a in enumerate(final_activity_list)}\n",
    "    final_activity_dict_reverse = {i:a for i,a in enumerate(final_activity_list)}\n",
    "\n",
    "    activity_list_wisdm = ['Sitting','Stairs','Jogging','Typing','Standing','Walking','Brushing','Eating','Drinking','Kicking',\n",
    "                    'Playing Catch','Dribbling','Writing','Clapping','Folding Clothes']\n",
    "    print(data_windowed_10.schema)\n",
    "    schema = StructType(list(data_windowed_10.schema)[:2]+list(data_windowed_10.schema)[3:]+[StructField(\"magnitude\", ArrayType(DoubleType())),\n",
    "                                                                                            StructField(\"prediction\", StringType()),\n",
    "                                                                                            StructField(\"prediction_wisdm\", StringType()),\n",
    "                                                                                            StructField(\"mean\", DoubleType()),\n",
    "                                                                                            StructField(\"std\", DoubleType()),\n",
    "                                                                                            StructField(\"skew\", DoubleType()),\n",
    "                                                                                            StructField(\"kurtosis\", DoubleType())])\n",
    "\n",
    "    def smooth_predictions(df):\n",
    "        if df.shape[0]<3:\n",
    "            return pd.DataFrame([],columns=columns)\n",
    "        for name in ['prediction','prediction_wisdm']:\n",
    "            y_activities = list(df[name])\n",
    "            m_act = mode(y_activities)[0][0]\n",
    "            df[name] = [m_act]*df.shape[0]\n",
    "        return df\n",
    "\n",
    "    columns = [a.name for a in schema.fields]\n",
    "    @pandas_udf(schema, PandasUDFType.GROUPED_MAP)\n",
    "    def interpolate_acl_magnitude(df):\n",
    "        df['magnitude_time'] = df['magnitude_time'].apply(lambda b:np.array([np.array(a) for a in b]).reshape(window_size*Fs,2))\n",
    "        df['magnitude_time'] = df['magnitude_time'].apply(lambda a:a[a[:,0].argsort()])\n",
    "        df['magnitude_time'] = df['magnitude_time'].apply(lambda a:a[:,1].reshape(window_size*Fs,1))\n",
    "        df['magnitude'] = df['magnitude_time'].apply(lambda a:interpolate_acl(a).reshape(1,window_size*new_Fs,1))\n",
    "        X = np.concatenate(list(df['magnitude']))\n",
    "        y_pred = model_wrapper.model.predict(X).argmax(axis=1)\n",
    "        df['prediction'] = list(y_pred.reshape(-1))\n",
    "        df['prediction'] = df['prediction'].apply(lambda a:final_activity_dict_reverse[a])\n",
    "\n",
    "        y_pred = model_wrapper_wisdm.model.predict(X).argmax(axis=1)\n",
    "        df['prediction_wisdm'] = list(y_pred.reshape(-1))\n",
    "        df['prediction_wisdm'] = df['prediction_wisdm'].apply(lambda a:activity_list_wisdm[a])   \n",
    "        df['magnitude'] = df['magnitude'].apply(lambda a:a.reshape(-1)) \n",
    "        df['mean'] = df['magnitude'].apply(lambda a:np.mean(a))\n",
    "        df['std'] = df['magnitude'].apply(lambda a:np.std(a))\n",
    "        df['skew'] = df['magnitude'].apply(lambda a:skew(a))\n",
    "        df['kurtosis'] = df['magnitude'].apply(lambda a:kurtosis(a))\n",
    "        df = df[columns]\n",
    "        df = df.groupby(pd.Grouper(key='timestamp',freq=str(6*window_size)+'S'),as_index=False).apply(smooth_predictions)\n",
    "        return df\n",
    "\n",
    "    data_interpolated = data_windowed_10.groupBy(['user','version','day']).apply(interpolate_acl_magnitude)\n",
    "    schema = data_interpolated.schema\n",
    "    stream_metadata = Metadata()\n",
    "    stream_metadata.set_name(stream_name+'.activity').set_description(\"Activity Computed\")\n",
    "    for field in schema.fields:\n",
    "        stream_metadata.add_dataDescriptor(\n",
    "            DataDescriptor().set_name(str(field.name)).set_type(str(field.dataType))\n",
    "        )\n",
    "    stream_metadata.add_module(\n",
    "        ModuleMetadata().set_name(\"activity datastream\") \\\n",
    "        .set_attribute(\"url\", \"https://md2k.org\").set_author(\n",
    "            \"Md Azim Ullah\", \"mullah@memphis.edu\"))\n",
    "    stream_metadata.is_valid()\n",
    "    data_interpolated.printSchema()\n",
    "    ds = DataStream(data=data_interpolated,metadata=stream_metadata)\n",
    "    return ds\n",
    "# CC.save_stream(ds,overwrite=True)"
   ]
  },
  {
   "cell_type": "code",
   "execution_count": 3,
   "metadata": {},
   "outputs": [
    {
     "name": "stdout",
     "output_type": "stream",
     "text": [
      "StructType(List(StructField(user,StringType,true),StructField(version,IntegerType,false),StructField(magnitude_time,ArrayType(ArrayType(DoubleType,true),false),true),StructField(localtime,TimestampType,true),StructField(timestamp,TimestampType,true),StructField(start,TimestampType,true),StructField(end,TimestampType,true),StructField(day,StringType,true)))\n"
     ]
    },
    {
     "name": "stderr",
     "output_type": "stream",
     "text": [
      "/cerebralcortex/kessel_jupyter_virtualenv/cc33/lib64/python3.6/site-packages/pyspark/sql/pandas/group_ops.py:76: UserWarning: It is preferred to use 'applyInPandas' over this API. This API will be deprecated in the future releases. See SPARK-28264 for more details.\n",
      "  \"more details.\", UserWarning)\n"
     ]
    },
    {
     "name": "stdout",
     "output_type": "stream",
     "text": [
      "root\n",
      " |-- user: string (nullable = true)\n",
      " |-- version: integer (nullable = false)\n",
      " |-- localtime: timestamp (nullable = true)\n",
      " |-- timestamp: timestamp (nullable = true)\n",
      " |-- start: timestamp (nullable = true)\n",
      " |-- end: timestamp (nullable = true)\n",
      " |-- day: string (nullable = true)\n",
      " |-- magnitude: array (nullable = true)\n",
      " |    |-- element: double (containsNull = true)\n",
      " |-- prediction: string (nullable = true)\n",
      " |-- prediction_wisdm: string (nullable = true)\n",
      " |-- mean: double (nullable = true)\n",
      " |-- std: double (nullable = true)\n",
      " |-- skew: double (nullable = true)\n",
      " |-- kurtosis: double (nullable = true)\n",
      "\n"
     ]
    },
    {
     "data": {
      "text/plain": [
       "True"
      ]
     },
     "execution_count": 3,
     "metadata": {},
     "output_type": "execute_result"
    }
   ],
   "source": [
    "stream_name = 'org.md2k.feature.motionsensehrv.decoded.rightwrist.all'\n",
    "data = CC.get_stream(stream_name)\n",
    "data_activity = compute_magnitude_and_activity(data,stream_name=stream_name)\n",
    "CC.save_stream(data_activity,overwrite=True)"
   ]
  },
  {
   "cell_type": "code",
   "execution_count": 11,
   "metadata": {},
   "outputs": [],
   "source": [
    "right_data = CC.get_stream('org.md2k.feature.motionsensehrv.decoded.leftwrist.all.activity')"
   ]
  },
  {
   "cell_type": "code",
   "execution_count": 12,
   "metadata": {},
   "outputs": [
    {
     "data": {
      "text/plain": [
       "105492.60277777778"
      ]
     },
     "execution_count": 12,
     "metadata": {},
     "output_type": "execute_result"
    }
   ],
   "source": [
    "right_data.count()*10/3600"
   ]
  },
  {
   "cell_type": "code",
   "execution_count": 13,
   "metadata": {},
   "outputs": [],
   "source": [
    "count_data = right_data.select('user','prediction','day').groupBy(['user','prediction','day']).count()\n",
    "df = count_data.toPandas()\n",
    "import pickle\n",
    "pickle.dump(df,open('./data/left_wrist_count.p','wb'))"
   ]
  },
  {
   "cell_type": "code",
   "execution_count": 14,
   "metadata": {},
   "outputs": [],
   "source": [
    "right_data = CC.get_stream('org.md2k.feature.motionsensehrv.decoded.rightwrist.all.activity')\n",
    "\n",
    "count_data = right_data.select('user','prediction','day').groupBy(['user','prediction','day']).count()\n",
    "df = count_data.toPandas()\n",
    "import pickle\n",
    "pickle.dump(df,open('./data/right_wrist_count.p','wb'))"
   ]
  },
  {
   "cell_type": "code",
   "execution_count": 41,
   "metadata": {},
   "outputs": [],
   "source": [
    "import matplotlib.pyplot as plt\n",
    "import seaborn as sns\n",
    "df = pickle.load(open('./data/right_wrist_count.p','rb'))"
   ]
  },
  {
   "cell_type": "code",
   "execution_count": null,
   "metadata": {},
   "outputs": [],
   "source": []
  },
  {
   "cell_type": "code",
   "execution_count": 16,
   "metadata": {},
   "outputs": [],
   "source": [
    "# df['prediction'] = df['prediction_wisdm']"
   ]
  },
  {
   "cell_type": "code",
   "execution_count": 42,
   "metadata": {},
   "outputs": [],
   "source": [
    "df['count'] = df['count'].apply(lambda a:(a*10)/3600)"
   ]
  },
  {
   "cell_type": "code",
   "execution_count": 43,
   "metadata": {},
   "outputs": [],
   "source": [
    "df_walking = df[df['prediction']=='Walking']"
   ]
  },
  {
   "cell_type": "code",
   "execution_count": 44,
   "metadata": {},
   "outputs": [
    {
     "data": {
      "image/png": "[encoded data removed]",
      "text/plain": [
       "<Figure size 1440x720 with 1 Axes>"
      ]
     },
     "metadata": {
      "needs_background": "light"
     },
     "output_type": "display_data"
    }
   ],
   "source": [
    "plt.figure(figsize=(20,10))\n",
    "plt.hist(df_walking[['user','count']].groupby('user').quantile(.99)['count'],20)\n",
    "plt.title('Maximum walking hours for a single day')\n",
    "plt.xlabel('Hours')\n",
    "plt.tight_layout()\n",
    "plt.savefig('./images/Maximumwalk.png')\n",
    "plt.show()"
   ]
  },
  {
   "cell_type": "code",
   "execution_count": 49,
   "metadata": {},
   "outputs": [
    {
     "data": {
      "text/plain": [
       "10.611355452674898"
      ]
     },
     "execution_count": 49,
     "metadata": {},
     "output_type": "execute_result"
    }
   ],
   "source": [
    "df_walking['count'].sum()/len(df_walking['day'].unique())"
   ]
  },
  {
   "cell_type": "code",
   "execution_count": 65,
   "metadata": {},
   "outputs": [
    {
     "data": {
      "text/plain": [
       "array(['3ca3dbf5-2390-409e-bd2c-c9f23a255e75',\n",
       "       '0990887a-6163-4c80-9c9e-468ea2598202',\n",
       "       '61d1a237-d70f-49b0-89ba-cea4d2526832',\n",
       "       '8aa1bd02-ee43-4e9d-b7f7-7ddc66b607f9',\n",
       "       '1babaec3-2adb-4812-a377-c0a759a1f624',\n",
       "       '87d70bed-3ed0-455c-a144-9fd955229125',\n",
       "       'db4a2be2-d180-4fa5-b3b8-41b91c2a641c',\n",
       "       'c7e9149b-94da-4733-92eb-1395c724fc7b',\n",
       "       '08b3a46a-f926-4a57-8723-b78b53c33729',\n",
       "       'fd36e160-50a0-4dad-9357-65ea218c8d3c',\n",
       "       '5cd4f692-3b13-4728-9df3-debc682e42dd',\n",
       "       '95085684-88ec-4d2a-8eba-a38268018193',\n",
       "       'd83ac187-97cd-4ee0-a35f-5a1ffe6c7885',\n",
       "       '3b9ff2e4-dfec-4022-8994-1a0c4db7227a',\n",
       "       '072c81f7-4410-4301-8fd0-17337c0ac1e8',\n",
       "       '0c824653-a13b-4a4e-b907-660f1d8f8981',\n",
       "       'f244a6e2-97bf-4c57-8fb9-ed1ca1774c37',\n",
       "       'd1392516-4b33-47c0-81b2-066fa7210135',\n",
       "       'ac48132f-2c65-4762-bb64-ed8f733a540d',\n",
       "       'a6c16f12-0987-4690-87fe-336710f96398',\n",
       "       '3c1b90f5-dd19-4872-8175-9dede757c9c6',\n",
       "       'b7a05945-a70a-4196-a3bf-d49313a5d12a',\n",
       "       'be4297a8-d763-42e2-a2cb-cab38f64cfe3',\n",
       "       'ee641ee3-b4b9-4a2f-8394-ebda81037fe4',\n",
       "       'c2ad5056-c319-4b12-8e04-f6d63f61859f',\n",
       "       'bbc41a1e-4bbe-4417-a40c-64635cc552e6',\n",
       "       'b7c267ae-857f-4f5f-9c24-f5236bba1f89',\n",
       "       '8726f4c1-1507-4a6b-ae29-9b13fd9ce9e2',\n",
       "       'aa45a425-2c17-46de-8bc8-cbe080158c80',\n",
       "       'f5abb4f1-ad31-4964-988c-14769501a8f7',\n",
       "       '8cd3bb5b-32f7-4275-b789-bbcd7de0ee53',\n",
       "       '75f01e07-425c-46ac-bcfc-aba98f2b02be',\n",
       "       'ee179373-c30e-4ef2-9f32-75419e005cf4',\n",
       "       '814e0cc2-ed93-4e72-af35-40a41cef21cd',\n",
       "       'c73670a9-16ca-43bb-b7b9-110558e31798',\n",
       "       '089cc9f8-044f-40d6-aca9-af76bf35e4d2',\n",
       "       'd609008d-6efb-4cd0-ab84-6c0de55198db',\n",
       "       '9a83ff80-8eed-4441-ba88-e014bb7bda8d',\n",
       "       '0d843c9a-5c9d-4325-bae6-e44e0902e84a',\n",
       "       '56b8d410-341c-4e90-ad7c-3e8bf1cbb0b6',\n",
       "       '3893e3e7-24b7-45f3-90e8-e9ca6114e83f',\n",
       "       '83e9c0b8-b6a7-4c19-8deb-2bca29b93139',\n",
       "       '4b0f6e44-14a3-4cd9-abab-e279af6f45c6',\n",
       "       '589461d6-9956-4c9e-820e-a564a93a298b',\n",
       "       '1ce063ce-f475-4a3f-aafb-633adc0d3798',\n",
       "       'da6b7c06-9bb4-45d0-b8c7-e7dadf77285c',\n",
       "       'f44b2de7-97bc-4539-8515-f110feec479d',\n",
       "       '9580deeb-f28e-42e9-a877-1a6e1cea3dff',\n",
       "       'ded067ce-6c9a-4b7d-93ca-b848b6977d45',\n",
       "       '9b428196-6991-4ddf-b3eb-62009dc722db',\n",
       "       '17b07883-4959-4037-9b80-dde9a06b80ae',\n",
       "       'feaad88c-c9f0-405a-a32f-4c9adfc0be6b',\n",
       "       '4203df44-c6be-49a5-93b8-a9047d438fe4',\n",
       "       '4ac3f410-c8fd-4cf6-a065-405683c27499',\n",
       "       '7685d242-8ebe-4e06-8a9f-d7c2844ead10',\n",
       "       'b43f7bd1-6472-4767-a175-d943f595e9ff',\n",
       "       'af533808-e79f-4f2b-994b-969dcf0e4f5d',\n",
       "       'd4691f19-57be-44c4-afc2-5b5f82ec27b5',\n",
       "       'ecfb8b5b-9e00-4faf-98f6-1e5d42140e3b',\n",
       "       '3ca29402-0a0d-4f08-8f6c-5b57672809f6',\n",
       "       '9324c6d7-3fdc-4614-8199-0c102f1b67c0',\n",
       "       'da66d9bb-0d61-4a3a-afbd-792ac93ebddf',\n",
       "       'b4ff7130-3055-4ed1-a878-8dfaca7191ac',\n",
       "       '9cda59ce-e592-41ae-b0e2-c17d81301916',\n",
       "       '942445c5-eb52-4128-98ca-0fbb5dd6aca4',\n",
       "       'b4b75916-a561-41e4-b3b9-5dfc2859028d',\n",
       "       '35daf881-da7c-4779-a8e9-20a3985094e2',\n",
       "       '3de8cf32-173f-4514-b9f7-91503d14dafc',\n",
       "       'efc3b444-ae8b-4106-8cfe-689e0cb4dbb9',\n",
       "       'efa1c292-bb43-420f-a229-1d1da9901b13',\n",
       "       'b3aed23e-d863-4a87-8c38-309cf958f930',\n",
       "       'ae2fae6b-0365-4a35-baee-144f2642cac4',\n",
       "       '82a921b9-361a-4fd5-8db7-98961fdbf25a',\n",
       "       '038aafca-cc30-47c6-9cbe-5c2cb52d8f04',\n",
       "       '4c8cf704-9adc-4c01-ab25-3addbd69c308',\n",
       "       '37733a30-f84c-416d-977f-ac3a5b2a68c4',\n",
       "       '1a726f3b-e270-47ed-ab4d-814ff7dfa5c5',\n",
       "       '4d7d8db6-d135-4db5-a718-11582822ff1a',\n",
       "       'cf9ee6f5-94ff-4097-a751-b8ed7c2a2e4b',\n",
       "       '03c26210-7c9f-4bf2-b1c2-59d0bd64ffac',\n",
       "       '15d069af-7a36-4c33-8693-cc814845b9c3',\n",
       "       'e2514141-ebd8-471a-920b-e023437ab0e7',\n",
       "       '20a07a1c-ee7e-4958-a2c8-0db6e4fe0ce9',\n",
       "       '682564cb-62be-40ff-b5f6-0f53924d37e3',\n",
       "       'e4e6552b-35bf-4df8-8302-c9cc304d34f1',\n",
       "       '843651b8-938f-4b33-9e5e-58a00a568c59',\n",
       "       'c271feb1-dac7-4940-9ef0-cf4de3a6b1db',\n",
       "       '64bbc562-abb8-4cf4-8a1c-850a4ada5673',\n",
       "       'e3d59499-2840-4a2c-81fc-19f8f12f0a65',\n",
       "       'febb3cef-56cc-4f40-b7c2-7c2663b0dc33',\n",
       "       '077ff26a-4f7b-48d2-833e-1b9d31cb7615',\n",
       "       'ae38c092-2080-44c2-b1c9-094916a5c97a',\n",
       "       'a73e8ebf-1c4d-4a05-acf7-8b834b1f3b85',\n",
       "       '8c9f9374-4398-4b3c-92b7-2c66dc4fcbd5',\n",
       "       '055bed5b-60ec-43e6-9110-137f2a36d65b',\n",
       "       '0ce0209c-ee94-4ef0-9bea-5caad065b103',\n",
       "       'f7046a1b-17ad-41f8-a58e-fc658ec73392',\n",
       "       'dd13f25f-77a0-4a2c-83af-bb187b79a389',\n",
       "       'd3d33d63-101d-44fd-b6b9-4616a803225d',\n",
       "       '43d62e76-2b24-4626-bcf4-35594eddf7a8',\n",
       "       '17b79ee0-4d3c-44ac-bfea-90b1f0540d4b',\n",
       "       '2fb5e890-afaf-428a-8e28-a7c70bf8bdf1',\n",
       "       'cdd98fba-4d2c-45d1-94b3-4b6b6077b58e',\n",
       "       '94eb0755-56a3-4235-b759-8dc2ced70875',\n",
       "       '24809752-2bcd-424f-aac1-5d909026b0c4',\n",
       "       'd9aa9a5c-e496-4da7-ab67-adabc1f37c72',\n",
       "       'e0f51af7-56c6-4c0e-9f0a-6c34ec0ff98a',\n",
       "       'a9531f87-726f-4063-b18d-cd176dcf4b90',\n",
       "       '9187dcd7-7b5c-4633-ae73-af8200f1dfba',\n",
       "       'd3af01d0-31b7-4fd9-af11-83b7bd594b12',\n",
       "       'b8e437d3-d8db-48c3-91b5-ebd6ab29662f',\n",
       "       'de5c2828-29c5-4545-8367-502bb0ed1004',\n",
       "       '13555453-55fc-4b13-8b32-b49dfcc9a8f0',\n",
       "       '26d5159f-ca0f-4537-a97d-8ddda3c95f8a',\n",
       "       '31d42f9e-627c-489a-9c24-4513af7c7511',\n",
       "       'ac3c89bc-11bb-447a-b226-5a4a935e9653',\n",
       "       'dc9199c5-f484-4da4-8bf4-de8319628d35',\n",
       "       '8fcc208a-30e9-49dc-b9de-51e6819a50b7',\n",
       "       'f2aa92b3-ac1a-4afe-9dda-977c07ee8ee2',\n",
       "       '135c9c3b-a5cf-47a4-9fcf-4fc418c5eb96',\n",
       "       '52f0c8e1-0dff-489e-9947-1ce84add2922',\n",
       "       '1d2e8082-bc73-4a11-9665-a474ce801b77',\n",
       "       '166b9e2f-08a1-425f-9617-875d6ad3f834',\n",
       "       'e7500981-9b13-4238-a855-52b91ed6244d',\n",
       "       'd4505c6f-2bf5-4aba-8946-5923118c96ce',\n",
       "       '6770c699-3b3c-4333-b70a-b7e7d839e38b',\n",
       "       '20bae182-cdd9-4e73-a584-f337bbfa55df',\n",
       "       '5be23791-acea-413c-9921-fe8ebe055eb5',\n",
       "       '66a5cdf8-3b0d-4d85-bdcc-68ae69205206',\n",
       "       '53db5d5c-fe90-47d1-8252-c05566bf03e7',\n",
       "       '42ded059-c890-42e1-adb8-4b339d0879b5',\n",
       "       '6b6cee83-d69e-4a7a-b959-ee2de109d907',\n",
       "       '2f256f48-8336-4846-9362-7349ae648dc5',\n",
       "       '2bc2ade2-b154-4412-878c-98466a00ba7b',\n",
       "       '29887429-a8a6-4406-9323-2caa79c491ce',\n",
       "       '53b45c45-9ca0-4ec9-b54d-90ffdfec0c38',\n",
       "       '2b6a9abb-9a75-4d1b-8cab-5dd862626349',\n",
       "       '24ea7a3f-4b4d-48a0-a256-6de2e8298d25',\n",
       "       '08149a8b-8b77-45b6-b092-c9049f9e0214',\n",
       "       '9c0a19ac-3240-4e0e-9e1d-b49b74681ce0',\n",
       "       '61519ad0-2aea-4250-9a82-4dcdb93a569c',\n",
       "       'c7091bfb-1ab2-4fbe-9d09-ae801a2585a2',\n",
       "       'b8bbd940-ba64-474c-bfea-37e578fc2133',\n",
       "       '0a11d9aa-1e9c-4f5e-94cf-faa6e796a855',\n",
       "       '157022dd-d527-460d-8abc-dca2f3310394',\n",
       "       '35fff957-2ad7-40e6-b57a-30235da5c9a9',\n",
       "       '3b4f130b-0287-42ac-975d-ecd4f7377b0f',\n",
       "       'a4419c21-104b-4b4d-a95f-7682f23aa319',\n",
       "       '472c78e7-d814-4f61-9128-336d13fb9a0f',\n",
       "       '03ec3750-641a-4039-8b5d-74b485bde1ea',\n",
       "       '3f38d579-66fa-4126-b269-3f4e1ee42b39',\n",
       "       '2eb6842a-1240-43d3-9fdb-954a614411a9',\n",
       "       'c7c1cc61-27fa-4bfd-bdef-f3e04c527987',\n",
       "       '14411301-ef8e-4087-92fe-5c82333e9c43',\n",
       "       'c93a811e-1f47-43b6-aef9-c09338e43947',\n",
       "       'f64854af-f444-4489-9cc2-05800227f406',\n",
       "       '2946b01f-4cda-4f69-9b3f-24aed26c4d15',\n",
       "       'b64eaa81-425f-446a-a521-9fdd9429f77b',\n",
       "       '5134cb88-3e01-4861-a585-395201e803c9',\n",
       "       'c508e151-eef0-419c-9cb4-e7b1c3337873',\n",
       "       'c2b6746a-5780-47c2-bee3-db18bfccd409',\n",
       "       'dbd205d8-339f-4432-aafc-a983ee553245',\n",
       "       'b4dfa455-19e0-4323-96cc-1801e9721b08',\n",
       "       '342d9d87-787d-4836-9f61-4d59ed9f3289',\n",
       "       '75f6a3c6-ef3d-43e2-810c-560efaf92592',\n",
       "       '63f5e202-6b13-491a-bdfc-9f13b7e4c036',\n",
       "       'ed1698e5-4104-4b28-a0e7-71d710f2efb7',\n",
       "       '51ebb070-7d34-40b3-8520-55d2e318438a',\n",
       "       'b39f9f83-5621-4a30-b6e1-1f21acd3b7c8',\n",
       "       '912427ec-befd-4a0f-b2ad-36af77198e06',\n",
       "       '8013239e-0d75-4640-9ec1-2b9d856956a0',\n",
       "       '1a2eb8d4-077e-4c0b-88d9-574872b45e4c',\n",
       "       '9f5be69d-028c-4020-8140-439e652e2343',\n",
       "       '886b8b2e-6beb-4c49-b502-eb3b7dff5f7f',\n",
       "       'd3268d64-57ae-4060-937a-7980cdc5ffcd',\n",
       "       'ac9b4778-0bb5-4384-b4ed-3a5738ba99a4',\n",
       "       '326a6c55-c963-42c2-bb8a-2591993aaaa2',\n",
       "       '253caa97-394d-4b96-a4a0-00ea8a89e58d',\n",
       "       'c2dc579e-47c5-4498-857a-2f765406b8a5',\n",
       "       '5b1ab5af-701b-4717-9c43-98ab90a89325',\n",
       "       '2b4ae7c4-ee25-4588-a0cd-bffb64a07f7f',\n",
       "       'fb059e16-0830-4f1c-aefd-96552be9def3',\n",
       "       '28fba926-ef44-4874-a209-ac6680441822',\n",
       "       '8b3d78b4-1e27-4633-abb1-15617b599d2d',\n",
       "       'b6a84ed4-e9d1-4df9-a293-938666fb512b',\n",
       "       'a8049cb2-a13b-48f7-abe3-cf42f60368aa',\n",
       "       '407d6e31-ffbd-4e84-97ab-54b2ff396823',\n",
       "       '50846a75-cde7-44d0-878d-bedc39726f75',\n",
       "       '274739ff-aa7f-4b93-a409-67217327140c',\n",
       "       '260f551d-e3c1-475e-b242-f17aad20ba2c',\n",
       "       'cd6f425b-92fe-4bdf-b277-53a558fc7c27',\n",
       "       'f29a8628-ed1d-445a-9316-b4eb62fed4d7',\n",
       "       'a28665d0-c10f-4f3e-946a-2b37b8799621',\n",
       "       'c6574c0d-ceca-4584-af55-d8e7e282ed8d',\n",
       "       '7260c523-b2d5-4bdc-a831-96b4815dca00',\n",
       "       'a179fd0b-3914-4996-b943-7d95a95c9d10',\n",
       "       '8e9fc56e-7965-4551-bf9b-7ddd1df61732',\n",
       "       'a6006dcb-2c1a-4e66-8db0-d9deb6c93752',\n",
       "       '95a070a7-086b-4f3d-a5ba-0a877f7fabf7',\n",
       "       'c6a176bc-6b30-4066-a7a4-b305ea1df716',\n",
       "       '7975e62d-7cdb-40b1-85d7-b93a69a75421',\n",
       "       '8cee7fce-00d0-45f1-81fe-b24bb7176679',\n",
       "       '583dc6e7-fabe-4d2a-b633-4ad5aea67f8c',\n",
       "       'ae4e4f1a-098a-4906-a2c9-78a68f4cdd14',\n",
       "       '8d458ff0-0ed3-446d-bd87-cd23dae0a05f',\n",
       "       'e118d556-2088-4cc2-b49a-82aad5974167',\n",
       "       '83ff3fe4-b456-47ac-a5fa-1d152f900235',\n",
       "       'cb29da71-7fe9-4270-83d1-ba58b8034fc6',\n",
       "       'a173be18-19f9-4485-8143-0ac56b45b1eb',\n",
       "       '82c9c323-0713-4309-adab-f044e9adc7dd',\n",
       "       '176dfa9b-725b-4813-9219-005041320db4',\n",
       "       '6fb3efa6-3ede-43c5-bdea-0b64907a68de',\n",
       "       'f80e8b55-30d6-47fd-8f12-851016b0b0fa',\n",
       "       'f4aafd07-9711-4850-a6b6-63efa2fe25c6',\n",
       "       '80134e57-9f6a-42e6-bd13-01875b5af715',\n",
       "       '3ea4837f-104a-44d3-a006-4bc586c0f829',\n",
       "       '301734c8-1f4a-4dc7-ad19-7f24e0c4d4f6',\n",
       "       '34521ae7-012a-400f-8794-3d76ff4e70ab',\n",
       "       '74fd99d6-7bfc-40ae-b90f-1639c79294d3',\n",
       "       '985b1b37-40be-49aa-9df1-31aff97dfb1a',\n",
       "       '3c77a951-188c-4c57-93b0-b7a194d4cc19',\n",
       "       '022e4ff8-e1af-43dc-b747-862ac83518d2',\n",
       "       '07a34e07-8ee4-434b-8c09-6cb197451464',\n",
       "       'b61ebedd-272f-4276-9eee-63bb9e1a4ad6',\n",
       "       '30fe7844-15f8-4c6b-b1d6-a642f43616b4',\n",
       "       'df11d649-9c87-4802-b602-ec97c3e868b1',\n",
       "       'b2bc6b0a-b4f0-4ebf-829a-a2f28addae50',\n",
       "       '397c6457-0954-4cd2-995c-2fbeb6c72097',\n",
       "       'a54d9ef4-a46a-418b-b6cc-f10b49a946ac',\n",
       "       '622bf725-2471-4392-8f82-fcc9115a3745',\n",
       "       '1c3e4944-1d23-4654-be10-c37b5806d00d',\n",
       "       '55675812-1eac-44e0-a57d-30a5a9ae083e',\n",
       "       '6bf8a6da-a8c3-45c4-8aa3-75649cd1772d',\n",
       "       'bb537527-6ab6-4693-a905-a01e5af3b981',\n",
       "       '56b4bef0-2bbb-4e2a-b434-36bfdb2f0f7e',\n",
       "       '40556c24-113c-49f9-9371-34931d4fba2d',\n",
       "       '3b4966d8-f38a-46cc-ba12-4f059b753241',\n",
       "       'd197d735-bb0d-4df5-9566-2325de86e98b',\n",
       "       '67556c68-b9a4-49e5-a3d6-7dc3c7b3e0ec',\n",
       "       'd2bb3e13-9a98-45e0-8b3d-71b3b89e598f',\n",
       "       '67aeb5af-38f7-4949-b59f-608896d20077',\n",
       "       'cb8a3787-1e23-4265-bf3d-264bfe6b25e8',\n",
       "       'c1f31960-dee7-45ea-ac13-a4fea1c9235c',\n",
       "       'd0966bbb-d634-419e-ba57-8cf6de4e98ee',\n",
       "       'a5e9c6b1-40b2-4763-862b-61811f58f2cb',\n",
       "       'd36edb42-c422-41b4-b82f-594d8f3850be',\n",
       "       'c87dcc5b-2846-4eca-b6c2-ecc7ea58bbc7',\n",
       "       '32dfe358-f0d7-4a3c-ba2c-1308f89a9d24',\n",
       "       'fbd7bc95-9f42-4c2c-94f4-27fd78a7273c',\n",
       "       '9a917ae9-8e47-4eaf-aaff-e82bfc9f7d6b',\n",
       "       '05180b17-aae0-4920-bfd0-96b062017f7d',\n",
       "       'd76db16a-b758-4094-8bfe-4f7167555b73',\n",
       "       'fe84e1e8-87b7-463b-99e4-2e492576ccbd',\n",
       "       '3d1e1b85-e0de-46a9-853f-4c3aa2e56271',\n",
       "       '3833df3d-dc81-4467-bdd9-16a7d99f7edb',\n",
       "       'f744e739-4b60-4f0e-95a5-42c9f2042f1a',\n",
       "       '8a3533aa-d6d4-450c-8232-79e4851b6e11',\n",
       "       'f9351b3e-e4de-4d94-b3bc-98786d35906b',\n",
       "       'b00fe5cd-a973-4f16-93e1-b15b5ea1d7e2',\n",
       "       '20940a76-976b-446e-b173-89237835ae6b',\n",
       "       'efb8ddb1-b9a4-4833-a876-c8adc53850ca',\n",
       "       '220d3add-c6c8-4f22-a2d7-f16501f92f45',\n",
       "       '53400e38-644f-40bf-9968-b11f6682e7e5',\n",
       "       'd7eb1a8a-344d-463c-a660-9b4ef56a8b63',\n",
       "       'c696b0e8-299f-4270-9218-25f973bc64b4',\n",
       "       'c576bedb-b0f7-4458-a1e0-24071d6e1d36',\n",
       "       'd1cf1b0a-c3b8-45cc-93bc-792f820f3e92',\n",
       "       '323cc961-5f66-4273-9d46-6097bc692269',\n",
       "       '8e270a06-c212-4ff4-8a73-be96312fdaf7',\n",
       "       'ba79fc54-e083-40e7-ae36-fae72980f2d0',\n",
       "       'a262930d-17eb-4053-840c-a8f9fb035a00',\n",
       "       '6f157d6b-d974-4ec4-9c93-7e29bdaf0108',\n",
       "       'dde1ede1-50cc-4ce5-9f4a-fdd3a8f1e3dc',\n",
       "       '84f93536-ce17-41eb-9241-10d4b91fd97f',\n",
       "       '5dc54855-a59b-47e3-867b-46eb1c789b23',\n",
       "       'de4021b2-547f-4a26-a3ac-daba9c71edd0',\n",
       "       '45a86c85-0bd3-4f3f-bcdc-2b27cd539288',\n",
       "       'e6b87c27-0b3b-4851-8fb6-7c366a6af508',\n",
       "       'c26a7ffb-10d2-40d4-aa34-3b4094d77393',\n",
       "       'ddf11c46-b071-4f00-82bc-c0ee74d78aa0',\n",
       "       '862ab494-446d-43f6-b752-af51e938547e',\n",
       "       '0457f007-211c-4dc3-844e-47d724fece51',\n",
       "       '02e82ef0-acb8-4366-8c83-4c3f2f69f7ea',\n",
       "       '1bdf0668-a632-4290-ad94-c6269f9e924a',\n",
       "       '84b129ce-028e-4709-b410-ba9f18d29902',\n",
       "       'b0d888c3-f3d3-4e5c-9dce-bbcb4c15ac58',\n",
       "       '58ec107b-68e2-4742-a497-d8d4af1523ee',\n",
       "       '8861a2f4-80be-4c62-8c1e-252efad26ccc',\n",
       "       'ea8ee8f7-b950-4cbb-95f7-c87da15d3e82',\n",
       "       'dc2207d1-98d4-47e2-b38d-5bee12e217e2',\n",
       "       '65df4c37-b8a5-443d-b488-4b92ecc891d0',\n",
       "       '5accb319-08ca-402a-9778-ad1f0608401b',\n",
       "       '059a9d92-4d36-40cb-84cc-408f9210821b',\n",
       "       '34192284-e4f1-4420-ab35-0eb02ce2e8d1',\n",
       "       'b2a7d259-143a-4db7-9406-5a95e020d6b7',\n",
       "       '42bbf143-b184-4cf7-9afa-289468d9e36b',\n",
       "       '479eea59-8ad8-46aa-9456-29ab1b8f2cb2',\n",
       "       'b7e851d4-1cbc-4bd1-a040-d21e68182d49',\n",
       "       '8b73cf24-6579-4a9f-b7db-62317feb4d58',\n",
       "       'dd1dccdf-1b41-415d-8a38-9db4b2a548cf',\n",
       "       '36f6e239-816a-4508-9126-3b612741c26d',\n",
       "       'b1ea5c54-3b28-46c7-bc3a-8dab91d73d6a',\n",
       "       '34ce3561-6cd1-43e8-8a5b-c1d468863166',\n",
       "       '00ab666c-afb8-476e-9872-6472b4e66b68',\n",
       "       '36caadf6-9bd5-4bac-9f13-75d2f439b4de',\n",
       "       '92e8540c-3290-407d-9114-8458b9bd211a',\n",
       "       '948b8d17-35af-40cc-aa50-70a12b56e433',\n",
       "       '879233b3-262c-4b19-a344-f4d595d08d26',\n",
       "       'c5677eca-f00e-45af-ab0c-7388438c85e3',\n",
       "       '81146c4b-a952-433f-98ed-1a125896d36f',\n",
       "       '46f29cfd-cb46-4ec7-b983-b483268bbe21',\n",
       "       'e2ee5efe-d9cf-482c-8c73-a895185e3524',\n",
       "       '21faaa13-7447-420f-aa5f-7a2e128d06aa',\n",
       "       'e44afc25-08b9-432e-ba89-7f0fc80b95cf',\n",
       "       '360dda05-d7a7-4ec3-8988-256bb6381cda',\n",
       "       '7d42a964-9a59-4014-b3c7-49b65ce94d04',\n",
       "       '57dc658f-bb87-452c-94fc-9bd6a72b0bcc',\n",
       "       'd41622a7-9fe7-4f6c-9e19-62b431c9e36b',\n",
       "       'dd0b3f2a-d12e-4d58-ae4f-17b3ce7f95a4',\n",
       "       '8706b3fe-76f7-49a9-921f-d81577e9511c',\n",
       "       '136f8891-af6f-49c1-a69a-b4acd7116a3c',\n",
       "       'b18bc631-88a3-4c7a-89aa-14b3350aa48d',\n",
       "       'd3c0b2d1-4ab7-48e0-8ac4-fc6a104b03d3',\n",
       "       'e3c665c2-f7b6-4be6-99a4-197af6f01bdf',\n",
       "       '8acefded-803b-4cf3-9829-18bd5508f907',\n",
       "       'c1d277ee-1f7a-4dd1-b50a-40a8540d381b',\n",
       "       '5af23884-b630-496c-b04e-b9db94250307',\n",
       "       'e033e92f-a7ef-4328-821c-e377fb95b01d',\n",
       "       '82d8787f-ed86-41a0-b342-451c6064dc59',\n",
       "       '21e618f1-2cc1-4179-b001-62b05b3b1f7e',\n",
       "       '9658fd5d-f8bf-4fd3-ba8d-6e40776039de',\n",
       "       '0bee012c-efcb-4512-8c29-13d0a935cb48',\n",
       "       'fecd1ca1-4240-42ab-ab94-bfb993a1da11',\n",
       "       '1c47637b-d4a1-432f-9810-b6e2daea0a43',\n",
       "       '1fa707a3-63c4-488b-9558-f4d827fc9b12',\n",
       "       'f486f8c2-ea21-4909-9af3-9cd2ff1638bc',\n",
       "       'd72be89a-68d7-4ca8-bb97-1cb9be776001',\n",
       "       '6b74bbc2-128a-4206-82e1-eaec79579c51',\n",
       "       '30e340a8-776f-40d1-9d8c-d70d38bf0a5f',\n",
       "       'c9b351d9-124b-4119-8be8-cb7c0f7e7994',\n",
       "       'b404aea2-e1a5-4dba-ad61-8132a3841dcf',\n",
       "       'c4c0c196-c6a7-41fd-bdf1-99002be6e841',\n",
       "       '110a98b6-ef01-44b2-a19c-9ab8db1dd6fa',\n",
       "       'e0830d00-bcac-4084-893a-3b61de64ecf6',\n",
       "       'a60bbc2d-4d45-4896-b533-15c2cd54cf60',\n",
       "       'f611477f-7b2e-4f36-81da-c6cdee27d7a1',\n",
       "       'e06ad7f2-fedc-4e33-8315-303e5bbd2406',\n",
       "       '2d954abb-e11a-4f25-8f12-19a210c8d8e1',\n",
       "       '63684250-6bd1-41e6-b270-ebfc5379a271',\n",
       "       '94291262-3794-449e-a4c8-f62de9529977',\n",
       "       'eb351488-1a8b-4521-831d-9d9d0d1dc208',\n",
       "       'ec7bb904-196c-4040-997e-d5e23ad1a553',\n",
       "       '5eaca290-9215-4b6d-907b-756aa17adbd0',\n",
       "       '3aa0bbf3-e880-4a78-8a97-de9834b2eb18',\n",
       "       '66c74335-a160-4d1c-8165-8e49a3c03666',\n",
       "       'ec533293-9f82-42ef-9ee1-a7b8c4710dc3',\n",
       "       '9b7483ba-9c6f-4c67-bf48-549384ac66c7',\n",
       "       'd76548a5-a8e3-45b9-8d7b-de96bc275d87',\n",
       "       '805f3a7b-a197-4834-a4e4-a56da3dde6b1',\n",
       "       '16db9568-bd11-494f-b712-28a2266ea3d0',\n",
       "       '03996723-2411-4167-b14b-eb11dfc33124',\n",
       "       '5034a63c-298d-4d16-bfd7-7510c09b78d3',\n",
       "       'f2a3349e-b223-4d54-b7a1-c09664d7d91b',\n",
       "       '9d7b2444-3411-4252-aa07-fdd2b1aa60ad',\n",
       "       'a7ce0aa3-aec1-4a46-b6f9-8073fb1e23f1',\n",
       "       '622bf26a-1e57-4f7f-b978-4568d4a65f57',\n",
       "       '77131a79-5ccb-4df8-afa4-14c71d4048b8',\n",
       "       'f77f3c8b-49e6-44fe-92a1-c0b07bbea9e9',\n",
       "       '7bd22d5b-adf3-4b9e-8ead-a7f1ddc01171',\n",
       "       '3ff76631-5492-4693-8b20-73b5a6c8864d',\n",
       "       '9d18a57c-ae79-434c-81f9-b20e9f0e21d3',\n",
       "       '24d285d2-c1c9-4a9b-ab57-68fe292cf472',\n",
       "       '9e4aeae9-8729-4b0f-9e84-5c1f4eeacc74',\n",
       "       '22943bf2-9af2-4062-a9b2-acf1a02cba7a',\n",
       "       '2648558c-0040-427f-8f7e-50e78b24107e',\n",
       "       '41bf78e2-4791-4d2e-9459-22f401074964',\n",
       "       '89e13844-fa61-46bd-b99f-46423122de5a',\n",
       "       '290e568c-16e2-4656-8e04-7298f5884c48',\n",
       "       'e0807204-0086-4287-8ca4-6bff1759202c',\n",
       "       'bb23dbbc-b679-4849-b1d8-63279cad50e2',\n",
       "       'b7932ae0-7abb-4fee-b70f-1f6fa5835fcc',\n",
       "       '1b524925-07d8-42ea-8876-ada7298369ec',\n",
       "       '34223626-fab9-48f5-82bd-0b0037745994',\n",
       "       '7b8358f3-c96a-4a17-87ab-9414866e18db',\n",
       "       '41d28e85-3a78-40a8-ad6f-aa22aa02795c',\n",
       "       'ab6ffd82-1f4f-448a-a4a2-b0d8e861fc81',\n",
       "       '7fed6abf-3b16-41e3-8e9d-ec61382bce7e',\n",
       "       'c81cafe4-2589-4207-b8ba-6abbc2e311c2',\n",
       "       '6676c0e9-c6a6-413e-8355-fea361685385'], dtype=object)"
      ]
     },
     "execution_count": 65,
     "metadata": {},
     "output_type": "execute_result"
    }
   ],
   "source": [
    "df_walking.groupby(['user'],as_index=False).mean().sort_values('count')[::-1]['user'].values"
   ]
  },
  {
   "cell_type": "code",
   "execution_count": 55,
   "metadata": {},
   "outputs": [
    {
     "data": {
      "image/png": "[encoded data removed]",
      "text/plain": [
       "<Figure size 1440x720 with 1 Axes>"
      ]
     },
     "metadata": {
      "needs_background": "light"
     },
     "output_type": "display_data"
    }
   ],
   "source": [
    "df_user_mean = df.groupby(['user','prediction'],as_index=False).mean()\n",
    "plt.rcParams.update({'font.size':20})\n",
    "plt.figure(figsize=(20,10))\n",
    "sns.boxplot(x='prediction',y='count',data=df_user_mean)\n",
    "plt.xticks(rotation='60')\n",
    "plt.ylabel('Hours')\n",
    "plt.title('User Mean Per Day')\n",
    "plt.tight_layout()\n",
    "plt.savefig('./images/user_mean_per_day.png')\n",
    "plt.show()\n"
   ]
  },
  {
   "cell_type": "code",
   "execution_count": 22,
   "metadata": {},
   "outputs": [
    {
     "data": {
      "image/png": "[encoded data removed]",
      "text/plain": [
       "<Figure size 1440x720 with 1 Axes>"
      ]
     },
     "metadata": {
      "needs_background": "light"
     },
     "output_type": "display_data"
    }
   ],
   "source": [
    "plt.figure(figsize=(20,10))\n",
    "plt.hist(df_user_mean['count'][df_user_mean['prediction'].isin(['Walking','Stairs','Sports','Exercise'])],300,density=True)\n",
    "plt.xlim([0,2])\n",
    "plt.title('Moving Hours per day distribution')\n",
    "plt.xlabel('Hours')\n",
    "plt.savefig('./images/moving_hours_per_day.png')\n",
    "plt.show()"
   ]
  },
  {
   "cell_type": "code",
   "execution_count": 23,
   "metadata": {},
   "outputs": [],
   "source": [
    "# final_activity_list = ['Brushing','Cycling','Sports','Eating','Driving',\n",
    "#                        'Exercise','Sitting','Stairs','Standing','Walking']\n",
    "def percentage(df):\n",
    "    activities = np.unique(df['prediction'])\n",
    "    result  = []\n",
    "    for a in activities:\n",
    "        result.append(100*df['count'][df['prediction']==a].values[0]/df['count'].sum())\n",
    "    users = [df.user.values[0]]*len(result)\n",
    "    return pd.DataFrame({'activities':activities,'user':users,'percentage':result})\n",
    "\n",
    "df_user_percentage = df_user_mean.groupby('user',as_index=False).apply(percentage)"
   ]
  },
  {
   "cell_type": "code",
   "execution_count": 24,
   "metadata": {},
   "outputs": [
    {
     "data": {
      "image/png": "[encoded data removed]",
      "text/plain": [
       "<Figure size 1440x720 with 1 Axes>"
      ]
     },
     "metadata": {
      "needs_background": "light"
     },
     "output_type": "display_data"
    }
   ],
   "source": [
    "plt.rcParams.update({'font.size':20})\n",
    "plt.figure(figsize=(20,10))\n",
    "sns.boxplot(x='activities',y='percentage',data=df_user_percentage)\n",
    "plt.xticks(rotation=60)\n",
    "plt.savefig('./images/user_percentage_per_day.png')\n",
    "plt.show()"
   ]
  },
  {
   "cell_type": "code",
   "execution_count": null,
   "metadata": {},
   "outputs": [],
   "source": [
    "stream_name = 'org.md2k.feature.motionsensehrv.decoded.leftwrist.all'"
   ]
  },
  {
   "cell_type": "code",
   "execution_count": null,
   "metadata": {},
   "outputs": [],
   "source": [
    "data = CC.get_stream(stream_name)"
   ]
  },
  {
   "cell_type": "code",
   "execution_count": null,
   "metadata": {},
   "outputs": [],
   "source": [
    "data.select('user').distinct().count()"
   ]
  },
  {
   "cell_type": "code",
   "execution_count": null,
   "metadata": {},
   "outputs": [],
   "source": [
    "data_activity.count()"
   ]
  },
  {
   "cell_type": "code",
   "execution_count": null,
   "metadata": {},
   "outputs": [],
   "source": [
    "61692/(25*3600)"
   ]
  },
  {
   "cell_type": "code",
   "execution_count": null,
   "metadata": {},
   "outputs": [],
   "source": [
    "data.count()"
   ]
  },
  {
   "cell_type": "code",
   "execution_count": null,
   "metadata": {},
   "outputs": [],
   "source": [
    "data_activity.show(4,False)"
   ]
  },
  {
   "cell_type": "code",
   "execution_count": 29,
   "metadata": {},
   "outputs": [],
   "source": [
    "data = CC.get_stream('activity_type--org.md2k.phonesensor--phone')"
   ]
  },
  {
   "cell_type": "code",
   "execution_count": 30,
   "metadata": {},
   "outputs": [
    {
     "name": "stdout",
     "output_type": "stream",
     "text": [
      "root\n",
      " |-- timestamp: timestamp (nullable = true)\n",
      " |-- localtime: timestamp (nullable = true)\n",
      " |-- category: double (nullable = true)\n",
      " |-- confidence: double (nullable = true)\n",
      " |-- user: string (nullable = true)\n",
      " |-- version: integer (nullable = false)\n",
      "\n"
     ]
    }
   ],
   "source": [
    "data.printSchema()"
   ]
  },
  {
   "cell_type": "code",
   "execution_count": 33,
   "metadata": {},
   "outputs": [],
   "source": [
    "import tensorflow as tf\n",
    "gpus = tf.config.experimental.list_physical_devices('CPU')"
   ]
  },
  {
   "cell_type": "code",
   "execution_count": 35,
   "metadata": {},
   "outputs": [
    {
     "ename": "ModuleNotFoundError",
     "evalue": "No module named 'pytorch'",
     "output_type": "error",
     "traceback": [
      "\u001b[0;31m---------------------------------------------------------------------------\u001b[0m",
      "\u001b[0;31mModuleNotFoundError\u001b[0m                       Traceback (most recent call last)",
      "\u001b[0;32m<ipython-input-35-d35c46f8d1a2>\u001b[0m in \u001b[0;36m<module>\u001b[0;34m\u001b[0m\n\u001b[0;32m----> 1\u001b[0;31m \u001b[0;32mimport\u001b[0m \u001b[0mpytorch\u001b[0m\u001b[0;34m\u001b[0m\u001b[0;34m\u001b[0m\u001b[0m\n\u001b[0m",
      "\u001b[0;31mModuleNotFoundError\u001b[0m: No module named 'pytorch'"
     ]
    }
   ],
   "source": [
    "import pytorch"
   ]
  },
  {
   "cell_type": "code",
   "execution_count": 39,
   "metadata": {},
   "outputs": [
    {
     "data": {
      "text/plain": [
       "1386000"
      ]
     },
     "execution_count": 39,
     "metadata": {},
     "output_type": "execute_result"
    }
   ],
   "source": [
    "20*3*330*70"
   ]
  },
  {
   "cell_type": "code",
   "execution_count": 40,
   "metadata": {},
   "outputs": [
    {
     "data": {
      "text/plain": [
       "(1386000, 500, 3)"
      ]
     },
     "execution_count": 40,
     "metadata": {},
     "output_type": "execute_result"
    }
   ],
   "source": [
    "1386000,500,3"
   ]
  },
  {
   "cell_type": "code",
   "execution_count": null,
   "metadata": {},
   "outputs": [],
   "source": []
  }
 ],
 "metadata": {
  "kernelspec": {
   "display_name": "High Performance CC3.3",
   "language": "python",
   "name": "cc33_high_performance"
  },
  "language_info": {
   "codemirror_mode": {
    "name": "ipython",
    "version": 3
   },
   "file_extension": ".py",
   "mimetype": "text/x-python",
   "name": "python",
   "nbconvert_exporter": "python",
   "pygments_lexer": "ipython3",
   "version": "3.6.8"
  }
 },
 "nbformat": 4,
 "nbformat_minor": 2
}
