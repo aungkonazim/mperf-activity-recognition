{
 "cells": [
  {
   "cell_type": "code",
   "execution_count": 1,
   "metadata": {},
   "outputs": [
    {
     "name": "stderr",
     "output_type": "stream",
     "text": [
      "/cerebralcortex/kessel_jupyter_virtualenv/tensorflow/lib/python3.7/site-packages/pandas-1.2.3-py3.7-linux-x86_64.egg/pandas/compat/__init__.py:97: UserWarning: Could not import the lzma module. Your installed Python is incomplete. Attempting to use lzma compression will result in a RuntimeError.\n",
      "  warnings.warn(msg)\n"
     ]
    }
   ],
   "source": [
    "import pickle\n",
    "import numpy as np\n",
    "import pandas as pd"
   ]
  },
  {
   "cell_type": "code",
   "execution_count": 2,
   "metadata": {},
   "outputs": [],
   "source": [
    "results = pickle.load(open('./data/walking_results_10.p','rb'))"
   ]
  },
  {
   "cell_type": "code",
   "execution_count": 52,
   "metadata": {},
   "outputs": [],
   "source": [
    "data_col = []\n",
    "for window_size,test_score,test_df,y_test,unique_users_dict in results:\n",
    "#     if len(np.unique(y_test))<20:\n",
    "#         continue\n",
    "#     temp_df = test_df\n",
    "    acc_ = accuracy_score(test_df['original'],test_df['prediction'])\n",
    "    \n",
    "    test_score = test_score.append(pd.DataFrame({'user':[-1],\n",
    "                                    'majority_score':[acc_],\n",
    "                                    'maxmean_score':[acc_],\n",
    "                                    'test_lengths':[0]}))\n",
    "    \n",
    "    \n",
    "    test_score['train_lengths'] = window_size\n",
    "    \n",
    "    \n",
    "    \n",
    "    \n",
    "    \n",
    "    data_col.append(test_score)\n",
    "    "
   ]
  },
  {
   "cell_type": "code",
   "execution_count": 53,
   "metadata": {},
   "outputs": [],
   "source": [
    "from sklearn.metrics import accuracy_score"
   ]
  },
  {
   "cell_type": "code",
   "execution_count": 54,
   "metadata": {},
   "outputs": [],
   "source": [
    "scores = pd.concat(data_col)\n",
    "scores = scores[scores.test_lengths.isin(list(np.arange(1,177,8))+[0])]"
   ]
  },
  {
   "cell_type": "code",
   "execution_count": 55,
   "metadata": {},
   "outputs": [],
   "source": [
    "scores_mean = scores.groupby(['train_lengths','test_lengths'],as_index=False).mean()"
   ]
  },
  {
   "cell_type": "code",
   "execution_count": 56,
   "metadata": {},
   "outputs": [],
   "source": [
    "maxmean_score = pd.pivot_table(scores_mean,values='maxmean_score',index='test_lengths',columns='train_lengths',aggfunc='mean')\n",
    "\n",
    "try:\n",
    "    import seaborn as sns\n",
    "    import matplotlib.pyplot as plt\n",
    "    plt.rcParams.update({'font.size':15})\n",
    "    plt.figure(figsize=(20,10))\n",
    "    sns.heatmap(maxmean_score,annot=True,fmt='.2f',cmap='Reds',linewidth=1,linecolor='black')\n",
    "    plt.title('Max Mean Boosting')\n",
    "    plt.xlabel('Train data per user, minutes')\n",
    "    plt.ylabel('Test data length, minutes')\n",
    "    plt.savefig('./images/maxmean_boosting.png',dps=1e6)\n",
    "    plt.show()\n",
    "except Exception as e:\n",
    "    maxmean_score.to_json('maxmean_10.json')\n"
   ]
  },
  {
   "cell_type": "code",
   "execution_count": 57,
   "metadata": {},
   "outputs": [],
   "source": [
    "maxmean_score = pd.pivot_table(scores_mean,values='majority_score',index='test_lengths',columns='train_lengths',aggfunc='mean')\n",
    "\n",
    "\n",
    "try:\n",
    "    import seaborn as sns\n",
    "    import matplotlib.pyplot as plt\n",
    "    plt.rcParams.update({'font.size':15})\n",
    "    plt.figure(figsize=(20,10))\n",
    "    sns.heatmap(maxmean_score,annot=True,fmt='.2f',cmap='Reds',linewidth=1,linecolor='black')\n",
    "    plt.title('Majority Boosting')\n",
    "    plt.xlabel('Train data per user, minutes')\n",
    "    plt.ylabel('Test data length, minutes')\n",
    "    plt.savefig('./images/majority_boosting.png',dps=1e6)\n",
    "    plt.show()\n",
    "except Exception as e:\n",
    "    maxmean_score.to_json('majority_10.json')"
   ]
  },
  {
   "cell_type": "code",
   "execution_count": null,
   "metadata": {},
   "outputs": [],
   "source": []
  }
 ],
 "metadata": {
  "kernelspec": {
   "display_name": "tensorflow",
   "language": "python",
   "name": "tensorflow"
  },
  "language_info": {
   "codemirror_mode": {
    "name": "ipython",
    "version": 3
   },
   "file_extension": ".py",
   "mimetype": "text/x-python",
   "name": "python",
   "nbconvert_exporter": "python",
   "pygments_lexer": "ipython3",
   "version": "3.7.10"
  }
 },
 "nbformat": 4,
 "nbformat_minor": 5
}
