{
 "cells": [
  {
   "cell_type": "code",
   "execution_count": 2,
   "metadata": {},
   "outputs": [],
   "source": [
    "import tensorflow as tf\n",
    "from tensorflow.keras.models import load_model\n",
    "import numpy as np\n",
    "import pandas as pd\n",
    "from pyspark.sql import functions as F\n",
    "from pyspark.sql.functions import pandas_udf, PandasUDFType\n",
    "from pyspark.sql.types import StructField, StructType, DoubleType,MapType, StringType,ArrayType, FloatType, TimestampType, IntegerType\n",
    "from cerebralcortex.core.datatypes import DataStream\n",
    "from cerebralcortex.core.metadata_manager.stream.metadata import Metadata, DataDescriptor, \\\n",
    "ModuleMetadata\n",
    "from scipy import signal\n",
    "from scipy.interpolate import interp1d\n",
    "from cerebralcortex import Kernel\n",
    "from scipy.stats import skew,kurtosis,mode\n",
    "CC = Kernel(\"/home/jupyter/cc3_conf/\", study_name='mperf')"
   ]
  },
  {
   "cell_type": "markdown",
   "metadata": {},
   "source": [
    "Resampling mperf data to 20Hz and computes the magnitude and applies activity recognition model"
   ]
  },
  {
   "cell_type": "code",
   "execution_count": null,
   "metadata": {},
   "outputs": [],
   "source": [
    "import tempfile\n",
    "import tensorflow \n",
    "\n",
    "def interpolate_acl(a,window_size=10,fs_now=25,fs_new=20):\n",
    "    x_now = np.linspace(0,window_size,window_size*fs_now)\n",
    "    f = interp1d(x_now,a,axis=0,fill_value='extrapolate')\n",
    "    x_new = np.linspace(0,window_size,window_size*fs_new)\n",
    "    return f(x_new)\n",
    "\n",
    "class ModelWrapperPickable:\n",
    "\n",
    "    def __init__(self, model):\n",
    "        self.model = model\n",
    "\n",
    "    def __getstate__(self):\n",
    "        model_str = ''\n",
    "        with tempfile.NamedTemporaryFile(suffix='.hdf5', delete=True) as fd:\n",
    "            tensorflow.keras.models.save_model(self.model, fd.name, overwrite=True)\n",
    "            model_str = fd.read()\n",
    "        d = { 'model_str': model_str }\n",
    "        return d\n",
    "\n",
    "    def __setstate__(self, state):\n",
    "        with tempfile.NamedTemporaryFile(suffix='.hdf5', delete=True) as fd:\n",
    "            fd.write(state['model_str'])\n",
    "            fd.flush()\n",
    "            self.model = tensorflow.keras.models.load_model(fd.name)\n",
    "\n",
    "\n",
    "def isDatapointsWithinRange(red,infrared,green):\n",
    "        red = np.asarray(red, dtype=np.float32)\n",
    "        infrared = np.asarray(infrared, dtype=np.float32)\n",
    "        green = np.asarray(green, dtype=np.float32)\n",
    "        a =  len(np.where((red >= 20000)& (red<=200000))[0]) < .33*10*25\n",
    "        b = len(np.where((infrared >= 80000)& (infrared<=230000))[0]) < .33*10*25\n",
    "        c = len(np.where((green >= 500)& (green<=20000))[0]) < .33*10*25\n",
    "        if a and b and c:\n",
    "            return False\n",
    "        return True            \n",
    "\n",
    "            \n",
    "def compute_quality(red,infrared,green):\n",
    "        \"\"\"\n",
    "        :param window: a window containing list of DataPoints\n",
    "        :return: an integer reptresenting the status of the window 0= attached, 1 = not attached\n",
    "        \"\"\"\n",
    "        if len(red)==0:\n",
    "            return 'Not Worn' #not attached\n",
    "        if not isDatapointsWithinRange(red,infrared,green):\n",
    "            return 'Not Worn'\n",
    "        red_mean = np.mean(red)\n",
    "        ir_mean = np.mean(infrared)\n",
    "        green_mean = np.mean(green)\n",
    "        if red_mean < 5000 and ir_mean < 5000:\n",
    "            return 'Not Worn'\n",
    "        if not (red_mean>green_mean and ir_mean>red_mean):\n",
    "            return 'Not Worn'\n",
    "        diff = 30000\n",
    "        if red_mean<130000:\n",
    "            diff = 10000\n",
    "        if not red_mean - green_mean > diff:\n",
    "            return 'Not Worn'\n",
    "        if not ir_mean - red_mean >diff:\n",
    "            return 'Not Worn'\n",
    "        return 'Worn'            \n",
    "            \n",
    "\n",
    "def compute_magnitude_and_activity(data,\n",
    "                                   Fs = 25,\n",
    "                                   window_size = 10,\n",
    "                                   stream_name = 'org.md2k.feature.motionsensehrv.decoded.rightwrist.all',\n",
    "                                   new_Fs = 20,\n",
    "                                   filename1 = './models/activity_estimator_both_magnitude.hdf5',\n",
    "                                   filename2 = './models/activity_estimator_wisdm_magnitude.hdf5',\n",
    "                                   filename3 = './models/activity_estimator_dalia_magnitude.hdf5'):\n",
    "            \n",
    "    model = load_model(filename1)\n",
    "\n",
    "    model_wrapper= ModelWrapperPickable(model)\n",
    "\n",
    "\n",
    "    model_wisdm = load_model(filename2)\n",
    "\n",
    "    model_wrapper_wisdm= ModelWrapperPickable(model_wisdm)\n",
    "    \n",
    "    model_dalia = load_model(filename3)\n",
    "\n",
    "    model_wrapper_dalia = ModelWrapperPickable(model_dalia)\n",
    "\n",
    "\n",
    "    data = data.select('localtime','timestamp','aclx','acly','aclz','user','version','red','infrared','green')\n",
    "\n",
    "    data = data.withColumn('magnitude',F.sqrt(F.pow(F.col('aclx'),2)+F.pow(F.col('acly'),2)+F.pow(F.col('aclz'),2))).drop('aclx','acly','aclz')\n",
    "\n",
    "    data = data.withColumn('time',F.col('timestamp').cast('double'))\n",
    "\n",
    "    data = data.withColumn('magnitude_time',F.array('time','magnitude')).drop('time','magnitude')\n",
    "\n",
    "    groupbycols = ['user','version',\n",
    "                   F.window('timestamp',windowDuration=str(window_size)+' seconds', startTime='0 seconds')]\n",
    "    data_windowed_10 = data.groupBy(groupbycols).agg(F.collect_list('magnitude_time'),\n",
    "                                                     F.collect_list('localtime'),\n",
    "                                                    F.collect_list('red'),\n",
    "                                                    F.collect_list('infrared'),\n",
    "                                                    F.collect_list('green'))\n",
    "\n",
    "    data_windowed_10 = data_windowed_10.withColumnRenamed('collect_list(magnitude_time)','magnitude_time')\n",
    "    data_windowed_10 = data_windowed_10.withColumnRenamed('collect_list(localtime)','localtime')\n",
    "    \n",
    "    data_windowed_10 = data_windowed_10.withColumnRenamed('collect_list(red)','red')\n",
    "    data_windowed_10 = data_windowed_10.withColumnRenamed('collect_list(infrared)','infrared')\n",
    "    data_windowed_10 = data_windowed_10.withColumnRenamed('collect_list(green)','green')\n",
    "\n",
    "    qfunction = F.udf(compute_quality,StringType())\n",
    "    data_windowed_10 = data_windowed_10.withColumn('quality',qfunction(data_windowed_10['red'],data_windowed_10['infrared'],data_windowed_10['green']))\n",
    "\n",
    "    data_windowed_10 = data_windowed_10.drop('red','infrared','green')\n",
    "    \n",
    "    data_windowed_10 = data_windowed_10.filter(F.col('quality')=='Worn').drop('quality')\n",
    "\n",
    "    \n",
    "    data_windowed_10 = data_windowed_10.withColumn('localtime',F.col('localtime').getItem(0))\n",
    "\n",
    "    data_windowed_10 = data_windowed_10.withColumn('length',F.size('magnitude_time'))\n",
    "\n",
    "    data_windowed_10 = data_windowed_10.filter(F.col('length')==window_size*Fs).drop('length')\n",
    "\n",
    "    data_windowed_10 = data_windowed_10.withColumn('timestamp',F.col('window').start).withColumn('start',F.col('window').start).withColumn('end',F.col('window').end).drop('window')\n",
    "\n",
    "    data_windowed_10  = data_windowed_10.withColumn('day',F.date_format('localtime',\"yyyyMMdd\"))\n",
    "\n",
    "    final_activity_list = ['Brushing','Cycling','Sports','Eating','Driving',\n",
    "                           'Exercise','Sitting','Stairs','Standing','Walking']\n",
    "    final_activity_dict = {a:i for i,a in enumerate(final_activity_list)}\n",
    "    final_activity_dict_reverse = {i:a for i,a in enumerate(final_activity_list)}\n",
    "\n",
    "    activity_list_wisdm = ['Sitting','Stairs','Jogging','Typing','Standing','Walking','Brushing','Eating','Drinking','Kicking',\n",
    "                    'Playing Catch','Dribbling','Writing','Clapping','Folding Clothes']\n",
    "    activity_list_dalia = ['Driving','Sitting','Stairs','Walking']\n",
    "#     print(data_windowed_10.schema)\n",
    "    schema = StructType(list(data_windowed_10.schema)[:2]+list(data_windowed_10.schema)[3:]+[StructField(\"magnitude\", ArrayType(DoubleType())),\n",
    "                                                                                            StructField(\"prediction\", StringType()),\n",
    "                                                                                            StructField(\"prediction_wisdm\", StringType()),\n",
    "                                                                                            StructField(\"prediction_dalia\", StringType()),\n",
    "                                                                                            StructField(\"mean\", DoubleType()),\n",
    "                                                                                            StructField(\"std\", DoubleType()),\n",
    "                                                                                            StructField(\"skew\", DoubleType()),\n",
    "                                                                                            StructField(\"kurtosis\", DoubleType())])\n",
    "#     print(schema)\n",
    "\n",
    "    \n",
    "    def smooth_predictions(df):\n",
    "        if df.shape[0]<3:\n",
    "            return pd.DataFrame([],columns=columns)\n",
    "        for name in ['prediction','prediction_wisdm','prediction_dalia']:\n",
    "            y_activities = list(df[name])\n",
    "            m_act = mode(y_activities)[0][0]\n",
    "            df[name] = [m_act]*df.shape[0]\n",
    "        return df\n",
    "\n",
    "    columns = [a.name for a in schema.fields]\n",
    "    @pandas_udf(schema, PandasUDFType.GROUPED_MAP)\n",
    "    def interpolate_acl_magnitude(df):\n",
    "        df['magnitude_time'] = df['magnitude_time'].apply(lambda b:np.array([np.array(a) for a in b]).reshape(window_size*Fs,2))\n",
    "        df['magnitude_time'] = df['magnitude_time'].apply(lambda a:a[a[:,0].argsort()])\n",
    "        df['magnitude_time'] = df['magnitude_time'].apply(lambda a:a[:,1].reshape(window_size*Fs,1))\n",
    "        df['magnitude'] = df['magnitude_time'].apply(lambda a:interpolate_acl(a).reshape(1,window_size*new_Fs,1))\n",
    "        X = np.concatenate(list(df['magnitude']))\n",
    "        y_pred = model_wrapper.model.predict(X).argmax(axis=1)\n",
    "        df['prediction'] = list(y_pred.reshape(-1))\n",
    "        df['prediction'] = df['prediction'].apply(lambda a:final_activity_dict_reverse[a])\n",
    "\n",
    "        y_pred = model_wrapper_wisdm.model.predict(X).argmax(axis=1)\n",
    "        df['prediction_wisdm'] = list(y_pred.reshape(-1))\n",
    "        df['prediction_wisdm'] = df['prediction_wisdm'].apply(lambda a:activity_list_wisdm[a])\n",
    "        \n",
    "        y_pred = model_wrapper_dalia.model.predict(X).argmax(axis=1)\n",
    "        df['prediction_dalia'] = list(y_pred.reshape(-1))\n",
    "        df['prediction_dalia'] = df['prediction_dalia'].apply(lambda a:activity_list_dalia[a])\n",
    "        \n",
    "        df['magnitude'] = df['magnitude'].apply(lambda a:a.reshape(-1)) \n",
    "        df['mean'] = df['magnitude'].apply(lambda a:np.mean(a))\n",
    "        df['std'] = df['magnitude'].apply(lambda a:np.std(a))\n",
    "        df['skew'] = df['magnitude'].apply(lambda a:skew(a))\n",
    "        df['kurtosis'] = df['magnitude'].apply(lambda a:kurtosis(a))\n",
    "        df = df[columns]\n",
    "        df = df.groupby(pd.Grouper(key='timestamp',freq=str(3*window_size)+'S'),as_index=False).apply(smooth_predictions)\n",
    "        return df\n",
    "\n",
    "    data_interpolated = data_windowed_10.groupBy(['user','version','day']).apply(interpolate_acl_magnitude)\n",
    "    schema = data_interpolated.schema\n",
    "    stream_metadata = Metadata()\n",
    "    stream_metadata.set_name(stream_name+'.activity.all').set_description(\"Activity Computed\")\n",
    "    for field in schema.fields:\n",
    "        stream_metadata.add_dataDescriptor(\n",
    "            DataDescriptor().set_name(str(field.name)).set_type(str(field.dataType))\n",
    "        )\n",
    "    stream_metadata.add_module(\n",
    "        ModuleMetadata().set_name(\"activity datastream\") \\\n",
    "        .set_attribute(\"url\", \"https://md2k.org\").set_author(\n",
    "            \"Md Azim Ullah\", \"mullah@memphis.edu\"))\n",
    "    stream_metadata.is_valid()\n",
    "    data_interpolated.printSchema()\n",
    "    ds = DataStream(data=data_interpolated,metadata=stream_metadata)\n",
    "    return ds\n",
    "# CC.save_stream(ds,overwrite=True)\n",
    "\n",
    "stream_name = 'org.md2k.feature.motionsensehrv.decoded.rightwrist.all'\n",
    "data = CC.get_stream(stream_name)\n",
    "data_activity = compute_magnitude_and_activity(data,stream_name=stream_name)\n",
    "CC.save_stream(data_activity,overwrite=True)"
   ]
  },
  {
   "cell_type": "code",
   "execution_count": null,
   "metadata": {},
   "outputs": [],
   "source": [
    "data  = CC.get_stream('org.md2k.feature.motionsensehrv.decoded.rightwrist.all.activity.all')"
   ]
  },
  {
   "cell_type": "code",
   "execution_count": null,
   "metadata": {},
   "outputs": [],
   "source": [
    "data.groupBy('prediction_dalia').count().show(5,False)"
   ]
  },
  {
   "cell_type": "code",
   "execution_count": 3,
   "metadata": {},
   "outputs": [],
   "source": [
    "right_data = CC.get_stream('org.md2k.feature.motionsensehrv.decoded.rightwrist.all.activity.all')\n",
    "\n",
    "count_data = right_data.select('user','prediction','day').groupBy(['user','prediction','day']).count()\n",
    "df = count_data.toPandas()\n",
    "import pickle\n",
    "pickle.dump(df,open('./data/right_wrist_count.p','wb'))"
   ]
  },
  {
   "cell_type": "code",
   "execution_count": 11,
   "metadata": {},
   "outputs": [],
   "source": [
    "df_user_mean = df.groupby(['prediction','user'],as_index=False).mean()"
   ]
  },
  {
   "cell_type": "code",
   "execution_count": 12,
   "metadata": {},
   "outputs": [
    {
     "data": {
      "text/html": [
       "<div>\n",
       "<style scoped>\n",
       "    .dataframe tbody tr th:only-of-type {\n",
       "        vertical-align: middle;\n",
       "    }\n",
       "\n",
       "    .dataframe tbody tr th {\n",
       "        vertical-align: top;\n",
       "    }\n",
       "\n",
       "    .dataframe thead th {\n",
       "        text-align: right;\n",
       "    }\n",
       "</style>\n",
       "<table border=\"1\" class=\"dataframe\">\n",
       "  <thead>\n",
       "    <tr style=\"text-align: right;\">\n",
       "      <th></th>\n",
       "      <th>count</th>\n",
       "    </tr>\n",
       "    <tr>\n",
       "      <th>prediction</th>\n",
       "      <th></th>\n",
       "    </tr>\n",
       "  </thead>\n",
       "  <tbody>\n",
       "    <tr>\n",
       "      <th>Brushing</th>\n",
       "      <td>47.682078</td>\n",
       "    </tr>\n",
       "    <tr>\n",
       "      <th>Cycling</th>\n",
       "      <td>3.618320</td>\n",
       "    </tr>\n",
       "    <tr>\n",
       "      <th>Driving</th>\n",
       "      <td>6.122910</td>\n",
       "    </tr>\n",
       "    <tr>\n",
       "      <th>Eating</th>\n",
       "      <td>176.872016</td>\n",
       "    </tr>\n",
       "    <tr>\n",
       "      <th>Exercise</th>\n",
       "      <td>5.410968</td>\n",
       "    </tr>\n",
       "    <tr>\n",
       "      <th>Sitting</th>\n",
       "      <td>151.177402</td>\n",
       "    </tr>\n",
       "    <tr>\n",
       "      <th>Sports</th>\n",
       "      <td>42.083353</td>\n",
       "    </tr>\n",
       "    <tr>\n",
       "      <th>Stairs</th>\n",
       "      <td>5.215276</td>\n",
       "    </tr>\n",
       "    <tr>\n",
       "      <th>Standing</th>\n",
       "      <td>59.049030</td>\n",
       "    </tr>\n",
       "    <tr>\n",
       "      <th>Walking</th>\n",
       "      <td>16.369720</td>\n",
       "    </tr>\n",
       "  </tbody>\n",
       "</table>\n",
       "</div>"
      ],
      "text/plain": [
       "                 count\n",
       "prediction            \n",
       "Brushing     47.682078\n",
       "Cycling       3.618320\n",
       "Driving       6.122910\n",
       "Eating      176.872016\n",
       "Exercise      5.410968\n",
       "Sitting     151.177402\n",
       "Sports       42.083353\n",
       "Stairs        5.215276\n",
       "Standing     59.049030\n",
       "Walking      16.369720"
      ]
     },
     "execution_count": 12,
     "metadata": {},
     "output_type": "execute_result"
    }
   ],
   "source": [
    "df_user_mean.groupby('prediction').mean()"
   ]
  },
  {
   "cell_type": "code",
   "execution_count": null,
   "metadata": {},
   "outputs": [],
   "source": [
    "right_data = CC.get_stream('org.md2k.feature.motionsensehrv.decoded.rightwrist.all.activity')\n",
    "\n",
    "count_data = right_data.select('user','prediction_wisdm','day').groupBy(['user','prediction_wisdm','day']).count()\n",
    "df = count_data.toPandas()\n",
    "import pickle\n",
    "pickle.dump(df,open('./data/right_wrist_count_wisdm.p','wb'))"
   ]
  },
  {
   "cell_type": "code",
   "execution_count": 26,
   "metadata": {},
   "outputs": [],
   "source": [
    "import matplotlib.pyplot as plt\n",
    "import seaborn as sns\n",
    "df = pickle.load(open('./data/right_wrist_count.p','rb'))"
   ]
  },
  {
   "cell_type": "code",
   "execution_count": null,
   "metadata": {},
   "outputs": [],
   "source": []
  },
  {
   "cell_type": "code",
   "execution_count": 27,
   "metadata": {},
   "outputs": [],
   "source": [
    "# df['prediction'] = df['prediction_wisdm']"
   ]
  },
  {
   "cell_type": "code",
   "execution_count": 28,
   "metadata": {},
   "outputs": [
    {
     "name": "stderr",
     "output_type": "stream",
     "text": [
      "/cerebralcortex/kessel_jupyter_virtualenv/cc33/lib64/python3.6/site-packages/ipykernel_launcher.py:2: SettingWithCopyWarning: \n",
      "A value is trying to be set on a copy of a slice from a DataFrame\n",
      "\n",
      "See the caveats in the documentation: https://pandas.pydata.org/pandas-docs/stable/user_guide/indexing.html#returning-a-view-versus-a-copy\n",
      "  \n"
     ]
    }
   ],
   "source": [
    "df['count'] = df['count'].apply(lambda a:(a*10)/3600)\n",
    "df['prediction'][df['prediction'].isin(['Sitting','Eating'])] = ['Sitting']*df[df['prediction'].isin(['Sitting','Eating'])].shape[0]"
   ]
  },
  {
   "cell_type": "code",
   "execution_count": 29,
   "metadata": {},
   "outputs": [],
   "source": [
    "df_walking = df[df['prediction']=='Sitting']"
   ]
  },
  {
   "cell_type": "code",
   "execution_count": 30,
   "metadata": {},
   "outputs": [
    {
     "data": {
      "image/png": "[encoded data removed]",
      "text/plain": [
       "<Figure size 1440x720 with 1 Axes>"
      ]
     },
     "metadata": {
      "needs_background": "light"
     },
     "output_type": "display_data"
    }
   ],
   "source": [
    "plt.figure(figsize=(20,10))\n",
    "plt.hist(df_walking[['user','count']].groupby('user').quantile(.5)['count'],20)\n",
    "plt.title('Maximum walking hours for a single day')\n",
    "plt.xlabel('Hours')\n",
    "plt.tight_layout()\n",
    "plt.savefig('./images/Maximumwalk.png')\n",
    "plt.show()"
   ]
  },
  {
   "cell_type": "code",
   "execution_count": 18,
   "metadata": {},
   "outputs": [
    {
     "data": {
      "text/html": [
       "<div>\n",
       "<style scoped>\n",
       "    .dataframe tbody tr th:only-of-type {\n",
       "        vertical-align: middle;\n",
       "    }\n",
       "\n",
       "    .dataframe tbody tr th {\n",
       "        vertical-align: top;\n",
       "    }\n",
       "\n",
       "    .dataframe thead th {\n",
       "        text-align: right;\n",
       "    }\n",
       "</style>\n",
       "<table border=\"1\" class=\"dataframe\">\n",
       "  <thead>\n",
       "    <tr style=\"text-align: right;\">\n",
       "      <th></th>\n",
       "      <th>prediction</th>\n",
       "      <th>day</th>\n",
       "      <th>count</th>\n",
       "    </tr>\n",
       "    <tr>\n",
       "      <th>user</th>\n",
       "      <th></th>\n",
       "      <th></th>\n",
       "      <th></th>\n",
       "    </tr>\n",
       "  </thead>\n",
       "  <tbody>\n",
       "    <tr>\n",
       "      <th>00ab666c-afb8-476e-9872-6472b4e66b68</th>\n",
       "      <td>Walking</td>\n",
       "      <td>20180124</td>\n",
       "      <td>0.083333</td>\n",
       "    </tr>\n",
       "    <tr>\n",
       "      <th>022e4ff8-e1af-43dc-b747-862ac83518d2</th>\n",
       "      <td>Walking</td>\n",
       "      <td>20180108</td>\n",
       "      <td>0.100000</td>\n",
       "    </tr>\n",
       "    <tr>\n",
       "      <th>02e82ef0-acb8-4366-8c83-4c3f2f69f7ea</th>\n",
       "      <td>Walking</td>\n",
       "      <td>20180119</td>\n",
       "      <td>0.058333</td>\n",
       "    </tr>\n",
       "    <tr>\n",
       "      <th>038aafca-cc30-47c6-9cbe-5c2cb52d8f04</th>\n",
       "      <td>Walking</td>\n",
       "      <td>20171128</td>\n",
       "      <td>0.075000</td>\n",
       "    </tr>\n",
       "    <tr>\n",
       "      <th>03996723-2411-4167-b14b-eb11dfc33124</th>\n",
       "      <td>Walking</td>\n",
       "      <td>20180131</td>\n",
       "      <td>0.016667</td>\n",
       "    </tr>\n",
       "    <tr>\n",
       "      <th>...</th>\n",
       "      <td>...</td>\n",
       "      <td>...</td>\n",
       "      <td>...</td>\n",
       "    </tr>\n",
       "    <tr>\n",
       "      <th>fd36e160-50a0-4dad-9357-65ea218c8d3c</th>\n",
       "      <td>Walking</td>\n",
       "      <td>20180408</td>\n",
       "      <td>0.266667</td>\n",
       "    </tr>\n",
       "    <tr>\n",
       "      <th>fe84e1e8-87b7-463b-99e4-2e492576ccbd</th>\n",
       "      <td>Walking</td>\n",
       "      <td>20180212</td>\n",
       "      <td>0.083333</td>\n",
       "    </tr>\n",
       "    <tr>\n",
       "      <th>feaad88c-c9f0-405a-a32f-4c9adfc0be6b</th>\n",
       "      <td>Walking</td>\n",
       "      <td>20171201</td>\n",
       "      <td>0.291667</td>\n",
       "    </tr>\n",
       "    <tr>\n",
       "      <th>febb3cef-56cc-4f40-b7c2-7c2663b0dc33</th>\n",
       "      <td>Walking</td>\n",
       "      <td>20180208</td>\n",
       "      <td>0.208333</td>\n",
       "    </tr>\n",
       "    <tr>\n",
       "      <th>fecd1ca1-4240-42ab-ab94-bfb993a1da11</th>\n",
       "      <td>Walking</td>\n",
       "      <td>20180117</td>\n",
       "      <td>0.100000</td>\n",
       "    </tr>\n",
       "  </tbody>\n",
       "</table>\n",
       "<p>388 rows × 3 columns</p>\n",
       "</div>"
      ],
      "text/plain": [
       "                                     prediction       day     count\n",
       "user                                                               \n",
       "00ab666c-afb8-476e-9872-6472b4e66b68    Walking  20180124  0.083333\n",
       "022e4ff8-e1af-43dc-b747-862ac83518d2    Walking  20180108  0.100000\n",
       "02e82ef0-acb8-4366-8c83-4c3f2f69f7ea    Walking  20180119  0.058333\n",
       "038aafca-cc30-47c6-9cbe-5c2cb52d8f04    Walking  20171128  0.075000\n",
       "03996723-2411-4167-b14b-eb11dfc33124    Walking  20180131  0.016667\n",
       "...                                         ...       ...       ...\n",
       "fd36e160-50a0-4dad-9357-65ea218c8d3c    Walking  20180408  0.266667\n",
       "fe84e1e8-87b7-463b-99e4-2e492576ccbd    Walking  20180212  0.083333\n",
       "feaad88c-c9f0-405a-a32f-4c9adfc0be6b    Walking  20171201  0.291667\n",
       "febb3cef-56cc-4f40-b7c2-7c2663b0dc33    Walking  20180208  0.208333\n",
       "fecd1ca1-4240-42ab-ab94-bfb993a1da11    Walking  20180117  0.100000\n",
       "\n",
       "[388 rows x 3 columns]"
      ]
     },
     "execution_count": 18,
     "metadata": {},
     "output_type": "execute_result"
    }
   ],
   "source": [
    "df_walking.groupby('user').max()"
   ]
  },
  {
   "cell_type": "code",
   "execution_count": 31,
   "metadata": {},
   "outputs": [
    {
     "data": {
      "image/png": "[encoded data removed]",
      "text/plain": [
       "<Figure size 1440x720 with 1 Axes>"
      ]
     },
     "metadata": {
      "needs_background": "light"
     },
     "output_type": "display_data"
    }
   ],
   "source": [
    "df_user_mean = df.groupby(['user','prediction'],as_index=False).mean()\n",
    "plt.rcParams.update({'font.size':20})\n",
    "plt.figure(figsize=(20,10))\n",
    "sns.boxplot(x='prediction',y='count',data=df_user_mean)\n",
    "plt.xticks(rotation='60')\n",
    "plt.ylabel('Hours')\n",
    "plt.savefig('./images/user_mean_per_day.png')\n",
    "plt.show()\n"
   ]
  },
  {
   "cell_type": "code",
   "execution_count": 32,
   "metadata": {},
   "outputs": [
    {
     "data": {
      "image/png": "[encoded data removed]",
      "text/plain": [
       "<Figure size 1440x720 with 1 Axes>"
      ]
     },
     "metadata": {
      "needs_background": "light"
     },
     "output_type": "display_data"
    }
   ],
   "source": [
    "plt.figure(figsize=(20,10))\n",
    "plt.hist(df_user_mean['count'][df_user_mean['prediction'].isin(['Walking','Stairs','Sports','Exercise'])],300,density=True)\n",
    "plt.xlim([0,2])\n",
    "plt.title('Moving Hours per day distribution')\n",
    "plt.xlabel('Hours')\n",
    "plt.savefig('./images/moving_hours_per_day.png')\n",
    "plt.show()"
   ]
  },
  {
   "cell_type": "code",
   "execution_count": 33,
   "metadata": {},
   "outputs": [],
   "source": [
    "# final_activity_list = ['Brushing','Cycling','Sports','Eating','Driving',\n",
    "#                        'Exercise','Sitting','Stairs','Standing','Walking']\n",
    "def percentage(df):\n",
    "    activities = np.unique(df['prediction'])\n",
    "    result  = []\n",
    "    for a in activities:\n",
    "        result.append(100*df['count'][df['prediction']==a].values[0]/df['count'].sum())\n",
    "    users = [df.user.values[0]]*len(result)\n",
    "    return pd.DataFrame({'activities':activities,'user':users,'percentage':result})\n",
    "\n",
    "df_user_percentage = df_user_mean.groupby('user',as_index=False).apply(percentage)"
   ]
  },
  {
   "cell_type": "code",
   "execution_count": 34,
   "metadata": {},
   "outputs": [
    {
     "data": {
      "image/png": "[encoded data removed]",
      "text/plain": [
       "<Figure size 1440x720 with 1 Axes>"
      ]
     },
     "metadata": {
      "needs_background": "light"
     },
     "output_type": "display_data"
    }
   ],
   "source": [
    "plt.rcParams.update({'font.size':20})\n",
    "plt.figure(figsize=(20,10))\n",
    "sns.boxplot(x='activities',y='percentage',data=df_user_percentage)\n",
    "plt.xticks(rotation=60)\n",
    "plt.savefig('./images/user_percentage_per_day.png')\n",
    "plt.show()"
   ]
  },
  {
   "cell_type": "code",
   "execution_count": null,
   "metadata": {},
   "outputs": [],
   "source": [
    "stream_name = 'org.md2k.feature.motionsensehrv.decoded.leftwrist.all'"
   ]
  },
  {
   "cell_type": "code",
   "execution_count": null,
   "metadata": {},
   "outputs": [],
   "source": [
    "data = CC.get_stream(stream_name)"
   ]
  },
  {
   "cell_type": "code",
   "execution_count": null,
   "metadata": {},
   "outputs": [],
   "source": [
    "data.select('user').distinct().count()"
   ]
  },
  {
   "cell_type": "code",
   "execution_count": null,
   "metadata": {},
   "outputs": [],
   "source": [
    "data_activity.count()"
   ]
  },
  {
   "cell_type": "code",
   "execution_count": null,
   "metadata": {},
   "outputs": [],
   "source": [
    "61692/(25*3600)"
   ]
  },
  {
   "cell_type": "code",
   "execution_count": null,
   "metadata": {},
   "outputs": [],
   "source": [
    "data.count()"
   ]
  },
  {
   "cell_type": "code",
   "execution_count": null,
   "metadata": {},
   "outputs": [],
   "source": [
    "data_activity.show(4,False)"
   ]
  },
  {
   "cell_type": "code",
   "execution_count": null,
   "metadata": {},
   "outputs": [],
   "source": [
    "import tensorflow as tf"
   ]
  },
  {
   "cell_type": "code",
   "execution_count": null,
   "metadata": {},
   "outputs": [],
   "source": [
    "import tensorflow as tf\n",
    "import numpy as np\n",
    "gpus = tf.config.experimental.list_physical_devices('GPU')\n",
    "if gpus:\n",
    "  # Restrict TensorFlow to only use the first GPU\n",
    "    try:\n",
    "        tf.config.experimental.set_visible_devices(gpus[0], 'GPU')\n",
    "        logical_gpus = tf.config.experimental.list_logical_devices('GPU')\n",
    "        print(len(gpus), \"Physical GPUs,\", len(logical_gpus), \"Logical GPU\")\n",
    "    except RuntimeError as e:\n",
    "        # Visible devices must be set before GPUs have been initialized\n",
    "        print(e)\n",
    "np.random.seed(100)"
   ]
  },
  {
   "cell_type": "code",
   "execution_count": null,
   "metadata": {},
   "outputs": [],
   "source": [
    "import tensorflow as tf"
   ]
  },
  {
   "cell_type": "code",
   "execution_count": 35,
   "metadata": {},
   "outputs": [],
   "source": [
    "import os"
   ]
  },
  {
   "cell_type": "code",
   "execution_count": 36,
   "metadata": {},
   "outputs": [
    {
     "ename": "FileNotFoundError",
     "evalue": "[Errno 2] No such file or directory: 'hdfs://dantooine10dot.memphis.edu/user/mullah'",
     "output_type": "error",
     "traceback": [
      "\u001b[0;31m---------------------------------------------------------------------------\u001b[0m",
      "\u001b[0;31mFileNotFoundError\u001b[0m                         Traceback (most recent call last)",
      "\u001b[0;32m<ipython-input-36-74cc4f983bc3>\u001b[0m in \u001b[0;36m<module>\u001b[0;34m\u001b[0m\n\u001b[0;32m----> 1\u001b[0;31m \u001b[0mos\u001b[0m\u001b[0;34m.\u001b[0m\u001b[0mlistdir\u001b[0m\u001b[0;34m(\u001b[0m\u001b[0;34m'hdfs://dantooine10dot.memphis.edu/user/mullah'\u001b[0m\u001b[0;34m)\u001b[0m\u001b[0;34m\u001b[0m\u001b[0;34m\u001b[0m\u001b[0m\n\u001b[0m",
      "\u001b[0;31mFileNotFoundError\u001b[0m: [Errno 2] No such file or directory: 'hdfs://dantooine10dot.memphis.edu/user/mullah'"
     ]
    }
   ],
   "source": [
    "os.listdir('hdfs://dantooine10dot.memphis.edu/user/mullah')"
   ]
  },
  {
   "cell_type": "code",
   "execution_count": null,
   "metadata": {},
   "outputs": [],
   "source": []
  }
 ],
 "metadata": {
  "kernelspec": {
   "display_name": "High Performance CC3.3",
   "language": "python",
   "name": "cc33_high_performance"
  },
  "language_info": {
   "codemirror_mode": {
    "name": "ipython",
    "version": 3
   },
   "file_extension": ".py",
   "mimetype": "text/x-python",
   "name": "python",
   "nbconvert_exporter": "python",
   "pygments_lexer": "ipython3",
   "version": "3.6.8"
  }
 },
 "nbformat": 4,
 "nbformat_minor": 2
}
