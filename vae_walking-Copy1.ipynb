{
 "cells": [
  {
   "cell_type": "code",
   "execution_count": 1,
   "id": "mediterranean-mayor",
   "metadata": {},
   "outputs": [
    {
     "name": "stdout",
     "output_type": "stream",
     "text": [
      "4 Physical GPUs, 1 Logical GPU\n"
     ]
    }
   ],
   "source": [
    "import numpy as np\n",
    "import tensorflow as tf\n",
    "from tensorflow import keras\n",
    "from tensorflow.keras import layers\n",
    "import tensorflow as tf\n",
    "import numpy as np\n",
    "gpus = tf.config.experimental.list_physical_devices('GPU')\n",
    "if gpus:\n",
    "  # Restrict TensorFlow to only use the first GPU\n",
    "    try:\n",
    "        tf.config.experimental.set_visible_devices(gpus[3], 'GPU')\n",
    "        logical_gpus = tf.config.experimental.list_logical_devices('GPU')\n",
    "        print(len(gpus), \"Physical GPUs,\", len(logical_gpus), \"Logical GPU\")\n",
    "    except RuntimeError as e:\n",
    "        # Visible devices must be set before GPUs have been initialized\n",
    "        print(e)\n",
    "np.random.seed(100)"
   ]
  },
  {
   "cell_type": "code",
   "execution_count": null,
   "id": "executed-portugal",
   "metadata": {},
   "outputs": [],
   "source": []
  },
  {
   "cell_type": "code",
   "execution_count": null,
   "id": "approved-retailer",
   "metadata": {},
   "outputs": [],
   "source": [
    "import numpy as np\n",
    "import tensorflow as tf\n",
    "from tensorflow import keras\n",
    "from tensorflow.keras import layers\n",
    "latent_dim = 50\n",
    "base_window_size = 10\n",
    "Fs = 25\n",
    "n_timesteps = base_window_size*Fs\n",
    "n_channels = 3\n",
    "\n",
    "class Sampling(layers.Layer):\n",
    "    \"\"\"Uses (z_mean, z_log_var) to sample z, the vector encoding a digit.\"\"\"\n",
    "\n",
    "    def call(self, inputs):\n",
    "        z_mean, z_log_var = inputs\n",
    "        batch = tf.shape(z_mean)[0]\n",
    "        dim = tf.shape(z_mean)[1]\n",
    "        epsilon = tf.keras.backend.random_normal(shape=(batch, dim))\n",
    "        return z_mean + tf.exp(0.5 * z_log_var) * epsilon\n",
    "\n",
    "\n",
    "\n",
    "encoder_inputs = keras.Input(shape=(n_timesteps, n_channels))\n",
    "\n",
    "x = layers.Conv1D(100, 20, activation=\"relu\", strides=1, padding=\"same\")(encoder_inputs)\n",
    "x = layers.GRU(128,return_sequences=True,activation='tanh')(x)\n",
    "x = layers.Conv1D(100, 20, activation=\"relu\", strides=1, padding=\"same\")(x)\n",
    "x = layers.MaxPool1D(2)(x)\n",
    "x = layers.Conv1D(100, 30, activation=\"relu\", strides=1, padding=\"same\")(x)\n",
    "x = layers.MaxPool1D(2)(x)\n",
    "x = layers.Dropout(.5)(x)\n",
    "x = layers.Conv1D(100, 30, activation=\"relu\", strides=1, padding=\"same\")(x)\n",
    "x = layers.Flatten()(x)\n",
    "x = layers.Dense(20, activation=\"relu\")(x)\n",
    "z_mean = layers.Dense(latent_dim, name=\"z_mean\")(x)\n",
    "z_log_var = layers.Dense(latent_dim, name=\"z_log_var\")(x)\n",
    "z = Sampling()([z_mean, z_log_var])\n",
    "encoder = keras.Model(encoder_inputs, [z_mean, z_log_var, z], name=\"encoder\")\n",
    "encoder.summary()\n",
    "\n",
    "latent_inputs = keras.Input(shape=(latent_dim,))\n",
    "x = layers.Dense(5*125, activation=\"relu\")(latent_inputs)\n",
    "x = layers.Reshape((125, 5))(x)\n",
    "x = layers.Conv1DTranspose(125, 125, activation=\"relu\", strides=2, padding=\"same\")(x)\n",
    "# x = layers.Conv1DTranspose(125, 125, activation=\"relu\", strides=2, padding=\"same\")(x)\n",
    "x = layers.GRU(10,return_sequences=True,activation='tanh')(x)\n",
    "x = layers.Conv1D(100, 30, activation=\"relu\", strides=1, padding=\"same\")(x)\n",
    "x = layers.AveragePooling1D(2,strides=1,padding='same')(x)\n",
    "x = layers.Conv1D(100, 30, activation=\"relu\", strides=1, padding=\"same\")(x)\n",
    "x = layers.AveragePooling1D(2,strides=1,padding='same')(x)\n",
    "x = layers.Conv1D(100, 30, activation=\"relu\", strides=1, padding=\"same\")(x)\n",
    "x = layers.AveragePooling1D(2,strides=1,padding='same')(x)\n",
    "x = layers.GRU(n_channels,return_sequences=True,activation='tanh')(x)\n",
    "# decoder_outputs = layers.Conv2DTranspose(1, 3, activation=\"sigmoid\", padding=\"same\")(x)\n",
    "decoder = keras.Model(latent_inputs, x, name=\"decoder\")\n",
    "# decoder = get_generator_model(latent_size=latent_dim)\n",
    "decoder.summary()\n",
    "\n",
    "class VAE(keras.Model):\n",
    "    def __init__(self, encoder, decoder, **kwargs):\n",
    "        super(VAE, self).__init__(**kwargs)\n",
    "        self.encoder = encoder\n",
    "        self.decoder = decoder\n",
    "        self.total_loss_tracker = keras.metrics.Mean(name=\"total_loss\")\n",
    "        self.reconstruction_loss_tracker = keras.metrics.Mean(\n",
    "            name=\"reconstruction_loss\"\n",
    "        )\n",
    "        self.kl_loss_tracker = keras.metrics.Mean(name=\"kl_loss\")\n",
    "\n",
    "    @property\n",
    "    def metrics(self):\n",
    "        return [\n",
    "            self.total_loss_tracker,\n",
    "            self.reconstruction_loss_tracker,\n",
    "            self.kl_loss_tracker,\n",
    "        ]\n",
    "\n",
    "    def train_step(self, data):\n",
    "        with tf.GradientTape() as tape:\n",
    "            z_mean, z_log_var, z = self.encoder(data)\n",
    "            reconstruction = self.decoder(z)\n",
    "            aa = keras.losses.mean_absolute_error(data, reconstruction)\n",
    "            reconstruction_loss = tf.reduce_sum(tf.reduce_mean(aa))\n",
    "            print(reconstruction_loss.shape)\n",
    "            kl_loss = -0.5 * (1 + z_log_var - tf.square(z_mean) - tf.exp(z_log_var))\n",
    "            kl_loss = tf.reduce_mean(tf.reduce_sum(kl_loss, axis=1))\n",
    "            \n",
    "            total_loss = reconstruction_loss + kl_loss\n",
    "#             + .1* kl_loss\n",
    "#             + kl_loss\n",
    "        print(total_loss)\n",
    "        grads = tape.gradient(total_loss, self.trainable_weights)\n",
    "        self.optimizer.apply_gradients(zip(grads, self.trainable_weights))\n",
    "        self.total_loss_tracker.update_state(total_loss)\n",
    "        self.reconstruction_loss_tracker.update_state(reconstruction_loss)\n",
    "        self.kl_loss_tracker.update_state(kl_loss)\n",
    "        return {\n",
    "            \"loss\": self.total_loss_tracker.result(),\n",
    "            \"reconstruction_loss\": self.reconstruction_loss_tracker.result(),\n",
    "            \"kl_loss\": self.kl_loss_tracker.result(),\n",
    "        }"
   ]
  },
  {
   "cell_type": "code",
   "execution_count": null,
   "id": "continental-annotation",
   "metadata": {},
   "outputs": [],
   "source": [
    "import pickle\n",
    "import numpy as np\n",
    "import pandas as pd\n",
    "X,y = pickle.load(open('./data/10/walking_all_data1.p','rb'))\n",
    "X = np.concatenate(X[:10])\n",
    "X.shape"
   ]
  },
  {
   "cell_type": "code",
   "execution_count": null,
   "id": "unknown-galaxy",
   "metadata": {},
   "outputs": [],
   "source": [
    "from scipy.stats import skew,kurtosis\n",
    "def get_features(a):\n",
    "    return np.array(list(np.mean(a,axis=0))+list(np.std(a,axis=0))+list(np.percentile(a,80,axis=0))+\n",
    "list(np.percentile(a,20,axis=0))+list(skew(a,axis=0))+list(kurtosis(a,axis=0)))"
   ]
  },
  {
   "cell_type": "code",
   "execution_count": null,
   "id": "european-trainer",
   "metadata": {},
   "outputs": [],
   "source": [
    "from joblib import Parallel,delayed"
   ]
  },
  {
   "cell_type": "code",
   "execution_count": null,
   "id": "antique-agenda",
   "metadata": {},
   "outputs": [],
   "source": [
    "X_features = Parallel(n_jobs=20,verbose=2)(delayed(get_features)(a) for a in X)"
   ]
  },
  {
   "cell_type": "code",
   "execution_count": null,
   "id": "starting-preservation",
   "metadata": {},
   "outputs": [],
   "source": [
    "X_features = np.array(X_features)"
   ]
  },
  {
   "cell_type": "code",
   "execution_count": null,
   "id": "written-newark",
   "metadata": {},
   "outputs": [],
   "source": [
    ".5*X_features.shape[1]*np.log(2*np.pi*np.e)*np.linalg.det(np.cov(X_features.T))"
   ]
  },
  {
   "cell_type": "code",
   "execution_count": null,
   "id": "martial-bronze",
   "metadata": {},
   "outputs": [],
   "source": [
    "np.linalg.det(np.cov(X_features[:,:3].T))"
   ]
  },
  {
   "cell_type": "code",
   "execution_count": null,
   "id": "graphic-bidder",
   "metadata": {},
   "outputs": [],
   "source": [
    "from scipy.stats import norm\n",
    "norm.fit(X_features)"
   ]
  },
  {
   "cell_type": "code",
   "execution_count": null,
   "id": "bright-protocol",
   "metadata": {},
   "outputs": [],
   "source": [
    "X[X>2] = 2\n",
    "X[X<-2] = -2\n"
   ]
  },
  {
   "cell_type": "code",
   "execution_count": null,
   "id": "competent-anime",
   "metadata": {},
   "outputs": [],
   "source": [
    "X = X/2"
   ]
  },
  {
   "cell_type": "code",
   "execution_count": null,
   "id": "confidential-forest",
   "metadata": {},
   "outputs": [],
   "source": [
    "# X = X[:,:,:1]\n",
    "X.shape"
   ]
  },
  {
   "cell_type": "code",
   "execution_count": null,
   "id": "amino-huntington",
   "metadata": {},
   "outputs": [],
   "source": [
    "vae = VAE(encoder, decoder)\n",
    "vae.compile(optimizer=keras.optimizers.Adam())\n",
    "vae.fit(X, epochs=300, batch_size=100)"
   ]
  },
  {
   "cell_type": "code",
   "execution_count": null,
   "id": "potential-department",
   "metadata": {},
   "outputs": [],
   "source": [
    "z_sample = np.array([[xi, yi]])\n",
    "x_decoded = vae.decoder.predict(z_sample)"
   ]
  },
  {
   "cell_type": "code",
   "execution_count": null,
   "id": "civic-photography",
   "metadata": {},
   "outputs": [],
   "source": [
    "z_sample = vae.encoder.predict(X[:10])[0]"
   ]
  },
  {
   "cell_type": "code",
   "execution_count": null,
   "id": "instrumental-treat",
   "metadata": {},
   "outputs": [],
   "source": [
    "z_sample.shape"
   ]
  },
  {
   "cell_type": "code",
   "execution_count": null,
   "id": "adopted-mexican",
   "metadata": {},
   "outputs": [],
   "source": [
    "x_decoded = vae.decoder.predict(z_sample)"
   ]
  },
  {
   "cell_type": "code",
   "execution_count": null,
   "id": "promising-australian",
   "metadata": {},
   "outputs": [],
   "source": [
    "x_decoded.shape"
   ]
  },
  {
   "cell_type": "code",
   "execution_count": null,
   "id": "victorian-finnish",
   "metadata": {},
   "outputs": [],
   "source": [
    "import matplotlib.pyplot as plt\n",
    "plt.plot(x_decoded[8])\n",
    "plt.plot(X[8])"
   ]
  },
  {
   "cell_type": "code",
   "execution_count": null,
   "id": "seventh-storm",
   "metadata": {},
   "outputs": [],
   "source": [
    "import shutil"
   ]
  },
  {
   "cell_type": "code",
   "execution_count": null,
   "id": "organized-african",
   "metadata": {},
   "outputs": [],
   "source": [
    "import pickle\n",
    "import os"
   ]
  },
  {
   "cell_type": "code",
   "execution_count": null,
   "id": "ruled-retro",
   "metadata": {},
   "outputs": [],
   "source": [
    "directory = './results/walking_multiple/'"
   ]
  },
  {
   "cell_type": "code",
   "execution_count": null,
   "id": "clear-quick",
   "metadata": {},
   "outputs": [],
   "source": [
    "results = []\n",
    "for f in os.listdir(directory):\n",
    "    df = pickle.load(open(directory+f,'rb'))\n",
    "    results.append(df)"
   ]
  },
  {
   "cell_type": "code",
   "execution_count": null,
   "id": "micro-testimony",
   "metadata": {},
   "outputs": [],
   "source": [
    "import pandas as pd"
   ]
  },
  {
   "cell_type": "code",
   "execution_count": null,
   "id": "romantic-juice",
   "metadata": {},
   "outputs": [],
   "source": [
    "pickle.dump(pd.concat(results),open('./data/walking_multiple_iterations.p','wb'))"
   ]
  },
  {
   "cell_type": "code",
   "execution_count": 2,
   "id": "improving-charleston",
   "metadata": {},
   "outputs": [],
   "source": [
    "import tensorflow as tf\n",
    "import pickle"
   ]
  },
  {
   "cell_type": "code",
   "execution_count": 3,
   "id": "invalid-voluntary",
   "metadata": {},
   "outputs": [
    {
     "name": "stdout",
     "output_type": "stream",
     "text": [
      "Model: \"model\"\n",
      "_________________________________________________________________\n",
      "Layer (type)                 Output Shape              Param #   \n",
      "=================================================================\n",
      "conv1d_94_input (InputLayer) [(None, 250, 3)]          0         \n",
      "_________________________________________________________________\n",
      "conv1d_94 (Conv1D)           (None, 250, 128)          896       \n",
      "_________________________________________________________________\n",
      "max_pooling1d_94 (MaxPooling (None, 125, 128)          0         \n",
      "_________________________________________________________________\n",
      "conv1d_95 (Conv1D)           (None, 125, 128)          32896     \n",
      "_________________________________________________________________\n",
      "max_pooling1d_95 (MaxPooling (None, 62, 128)           0         \n",
      "_________________________________________________________________\n",
      "activation_47 (Activation)   (None, 62, 128)           0         \n",
      "_________________________________________________________________\n",
      "dropout_47 (Dropout)         (None, 62, 128)           0         \n",
      "_________________________________________________________________\n",
      "gru_47 (GRU)                 (None, 62, 128)           99072     \n",
      "_________________________________________________________________\n",
      "flatten_47 (Flatten)         (None, 7936)              0         \n",
      "=================================================================\n",
      "Total params: 132,864\n",
      "Trainable params: 132,864\n",
      "Non-trainable params: 0\n",
      "_________________________________________________________________\n"
     ]
    }
   ],
   "source": [
    "model = tf.keras.models.load_model('./models/10/walking/120/300persons.hdf5')\n",
    "final_model = tf.keras.models.Model(model.input,model.layers[-3].output)\n",
    "final_model.summary()"
   ]
  },
  {
   "cell_type": "code",
   "execution_count": 4,
   "id": "failing-graham",
   "metadata": {},
   "outputs": [],
   "source": [
    "users = pickle.load(open('./models/10/walking/120/300user_dict.p','rb'))"
   ]
  },
  {
   "cell_type": "code",
   "execution_count": 5,
   "id": "motivated-ferry",
   "metadata": {},
   "outputs": [
    {
     "name": "stdout",
     "output_type": "stream",
     "text": [
      "(1392, 300),(3416, 300),(1707, 300),(2658, 300),(6000, 300),(1213, 300),(3858, 300),(6000, 300),(2886, 300),(2486, 300),(6000, 300),(3025, 300),(4000, 300),(1813, 300),(2165, 300),(1689, 300),(4003, 300),(2298, 300),(1547, 300),(6000, 300),(1387, 300),(3276, 300),(2594, 300),(1688, 300),(4680, 300),(3135, 300),(1159, 300),(2384, 300),(1393, 300),(2895, 300),(2531, 300),(2365, 300),(1743, 300),(1961, 300),(1355, 300),(2001, 300),(1518, 300),(2378, 300),(2578, 300),(1991, 300),(1483, 300),(3488, 300),(1458, 300),(1769, 300),(3315, 300),(2551, 300),(3818, 300),(2116, 300),(3731, 300),(5282, 300),(3488, 300),(6000, 300),(2001, 300),(1754, 300),(2224, 300),(2997, 300),(3099, 300),(2434, 300),(2944, 300),(1602, 300),(1775, 300),(2284, 300),(1106, 300),(3001, 300),(2363, 300),(4581, 300),(1540, 300),(1196, 300),(1650, 300),(1850, 300),(1145, 300),(2291, 300),(1907, 300),(1798, 300),(3087, 300),(2791, 300),(1221, 300),(2104, 300),(1213, 300),(1954, 300),(2188, 300),(1618, 300),(5056, 300),(2718, 300),(4117, 300),(1618, 300),(1888, 300),(5788, 300),(3317, 300),(4194, 300),(1881, 300),(1812, 300),(1125, 300),(6000, 300),(5255, 300),(1499, 300),(1351, 300),(6000, 300),(1674, 300),(2990, 300),(6000, 300),(1614, 300),(1462, 300),(1169, 300),(2134, 300),(2682, 300),(2237, 300),(3551, 300),(3396, 300),(1627, 300),(6000, 300),(3749, 300),(1219, 300),(4293, 300),(1192, 300),(2520, 300),(3397, 300),(1799, 300),(1959, 300),(2319, 300),(1662, 300),(1702, 300),(4381, 300),(2952, 300),(2379, 300),(2954, 300),(4600, 300),(2647, 300),(3429, 300),(2043, 300),(4207, 300),(3184, 300),(1234, 300),(1444, 300),(4103, 300),(4568, 300),(1735, 300),(3542, 300),(2581, 300),(1664, 300),(6000, 300),(6000, 300),(1154, 300),(1625, 300),(1278, 300),(6000, 300),(5734, 300),(1341, 300),(2363, 300),(1304, 300),(1203, 300),(1902, 300),(1524, 300),(4852, 300),(2100, 300),(6000, 300),(1497, 300),(2462, 300),(1245, 300),(1837, 300),(2745, 300),(2773, 300),(1168, 300),(5097, 300),(1254, 300),(1321, 300),(1547, 300),(2189, 300),(1836, 300),(3049, 300),(3599, 300),(1392, 300),(4061, 300),(6000, 300),(2366, 300),(3949, 300),(4672, 300),(6000, 300),(2158, 300),(3190, 300),(2956, 300),(1111, 300),(1964, 300),(1509, 300),(2141, 300),(2117, 300),(2266, 300),(3064, 300),(3563, 300),(1879, 300),(3545, 300),(1590, 300),(3628, 300),(2805, 300),(5930, 300),(1652, 300),(2082, 300),(4147, 300),(2066, 300),(6000, 300),(1666, 300),(2693, 300),(2111, 300),(1323, 300),(1601, 300),(1126, 300),(3486, 300),(1383, 300),(1868, 300),(3536, 300),"
     ]
    }
   ],
   "source": [
    "import pickle\n",
    "import numpy as np\n",
    "from sklearn.decomposition import PCA\n",
    "import pandas as pd\n",
    "X,y = pickle.load(open('./data/10/walking_all_data1.p','rb'))\n",
    "y_participant = []\n",
    "features = []\n",
    "for i in range(len(X)):\n",
    "    if len(X[i])<1100:\n",
    "        continue\n",
    "    y_participant.extend([y[i]]*len(X[i])) \n",
    "    features.append(PCA(n_components=300).fit_transform(final_model.predict(X[i])))\n",
    "    print(features[-1].shape,end=',')\n",
    "y = np.array(y_participant)\n",
    "X = np.concatenate(X)"
   ]
  },
  {
   "cell_type": "code",
   "execution_count": 6,
   "id": "cosmetic-sending",
   "metadata": {},
   "outputs": [],
   "source": [
    "features = np.concatenate(features)"
   ]
  },
  {
   "cell_type": "code",
   "execution_count": 7,
   "id": "fifth-dependence",
   "metadata": {},
   "outputs": [],
   "source": [
    "features1 = features.copy()"
   ]
  },
  {
   "cell_type": "code",
   "execution_count": 8,
   "id": "filled-highlight",
   "metadata": {},
   "outputs": [],
   "source": [
    "features = PCA(n_components=300).fit_transform(features1)"
   ]
  },
  {
   "cell_type": "code",
   "execution_count": 9,
   "id": "compound-amendment",
   "metadata": {},
   "outputs": [
    {
     "data": {
      "text/plain": [
       "((660863, 250, 3), (575593,), (575593, 300))"
      ]
     },
     "execution_count": 9,
     "metadata": {},
     "output_type": "execute_result"
    }
   ],
   "source": [
    "X.shape,y.shape,features.shape"
   ]
  },
  {
   "cell_type": "code",
   "execution_count": 10,
   "id": "assumed-halifax",
   "metadata": {},
   "outputs": [
    {
     "data": {
      "text/plain": [
       "(575593, 300)"
      ]
     },
     "execution_count": 10,
     "metadata": {},
     "output_type": "execute_result"
    }
   ],
   "source": [
    "features.shape"
   ]
  },
  {
   "cell_type": "code",
   "execution_count": 11,
   "id": "boolean-version",
   "metadata": {},
   "outputs": [
    {
     "name": "stderr",
     "output_type": "stream",
     "text": [
      "[Parallel(n_jobs=20)]: Using backend LokyBackend with 20 concurrent workers.\n",
      "[Parallel(n_jobs=20)]: Done   3 out of  20 | elapsed:    7.6s remaining:   43.2s\n",
      "[Parallel(n_jobs=20)]: Done  14 out of  20 | elapsed:   24.2s remaining:   10.4s\n",
      "[Parallel(n_jobs=20)]: Done  20 out of  20 | elapsed:   30.7s finished\n",
      "[Parallel(n_jobs=20)]: Using backend LokyBackend with 20 concurrent workers.\n"
     ]
    },
    {
     "name": "stdout",
     "output_type": "stream",
     "text": [
      "[array([  1., -inf]), array([  2., -inf]), array([  3., -inf]), array([  4.        , 124.09383476]), array([  5.        , 119.82604042]), array([  6.       , 120.0474591]), array([  7.        , 121.22262395]), array([  8.       , 121.8283902]), array([  9.        , 123.87496932]), array([ 10.        , 123.78836345]), array([ 11.        , 122.37324381]), array([ 12.        , 123.38212417]), array([ 13.        , 120.84381517]), array([ 14.        , 122.52007732]), array([ 15.        , 121.82836054]), array([ 16.        , 123.52004581]), array([ 17.        , 124.55741838]), array([ 18.        , 120.70390381]), array([ 19.        , 122.63062482]), array([ 20.       , 123.8311133])]\n"
     ]
    },
    {
     "name": "stderr",
     "output_type": "stream",
     "text": [
      "[Parallel(n_jobs=20)]: Done   3 out of  20 | elapsed:   42.9s remaining:  4.0min\n",
      "[Parallel(n_jobs=20)]: Done  14 out of  20 | elapsed:  1.1min remaining:   28.5s\n",
      "[Parallel(n_jobs=20)]: Done  20 out of  20 | elapsed:  1.2min finished\n",
      "[Parallel(n_jobs=20)]: Using backend LokyBackend with 20 concurrent workers.\n"
     ]
    },
    {
     "name": "stdout",
     "output_type": "stream",
     "text": [
      "[array([ 21.        , 123.64822439]), array([ 22.        , 123.57664468]), array([ 23.        , 122.46296241]), array([ 24.        , 123.77523039]), array([ 25.        , 122.10990388]), array([ 26.        , 122.21767128]), array([ 27.        , 125.10137069]), array([ 28.        , 121.33298407]), array([ 29.        , 121.98967737]), array([ 30.        , 120.95866804]), array([ 31.        , 123.87185393]), array([ 32.       , 123.2407012]), array([ 33.        , 123.15825184]), array([ 34.        , 121.36588984]), array([ 35.        , 123.10666754]), array([ 36.        , 122.89543255]), array([ 37.        , 124.93271239]), array([ 38.        , 121.70618202]), array([ 39.        , 122.33505743]), array([ 40.        , 123.19075463])]\n"
     ]
    },
    {
     "name": "stderr",
     "output_type": "stream",
     "text": [
      "[Parallel(n_jobs=20)]: Done   3 out of  20 | elapsed:  1.4min remaining:  7.7min\n",
      "[Parallel(n_jobs=20)]: Done  14 out of  20 | elapsed:  1.8min remaining:   46.1s\n",
      "[Parallel(n_jobs=20)]: Done  20 out of  20 | elapsed:  2.0min finished\n",
      "[Parallel(n_jobs=20)]: Using backend LokyBackend with 20 concurrent workers.\n"
     ]
    },
    {
     "name": "stdout",
     "output_type": "stream",
     "text": [
      "[array([ 41.        , 123.55271602]), array([ 42.       , 121.9074082]), array([ 43.        , 121.14395557]), array([ 44.        , 122.67609705]), array([ 45.        , 122.73808123]), array([ 46.        , 123.16358393]), array([ 47.        , 121.76652948]), array([ 48.        , 122.60358027]), array([ 49.        , 122.18943347]), array([ 50.       , 122.8874514]), array([ 51.        , 123.88472903]), array([ 52.        , 121.93443066]), array([ 53.        , 123.24549021]), array([ 54.        , 121.38868297]), array([ 55.        , 123.03054819]), array([ 56.        , 122.38131536]), array([ 57.        , 123.28776124]), array([ 58.       , 122.3317258]), array([ 59.        , 121.77522954]), array([ 60.        , 122.74536125])]\n"
     ]
    },
    {
     "name": "stderr",
     "output_type": "stream",
     "text": [
      "[Parallel(n_jobs=20)]: Done   3 out of  20 | elapsed:  1.9min remaining: 10.7min\n",
      "[Parallel(n_jobs=20)]: Done  14 out of  20 | elapsed:  2.5min remaining:  1.1min\n",
      "[Parallel(n_jobs=20)]: Done  20 out of  20 | elapsed:  2.7min finished\n",
      "[Parallel(n_jobs=20)]: Using backend LokyBackend with 20 concurrent workers.\n"
     ]
    },
    {
     "name": "stdout",
     "output_type": "stream",
     "text": [
      "[array([ 61.       , 122.1536612]), array([ 62.        , 123.10560918]), array([ 63.        , 121.80518016]), array([ 64.        , 123.02424197]), array([ 65.        , 122.13355997]), array([ 66.        , 122.27777181]), array([ 67.        , 122.74467715]), array([ 68.        , 122.86725573]), array([ 69.        , 122.75258838]), array([ 70.        , 122.67225043]), array([ 71.        , 122.34039271]), array([ 72.        , 122.13820862]), array([ 73.        , 122.40427432]), array([ 74.        , 122.01329409]), array([ 75.        , 122.70370946]), array([ 76.        , 122.53927674]), array([ 77.        , 121.94960523]), array([ 78.        , 122.54555784]), array([ 79.        , 122.00692862]), array([ 80.       , 121.9276797])]\n"
     ]
    },
    {
     "name": "stderr",
     "output_type": "stream",
     "text": [
      "[Parallel(n_jobs=20)]: Done   3 out of  20 | elapsed:  2.2min remaining: 12.3min\n",
      "[Parallel(n_jobs=20)]: Done  14 out of  20 | elapsed:  3.2min remaining:  1.4min\n",
      "[Parallel(n_jobs=20)]: Done  20 out of  20 | elapsed:  3.4min finished\n",
      "[Parallel(n_jobs=20)]: Using backend LokyBackend with 20 concurrent workers.\n"
     ]
    },
    {
     "name": "stdout",
     "output_type": "stream",
     "text": [
      "[array([ 81.        , 121.96448592]), array([ 82.        , 122.15360756]), array([ 83.        , 122.03767828]), array([ 84.        , 122.34129759]), array([ 85.        , 123.44432317]), array([ 86.       , 122.3580885]), array([ 87.        , 122.77093659]), array([ 88.        , 122.04675859]), array([ 89.        , 122.93947856]), array([ 90.        , 122.77957854]), array([ 91.        , 122.50463425]), array([ 92.        , 122.67138823]), array([ 93.        , 122.56694415]), array([ 94.        , 122.71720697]), array([ 95.        , 122.54262808]), array([ 96.        , 122.75987593]), array([ 97.        , 122.08031523]), array([ 98.        , 122.60341499]), array([ 99.        , 122.96673273]), array([100.        , 122.43297996])]\n"
     ]
    },
    {
     "name": "stderr",
     "output_type": "stream",
     "text": [
      "[Parallel(n_jobs=20)]: Done   3 out of  20 | elapsed:  2.7min remaining: 15.6min\n",
      "[Parallel(n_jobs=20)]: Done  14 out of  20 | elapsed:  4.0min remaining:  1.7min\n",
      "[Parallel(n_jobs=20)]: Done  20 out of  20 | elapsed:  4.2min finished\n",
      "[Parallel(n_jobs=20)]: Using backend LokyBackend with 20 concurrent workers.\n"
     ]
    },
    {
     "name": "stdout",
     "output_type": "stream",
     "text": [
      "[array([101.        , 122.67860123]), array([102.        , 122.01043557]), array([103.        , 122.05182338]), array([104.        , 122.55820249]), array([105.        , 122.58823319]), array([106.        , 122.96343521]), array([107.        , 122.56584297]), array([108.        , 122.03791873]), array([109.        , 123.15012349]), array([110.        , 122.44665155]), array([111.        , 122.11425792]), array([112.        , 122.82930432]), array([113.       , 123.3647061]), array([114.        , 122.84694793]), array([115.        , 122.23965328]), array([116.        , 123.05466792]), array([117.        , 123.41613056]), array([118.        , 123.03799309]), array([119.        , 122.53769606]), array([120.        , 122.89262519])]\n"
     ]
    },
    {
     "name": "stderr",
     "output_type": "stream",
     "text": [
      "[Parallel(n_jobs=20)]: Done   3 out of  20 | elapsed:  3.3min remaining: 18.7min\n",
      "[Parallel(n_jobs=20)]: Done  14 out of  20 | elapsed:  4.7min remaining:  2.0min\n",
      "[Parallel(n_jobs=20)]: Done  20 out of  20 | elapsed:  4.9min finished\n",
      "[Parallel(n_jobs=20)]: Using backend LokyBackend with 20 concurrent workers.\n"
     ]
    },
    {
     "name": "stdout",
     "output_type": "stream",
     "text": [
      "[array([121.        , 122.54187607]), array([122.        , 123.05069814]), array([123.        , 122.52655004]), array([124.        , 122.55954819]), array([125.        , 122.50087569]), array([126.        , 122.98544059]), array([127.        , 122.87205248]), array([128.      , 122.713563]), array([129.        , 122.99959802]), array([130.       , 123.0597541]), array([131.        , 122.51128071]), array([132.        , 122.70765264]), array([133.        , 123.02086409]), array([134.        , 122.39830829]), array([135.        , 122.91096694]), array([136.       , 122.6382629]), array([137.        , 122.42368848]), array([138.        , 122.36637007]), array([139.        , 122.38855838]), array([140.        , 122.61777828])]\n"
     ]
    },
    {
     "name": "stderr",
     "output_type": "stream",
     "text": [
      "[Parallel(n_jobs=20)]: Done   3 out of  20 | elapsed:  3.7min remaining: 20.8min\n",
      "[Parallel(n_jobs=20)]: Done  14 out of  20 | elapsed:  5.4min remaining:  2.3min\n",
      "[Parallel(n_jobs=20)]: Done  20 out of  20 | elapsed:  5.6min finished\n",
      "[Parallel(n_jobs=20)]: Using backend LokyBackend with 20 concurrent workers.\n"
     ]
    },
    {
     "name": "stdout",
     "output_type": "stream",
     "text": [
      "[array([141.        , 122.48138623]), array([142.        , 122.60046986]), array([143.        , 122.64490669]), array([144.        , 122.73064954]), array([145.        , 122.54966821]), array([146.        , 122.68074842]), array([147.        , 121.86937508]), array([148.        , 122.41303019]), array([149.        , 122.72328085]), array([150.        , 122.63737344]), array([151.        , 122.49125481]), array([152.        , 122.94198084]), array([153.        , 122.27761324]), array([154.        , 122.59608662]), array([155.        , 122.60324084]), array([156.        , 122.93392434]), array([157.        , 122.62367575]), array([158.        , 122.58214564]), array([159.        , 122.79831159]), array([160.        , 122.95500673])]\n"
     ]
    },
    {
     "name": "stderr",
     "output_type": "stream",
     "text": [
      "[Parallel(n_jobs=20)]: Done   3 out of  20 | elapsed:  5.0min remaining: 28.5min\n",
      "[Parallel(n_jobs=20)]: Done  14 out of  20 | elapsed:  6.1min remaining:  2.6min\n",
      "[Parallel(n_jobs=20)]: Done  20 out of  20 | elapsed:  6.5min finished\n",
      "[Parallel(n_jobs=20)]: Using backend LokyBackend with 20 concurrent workers.\n"
     ]
    },
    {
     "name": "stdout",
     "output_type": "stream",
     "text": [
      "[array([161.        , 122.56329006]), array([162.        , 122.51434686]), array([163.        , 122.82901041]), array([164.        , 122.53971135]), array([165.        , 122.17640512]), array([166.        , 122.59416733]), array([167.        , 122.41810716]), array([168.        , 122.61256702]), array([169.        , 122.59217598]), array([170.        , 122.62349194]), array([171.        , 123.17415584]), array([172.        , 122.49373263]), array([173.        , 122.54105266]), array([174.        , 122.52330697]), array([175.        , 122.63858393]), array([176.        , 122.47862634]), array([177.        , 122.70789567]), array([178.        , 122.69611978]), array([179.        , 122.50801777]), array([180.        , 122.52030982])]\n"
     ]
    },
    {
     "name": "stderr",
     "output_type": "stream",
     "text": [
      "[Parallel(n_jobs=20)]: Done   3 out of  20 | elapsed:  5.6min remaining: 31.6min\n",
      "[Parallel(n_jobs=20)]: Done  14 out of  20 | elapsed:  7.0min remaining:  3.0min\n"
     ]
    },
    {
     "name": "stdout",
     "output_type": "stream",
     "text": [
      "[array([181.        , 122.76278887]), array([182.        , 122.46343244]), array([183.        , 122.64311971]), array([184.        , 122.64850766]), array([185.        , 122.50588996]), array([186.        , 122.61070681]), array([187.        , 122.72513754]), array([188.       , 122.4983677]), array([189.        , 122.70706429]), array([190.        , 122.73938771]), array([191.        , 123.01045941]), array([192.        , 122.74370017]), array([193.        , 122.76116575]), array([194.        , 122.55640644]), array([195.        , 122.51747923]), array([196.        , 122.59029375]), array([197.        , 122.53960053]), array([198.        , 122.52942943]), array([199.       , 122.6383292]), array([200.        , 122.65247003])]\n"
     ]
    },
    {
     "name": "stderr",
     "output_type": "stream",
     "text": [
      "[Parallel(n_jobs=20)]: Done  20 out of  20 | elapsed:  7.1min finished\n"
     ]
    }
   ],
   "source": [
    "unique_users = np.unique(list(users.keys()))\n",
    "user_df =pd.DataFrame({'user':np.unique(y)})\n",
    "index_df = pd.DataFrame({'user':y,'index':np.arange(len(y))})\n",
    "n_users = np.arange(1,10,1)\n",
    "n_iter = 80\n",
    "\n",
    "def get_average_entropy(n_user,n_iter):\n",
    "    result = []\n",
    "    for k in range(n_iter):\n",
    "        temp_users = np.unique(user_df.sample(n_user,replace=False)['user'].values)\n",
    "    #     print(temp_users)\n",
    "        index = index_df[index_df.user.isin(temp_users)]['index'].values\n",
    "        temp_feature = features[index]\n",
    "        d  = 300\n",
    "        entropy = .5*np.log(np.linalg.det(np.cov(temp_feature[:,:d].T))) + (d/2)*(1+np.log(2*np.pi))\n",
    "        result.append(entropy)\n",
    "    return np.array([n_user,np.mean(result)])\n",
    "from joblib import Parallel,delayed\n",
    "result = []\n",
    "for i in range(1,200,20):\n",
    "    entropies = Parallel(n_jobs=20,verbose=2)(delayed(get_average_entropy)(n_user,n_iter) for i,n_user in enumerate(range(i,i+20)))\n",
    "    print(entropies)\n",
    "    result.extend(entropies)\n",
    "    pickle.dump(result,open('./data/entropies3.p','wb'))\n",
    "#     result = []\n",
    "#     for k in range(n_iter):\n",
    "#         temp_users = np.unique(user_df.sample(n_user,replace=False)['user'].values)\n",
    "#     #     print(temp_users)\n",
    "#         index = index_df[index_df.user.isin(temp_users)]['index'].values\n",
    "#         temp_feature = features[index]\n",
    "#         d  = 241\n",
    "#         entropy = .5*np.log(np.linalg.det(np.cov(temp_feature[:,:d].T))) + (d/2)*(1+np.log(2*np.pi))\n",
    "#         result.append(entropy)\n",
    "#     print(n_user,np.mean(result))"
   ]
  },
  {
   "cell_type": "code",
   "execution_count": 44,
   "id": "interstate-lease",
   "metadata": {},
   "outputs": [],
   "source": [
    "entropies = pickle.load(open('./data/entropies2.p','rb'))"
   ]
  },
  {
   "cell_type": "code",
   "execution_count": 45,
   "id": "honey-teens",
   "metadata": {},
   "outputs": [],
   "source": [
    "entropies= np.array(entropies)"
   ]
  },
  {
   "cell_type": "code",
   "execution_count": 46,
   "id": "sporting-chile",
   "metadata": {},
   "outputs": [],
   "source": [
    "import matplotlib.pyplot as plt\n",
    "import seaborn as sns"
   ]
  },
  {
   "cell_type": "code",
   "execution_count": 47,
   "id": "homeless-edwards",
   "metadata": {},
   "outputs": [
    {
     "data": {
      "text/plain": [
       "(200, 2)"
      ]
     },
     "execution_count": 47,
     "metadata": {},
     "output_type": "execute_result"
    }
   ],
   "source": [
    "entropies.shape"
   ]
  },
  {
   "cell_type": "code",
   "execution_count": 48,
   "id": "adjusted-springer",
   "metadata": {},
   "outputs": [
    {
     "data": {
      "image/png": "[encoded data removed]",
      "text/plain": [
       "<Figure size 1440x720 with 1 Axes>"
      ]
     },
     "metadata": {
      "needs_background": "light"
     },
     "output_type": "display_data"
    }
   ],
   "source": [
    "plt.figure(figsize=(20,10))\n",
    "plt.rcParams.update({'font.size':30})\n",
    "plt.plot(entropies[:,0],entropies[:,1],'r-*')\n",
    "plt.xlabel('Number of Users')\n",
    "plt.ylabel('Entropy')\n",
    "plt.tight_layout()\n",
    "plt.savefig('./images/entropy2.png')\n",
    "plt.show()"
   ]
  },
  {
   "cell_type": "code",
   "execution_count": null,
   "id": "revolutionary-african",
   "metadata": {},
   "outputs": [],
   "source": []
  }
 ],
 "metadata": {
  "kernelspec": {
   "display_name": "Python 3",
   "language": "python",
   "name": "python3"
  },
  "language_info": {
   "codemirror_mode": {
    "name": "ipython",
    "version": 3
   },
   "file_extension": ".py",
   "mimetype": "text/x-python",
   "name": "python",
   "nbconvert_exporter": "python",
   "pygments_lexer": "ipython3",
   "version": "3.8.5"
  }
 },
 "nbformat": 4,
 "nbformat_minor": 5
}
