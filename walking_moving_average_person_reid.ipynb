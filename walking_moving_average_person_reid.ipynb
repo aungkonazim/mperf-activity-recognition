{
 "cells": [
  {
   "cell_type": "code",
   "execution_count": 1,
   "id": "juvenile-essay",
   "metadata": {},
   "outputs": [
    {
     "name": "stdout",
     "output_type": "stream",
     "text": [
      "4 Physical GPUs, 1 Logical GPU\n"
     ]
    }
   ],
   "source": [
    "import tensorflow as tf\n",
    "import numpy as np\n",
    "gpus = tf.config.experimental.list_physical_devices('GPU')\n",
    "if gpus:\n",
    "  # Restrict TensorFlow to only use the first GPU\n",
    "    try:\n",
    "        tf.config.experimental.set_visible_devices(gpus[0], 'GPU')\n",
    "        logical_gpus = tf.config.experimental.list_logical_devices('GPU')\n",
    "        print(len(gpus), \"Physical GPUs,\", len(logical_gpus), \"Logical GPU\")\n",
    "    except RuntimeError as e:\n",
    "        # Visible devices must be set before GPUs have been initialized\n",
    "        print(e)\n",
    "np.random.seed(100)"
   ]
  },
  {
   "cell_type": "code",
   "execution_count": 2,
   "id": "worth-istanbul",
   "metadata": {},
   "outputs": [],
   "source": [
    "import os\n",
    "import pandas as pd\n",
    "import pickle\n",
    "import numpy as np\n",
    "import tensorflow as tf\n",
    "import tensorflow as tf\n",
    "from tensorflow import keras\n",
    "from tensorflow.keras import backend as K\n",
    "import matplotlib.pyplot as plt\n",
    "from tensorflow.keras.callbacks import ModelCheckpoint,EarlyStopping\n",
    "from sklearn.model_selection import train_test_split\n",
    "from tensorflow.keras.layers import Conv1D,BatchNormalization,Dropout,Input,MaxPooling1D,Flatten,Dense,Input,Activation,GRU\n",
    "from tensorflow.keras.models import Model, Sequential\n",
    "from sklearn.metrics import accuracy_score\n",
    "from joblib import Parallel,delayed\n",
    "from scipy.stats import mode"
   ]
  },
  {
   "cell_type": "code",
   "execution_count": 3,
   "id": "framed-centre",
   "metadata": {},
   "outputs": [],
   "source": [
    "X,y = pickle.load(open('./data/10/walking_all_data1.p','rb'))"
   ]
  },
  {
   "cell_type": "code",
   "execution_count": 4,
   "id": "electronic-teacher",
   "metadata": {},
   "outputs": [
    {
     "name": "stdout",
     "output_type": "stream",
     "text": [
      "(173520, 250, 3) (433466, 250, 3)\n",
      "Epoch 00058: early stopping\n"
     ]
    },
    {
     "name": "stderr",
     "output_type": "stream",
     "text": [
      "[Parallel(n_jobs=30)]: Using backend LokyBackend with 30 concurrent workers.\n",
      "[Parallel(n_jobs=30)]: Done 102 tasks      | elapsed:  4.0min\n",
      "[Parallel(n_jobs=30)]: Done 241 out of 241 | elapsed:  8.8min finished\n"
     ]
    },
    {
     "name": "stdout",
     "output_type": "stream",
     "text": [
      "347 120,0 done --------------------\n",
      "(173520, 250, 3) (433466, 250, 3)\n",
      "Epoch 00060: early stopping\n"
     ]
    },
    {
     "name": "stderr",
     "output_type": "stream",
     "text": [
      "[Parallel(n_jobs=30)]: Using backend LokyBackend with 30 concurrent workers.\n",
      "[Parallel(n_jobs=30)]: Done 102 tasks      | elapsed:  4.0min\n",
      "[Parallel(n_jobs=30)]: Done 241 out of 241 | elapsed:  8.7min finished\n"
     ]
    },
    {
     "name": "stdout",
     "output_type": "stream",
     "text": [
      "347 120,2 done --------------------\n",
      "(173520, 250, 3) (433466, 250, 3)\n",
      "Epoch 00060: early stopping\n"
     ]
    },
    {
     "name": "stderr",
     "output_type": "stream",
     "text": [
      "[Parallel(n_jobs=30)]: Using backend LokyBackend with 30 concurrent workers.\n",
      "[Parallel(n_jobs=30)]: Done 102 tasks      | elapsed:  4.0min\n",
      "[Parallel(n_jobs=30)]: Done 241 out of 241 | elapsed:  8.8min finished\n"
     ]
    },
    {
     "name": "stdout",
     "output_type": "stream",
     "text": [
      "347 120,4 done --------------------\n",
      "(173520, 250, 3) (433466, 250, 3)\n",
      "Epoch 00060: early stopping\n"
     ]
    },
    {
     "name": "stderr",
     "output_type": "stream",
     "text": [
      "[Parallel(n_jobs=30)]: Using backend LokyBackend with 30 concurrent workers.\n",
      "[Parallel(n_jobs=30)]: Done 102 tasks      | elapsed:  4.1min\n",
      "[Parallel(n_jobs=30)]: Done 241 out of 241 | elapsed:  8.8min finished\n"
     ]
    },
    {
     "name": "stdout",
     "output_type": "stream",
     "text": [
      "347 120,6 done --------------------\n",
      "(173520, 250, 3) (433466, 250, 3)\n",
      "Epoch 00059: early stopping\n"
     ]
    },
    {
     "name": "stderr",
     "output_type": "stream",
     "text": [
      "[Parallel(n_jobs=30)]: Using backend LokyBackend with 30 concurrent workers.\n",
      "[Parallel(n_jobs=30)]: Done 102 tasks      | elapsed:  4.0min\n",
      "[Parallel(n_jobs=30)]: Done 241 out of 241 | elapsed:  8.8min finished\n"
     ]
    },
    {
     "name": "stdout",
     "output_type": "stream",
     "text": [
      "347 120,8 done --------------------\n",
      "(173520, 250, 3) (433466, 250, 3)\n",
      "Epoch 00060: early stopping\n"
     ]
    },
    {
     "name": "stderr",
     "output_type": "stream",
     "text": [
      "[Parallel(n_jobs=30)]: Using backend LokyBackend with 30 concurrent workers.\n",
      "[Parallel(n_jobs=30)]: Done 102 tasks      | elapsed:  4.1min\n",
      "[Parallel(n_jobs=30)]: Done 241 out of 241 | elapsed:  8.8min finished\n"
     ]
    },
    {
     "name": "stdout",
     "output_type": "stream",
     "text": [
      "347 120,10 done --------------------\n",
      "(173520, 250, 3) (433466, 250, 3)\n",
      "Epoch 00060: early stopping\n"
     ]
    },
    {
     "name": "stderr",
     "output_type": "stream",
     "text": [
      "[Parallel(n_jobs=30)]: Using backend LokyBackend with 30 concurrent workers.\n",
      "[Parallel(n_jobs=30)]: Done 102 tasks      | elapsed:  4.1min\n",
      "[Parallel(n_jobs=30)]: Done 241 out of 241 | elapsed:  8.9min finished\n"
     ]
    },
    {
     "name": "stdout",
     "output_type": "stream",
     "text": [
      "347 120,12 done --------------------\n",
      "(173520, 250, 3) (433466, 250, 3)\n",
      "Epoch 00065: early stopping\n"
     ]
    },
    {
     "name": "stderr",
     "output_type": "stream",
     "text": [
      "[Parallel(n_jobs=30)]: Using backend LokyBackend with 30 concurrent workers.\n",
      "[Parallel(n_jobs=30)]: Done 102 tasks      | elapsed:  4.0min\n",
      "[Parallel(n_jobs=30)]: Done 241 out of 241 | elapsed:  8.8min finished\n"
     ]
    },
    {
     "name": "stdout",
     "output_type": "stream",
     "text": [
      "347 120,14 done --------------------\n",
      "(173520, 250, 3) (433466, 250, 3)\n",
      "Epoch 00066: early stopping\n"
     ]
    },
    {
     "name": "stderr",
     "output_type": "stream",
     "text": [
      "[Parallel(n_jobs=30)]: Using backend LokyBackend with 30 concurrent workers.\n",
      "[Parallel(n_jobs=30)]: Done 102 tasks      | elapsed:  4.2min\n",
      "[Parallel(n_jobs=30)]: Done 241 out of 241 | elapsed:  8.9min finished\n"
     ]
    },
    {
     "name": "stdout",
     "output_type": "stream",
     "text": [
      "347 120,16 done --------------------\n",
      "(173520, 250, 3) (433466, 250, 3)\n",
      "Epoch 00063: early stopping\n"
     ]
    },
    {
     "name": "stderr",
     "output_type": "stream",
     "text": [
      "[Parallel(n_jobs=30)]: Using backend LokyBackend with 30 concurrent workers.\n",
      "[Parallel(n_jobs=30)]: Done 102 tasks      | elapsed:  4.0min\n",
      "[Parallel(n_jobs=30)]: Done 241 out of 241 | elapsed:  8.8min finished\n"
     ]
    },
    {
     "name": "stdout",
     "output_type": "stream",
     "text": [
      "347 120,18 done --------------------\n",
      "(173520, 250, 3) (433466, 250, 3)\n",
      "Epoch 00068: early stopping\n"
     ]
    },
    {
     "name": "stderr",
     "output_type": "stream",
     "text": [
      "[Parallel(n_jobs=30)]: Using backend LokyBackend with 30 concurrent workers.\n",
      "[Parallel(n_jobs=30)]: Done 102 tasks      | elapsed:  4.1min\n",
      "[Parallel(n_jobs=30)]: Done 241 out of 241 | elapsed:  8.8min finished\n"
     ]
    },
    {
     "name": "stdout",
     "output_type": "stream",
     "text": [
      "347 120,20 done --------------------\n",
      "(173520, 250, 3) (433466, 250, 3)\n",
      "Epoch 00066: early stopping\n"
     ]
    },
    {
     "name": "stderr",
     "output_type": "stream",
     "text": [
      "[Parallel(n_jobs=30)]: Using backend LokyBackend with 30 concurrent workers.\n",
      "[Parallel(n_jobs=30)]: Done 102 tasks      | elapsed:  4.0min\n",
      "[Parallel(n_jobs=30)]: Done 241 out of 241 | elapsed:  8.8min finished\n"
     ]
    },
    {
     "name": "stdout",
     "output_type": "stream",
     "text": [
      "347 120,22 done --------------------\n",
      "(173520, 250, 3) (433466, 250, 3)\n",
      "Epoch 00073: early stopping\n"
     ]
    },
    {
     "name": "stderr",
     "output_type": "stream",
     "text": [
      "[Parallel(n_jobs=30)]: Using backend LokyBackend with 30 concurrent workers.\n",
      "[Parallel(n_jobs=30)]: Done 102 tasks      | elapsed:  4.2min\n",
      "[Parallel(n_jobs=30)]: Done 241 out of 241 | elapsed:  9.0min finished\n"
     ]
    },
    {
     "name": "stdout",
     "output_type": "stream",
     "text": [
      "347 120,24 done --------------------\n",
      "(173520, 250, 3) (433466, 250, 3)\n",
      "Epoch 00073: early stopping\n"
     ]
    },
    {
     "name": "stderr",
     "output_type": "stream",
     "text": [
      "[Parallel(n_jobs=30)]: Using backend LokyBackend with 30 concurrent workers.\n",
      "[Parallel(n_jobs=30)]: Done 102 tasks      | elapsed:  4.1min\n",
      "[Parallel(n_jobs=30)]: Done 241 out of 241 | elapsed:  8.8min finished\n"
     ]
    },
    {
     "name": "stdout",
     "output_type": "stream",
     "text": [
      "347 120,26 done --------------------\n",
      "(173520, 250, 3) (433466, 250, 3)\n",
      "Epoch 00071: early stopping\n"
     ]
    },
    {
     "name": "stderr",
     "output_type": "stream",
     "text": [
      "[Parallel(n_jobs=30)]: Using backend LokyBackend with 30 concurrent workers.\n",
      "[Parallel(n_jobs=30)]: Done 102 tasks      | elapsed:  4.0min\n",
      "[Parallel(n_jobs=30)]: Done 241 out of 241 | elapsed:  8.8min finished\n"
     ]
    },
    {
     "name": "stdout",
     "output_type": "stream",
     "text": [
      "347 120,28 done --------------------\n",
      "(173520, 250, 3) (433466, 250, 3)\n",
      "Epoch 00078: early stopping\n"
     ]
    },
    {
     "name": "stderr",
     "output_type": "stream",
     "text": [
      "[Parallel(n_jobs=30)]: Using backend LokyBackend with 30 concurrent workers.\n",
      "[Parallel(n_jobs=30)]: Done 102 tasks      | elapsed:  4.0min\n",
      "[Parallel(n_jobs=30)]: Done 241 out of 241 | elapsed:  8.8min finished\n"
     ]
    },
    {
     "name": "stdout",
     "output_type": "stream",
     "text": [
      "347 120,30 done --------------------\n",
      "(173520, 250, 3) (433466, 250, 3)\n",
      "Epoch 00075: early stopping\n"
     ]
    },
    {
     "name": "stderr",
     "output_type": "stream",
     "text": [
      "[Parallel(n_jobs=30)]: Using backend LokyBackend with 30 concurrent workers.\n",
      "[Parallel(n_jobs=30)]: Done 102 tasks      | elapsed:  4.1min\n",
      "[Parallel(n_jobs=30)]: Done 241 out of 241 | elapsed:  8.8min finished\n"
     ]
    },
    {
     "name": "stdout",
     "output_type": "stream",
     "text": [
      "347 120,32 done --------------------\n",
      "(173520, 250, 3) (433466, 250, 3)\n",
      "Epoch 00078: early stopping\n"
     ]
    },
    {
     "name": "stderr",
     "output_type": "stream",
     "text": [
      "[Parallel(n_jobs=30)]: Using backend LokyBackend with 30 concurrent workers.\n",
      "[Parallel(n_jobs=30)]: Done 102 tasks      | elapsed:  4.1min\n",
      "[Parallel(n_jobs=30)]: Done 241 out of 241 | elapsed:  8.8min finished\n"
     ]
    },
    {
     "name": "stdout",
     "output_type": "stream",
     "text": [
      "347 120,34 done --------------------\n",
      "(173520, 250, 3) (433466, 250, 3)\n",
      "Epoch 00079: early stopping\n"
     ]
    },
    {
     "name": "stderr",
     "output_type": "stream",
     "text": [
      "[Parallel(n_jobs=30)]: Using backend LokyBackend with 30 concurrent workers.\n",
      "[Parallel(n_jobs=30)]: Done 102 tasks      | elapsed:  4.0min\n",
      "[Parallel(n_jobs=30)]: Done 241 out of 241 | elapsed:  8.8min finished\n"
     ]
    },
    {
     "name": "stdout",
     "output_type": "stream",
     "text": [
      "347 120,36 done --------------------\n",
      "(173520, 250, 3) (433466, 250, 3)\n",
      "Epoch 00086: early stopping\n"
     ]
    },
    {
     "name": "stderr",
     "output_type": "stream",
     "text": [
      "[Parallel(n_jobs=30)]: Using backend LokyBackend with 30 concurrent workers.\n",
      "[Parallel(n_jobs=30)]: Done 102 tasks      | elapsed:  4.0min\n",
      "[Parallel(n_jobs=30)]: Done 241 out of 241 | elapsed:  8.8min finished\n"
     ]
    },
    {
     "name": "stdout",
     "output_type": "stream",
     "text": [
      "347 120,38 done --------------------\n",
      "(173520, 250, 3) (433466, 250, 3)\n",
      "Epoch 00081: early stopping\n"
     ]
    },
    {
     "name": "stderr",
     "output_type": "stream",
     "text": [
      "[Parallel(n_jobs=30)]: Using backend LokyBackend with 30 concurrent workers.\n",
      "[Parallel(n_jobs=30)]: Done 102 tasks      | elapsed:  4.1min\n",
      "[Parallel(n_jobs=30)]: Done 241 out of 241 | elapsed:  8.8min finished\n"
     ]
    },
    {
     "name": "stdout",
     "output_type": "stream",
     "text": [
      "347 120,40 done --------------------\n",
      "(173520, 250, 3) (433466, 250, 3)\n",
      "Epoch 00073: early stopping\n"
     ]
    },
    {
     "name": "stderr",
     "output_type": "stream",
     "text": [
      "[Parallel(n_jobs=30)]: Using backend LokyBackend with 30 concurrent workers.\n",
      "[Parallel(n_jobs=30)]: Done 102 tasks      | elapsed:  4.1min\n",
      "[Parallel(n_jobs=30)]: Done 241 out of 241 | elapsed:  8.9min finished\n"
     ]
    },
    {
     "name": "stdout",
     "output_type": "stream",
     "text": [
      "347 120,42 done --------------------\n",
      "(173520, 250, 3) (433466, 250, 3)\n",
      "Epoch 00094: early stopping\n"
     ]
    },
    {
     "name": "stderr",
     "output_type": "stream",
     "text": [
      "[Parallel(n_jobs=30)]: Using backend LokyBackend with 30 concurrent workers.\n",
      "[Parallel(n_jobs=30)]: Done 102 tasks      | elapsed:  4.0min\n",
      "[Parallel(n_jobs=30)]: Done 241 out of 241 | elapsed:  8.8min finished\n"
     ]
    },
    {
     "name": "stdout",
     "output_type": "stream",
     "text": [
      "347 120,44 done --------------------\n",
      "(173520, 250, 3) (433466, 250, 3)\n",
      "Epoch 00090: early stopping\n"
     ]
    },
    {
     "name": "stderr",
     "output_type": "stream",
     "text": [
      "[Parallel(n_jobs=30)]: Using backend LokyBackend with 30 concurrent workers.\n",
      "[Parallel(n_jobs=30)]: Done 102 tasks      | elapsed:  4.1min\n",
      "[Parallel(n_jobs=30)]: Done 241 out of 241 | elapsed:  8.9min finished\n"
     ]
    },
    {
     "name": "stdout",
     "output_type": "stream",
     "text": [
      "347 120,46 done --------------------\n",
      "(173520, 250, 3) (433466, 250, 3)\n",
      "Epoch 00078: early stopping\n"
     ]
    },
    {
     "name": "stderr",
     "output_type": "stream",
     "text": [
      "[Parallel(n_jobs=30)]: Using backend LokyBackend with 30 concurrent workers.\n",
      "[Parallel(n_jobs=30)]: Done 102 tasks      | elapsed:  4.1min\n",
      "[Parallel(n_jobs=30)]: Done 241 out of 241 | elapsed:  8.8min finished\n"
     ]
    },
    {
     "name": "stdout",
     "output_type": "stream",
     "text": [
      "347 120,48 done --------------------\n",
      "(173520, 250, 3) (433466, 250, 3)\n",
      "Epoch 00085: early stopping\n"
     ]
    },
    {
     "name": "stderr",
     "output_type": "stream",
     "text": [
      "[Parallel(n_jobs=30)]: Using backend LokyBackend with 30 concurrent workers.\n",
      "[Parallel(n_jobs=30)]: Done 102 tasks      | elapsed:  4.0min\n",
      "[Parallel(n_jobs=30)]: Done 241 out of 241 | elapsed:  8.8min finished\n"
     ]
    },
    {
     "name": "stdout",
     "output_type": "stream",
     "text": [
      "347 120,50 done --------------------\n",
      "(173520, 250, 3) (433466, 250, 3)\n",
      "Epoch 00089: early stopping\n"
     ]
    },
    {
     "name": "stderr",
     "output_type": "stream",
     "text": [
      "[Parallel(n_jobs=30)]: Using backend LokyBackend with 30 concurrent workers.\n",
      "[Parallel(n_jobs=30)]: Done 102 tasks      | elapsed:  4.0min\n",
      "[Parallel(n_jobs=30)]: Done 241 out of 241 | elapsed:  8.8min finished\n"
     ]
    },
    {
     "name": "stdout",
     "output_type": "stream",
     "text": [
      "347 120,52 done --------------------\n",
      "(173520, 250, 3) (433466, 250, 3)\n",
      "Epoch 00082: early stopping\n"
     ]
    },
    {
     "name": "stderr",
     "output_type": "stream",
     "text": [
      "[Parallel(n_jobs=30)]: Using backend LokyBackend with 30 concurrent workers.\n",
      "[Parallel(n_jobs=30)]: Done 102 tasks      | elapsed:  4.1min\n",
      "[Parallel(n_jobs=30)]: Done 241 out of 241 | elapsed:  8.9min finished\n"
     ]
    },
    {
     "name": "stdout",
     "output_type": "stream",
     "text": [
      "347 120,54 done --------------------\n",
      "(173520, 250, 3) (433466, 250, 3)\n",
      "Epoch 00093: early stopping\n"
     ]
    },
    {
     "name": "stderr",
     "output_type": "stream",
     "text": [
      "[Parallel(n_jobs=30)]: Using backend LokyBackend with 30 concurrent workers.\n",
      "[Parallel(n_jobs=30)]: Done 102 tasks      | elapsed:  4.0min\n",
      "[Parallel(n_jobs=30)]: Done 241 out of 241 | elapsed:  8.9min finished\n"
     ]
    },
    {
     "name": "stdout",
     "output_type": "stream",
     "text": [
      "347 120,56 done --------------------\n",
      "(173520, 250, 3) (433466, 250, 3)\n",
      "Epoch 00086: early stopping\n"
     ]
    },
    {
     "name": "stderr",
     "output_type": "stream",
     "text": [
      "[Parallel(n_jobs=30)]: Using backend LokyBackend with 30 concurrent workers.\n",
      "[Parallel(n_jobs=30)]: Done 102 tasks      | elapsed:  4.1min\n",
      "[Parallel(n_jobs=30)]: Done 241 out of 241 | elapsed:  8.9min finished\n"
     ]
    },
    {
     "name": "stdout",
     "output_type": "stream",
     "text": [
      "347 120,58 done --------------------\n",
      "(173520, 250, 3) (433466, 250, 3)\n",
      "Epoch 00098: early stopping\n"
     ]
    },
    {
     "name": "stderr",
     "output_type": "stream",
     "text": [
      "[Parallel(n_jobs=30)]: Using backend LokyBackend with 30 concurrent workers.\n",
      "[Parallel(n_jobs=30)]: Done 102 tasks      | elapsed:  4.1min\n",
      "[Parallel(n_jobs=30)]: Done 241 out of 241 | elapsed:  8.8min finished\n"
     ]
    },
    {
     "name": "stdout",
     "output_type": "stream",
     "text": [
      "347 120,60 done --------------------\n",
      "(173520, 250, 3) (433466, 250, 3)\n",
      "Epoch 00106: early stopping\n"
     ]
    },
    {
     "name": "stderr",
     "output_type": "stream",
     "text": [
      "[Parallel(n_jobs=30)]: Using backend LokyBackend with 30 concurrent workers.\n",
      "[Parallel(n_jobs=30)]: Done 102 tasks      | elapsed:  4.0min\n",
      "[Parallel(n_jobs=30)]: Done 241 out of 241 | elapsed:  8.9min finished\n"
     ]
    },
    {
     "name": "stdout",
     "output_type": "stream",
     "text": [
      "347 120,62 done --------------------\n",
      "(173520, 250, 3) (433466, 250, 3)\n",
      "Epoch 00102: early stopping\n"
     ]
    },
    {
     "name": "stderr",
     "output_type": "stream",
     "text": [
      "[Parallel(n_jobs=30)]: Using backend LokyBackend with 30 concurrent workers.\n",
      "[Parallel(n_jobs=30)]: Done 102 tasks      | elapsed:  4.0min\n",
      "[Parallel(n_jobs=30)]: Done 241 out of 241 | elapsed:  8.8min finished\n"
     ]
    },
    {
     "name": "stdout",
     "output_type": "stream",
     "text": [
      "347 120,64 done --------------------\n",
      "(173520, 250, 3) (433466, 250, 3)\n",
      "Epoch 00095: early stopping\n"
     ]
    },
    {
     "name": "stderr",
     "output_type": "stream",
     "text": [
      "[Parallel(n_jobs=30)]: Using backend LokyBackend with 30 concurrent workers.\n",
      "[Parallel(n_jobs=30)]: Done 102 tasks      | elapsed:  4.1min\n",
      "[Parallel(n_jobs=30)]: Done 241 out of 241 | elapsed:  8.8min finished\n"
     ]
    },
    {
     "name": "stdout",
     "output_type": "stream",
     "text": [
      "347 120,66 done --------------------\n",
      "(173520, 250, 3) (433466, 250, 3)\n",
      "Epoch 00111: early stopping\n"
     ]
    },
    {
     "name": "stderr",
     "output_type": "stream",
     "text": [
      "[Parallel(n_jobs=30)]: Using backend LokyBackend with 30 concurrent workers.\n",
      "[Parallel(n_jobs=30)]: Done 102 tasks      | elapsed:  4.1min\n",
      "[Parallel(n_jobs=30)]: Done 241 out of 241 | elapsed:  8.8min finished\n"
     ]
    },
    {
     "name": "stdout",
     "output_type": "stream",
     "text": [
      "347 120,68 done --------------------\n",
      "(173520, 250, 3) (433466, 250, 3)\n",
      "Epoch 00108: early stopping\n"
     ]
    },
    {
     "name": "stderr",
     "output_type": "stream",
     "text": [
      "[Parallel(n_jobs=30)]: Using backend LokyBackend with 30 concurrent workers.\n",
      "[Parallel(n_jobs=30)]: Done 102 tasks      | elapsed:  4.0min\n",
      "[Parallel(n_jobs=30)]: Done 241 out of 241 | elapsed:  8.9min finished\n"
     ]
    },
    {
     "name": "stdout",
     "output_type": "stream",
     "text": [
      "347 120,70 done --------------------\n",
      "(173520, 250, 3) (433466, 250, 3)\n",
      "Epoch 00111: early stopping\n"
     ]
    },
    {
     "name": "stderr",
     "output_type": "stream",
     "text": [
      "[Parallel(n_jobs=30)]: Using backend LokyBackend with 30 concurrent workers.\n",
      "[Parallel(n_jobs=30)]: Done 102 tasks      | elapsed:  4.2min\n",
      "[Parallel(n_jobs=30)]: Done 241 out of 241 | elapsed:  8.9min finished\n"
     ]
    },
    {
     "name": "stdout",
     "output_type": "stream",
     "text": [
      "347 120,72 done --------------------\n",
      "(173520, 250, 3) (433466, 250, 3)\n",
      "Epoch 00101: early stopping\n"
     ]
    },
    {
     "name": "stderr",
     "output_type": "stream",
     "text": [
      "[Parallel(n_jobs=30)]: Using backend LokyBackend with 30 concurrent workers.\n",
      "[Parallel(n_jobs=30)]: Done 102 tasks      | elapsed:  4.1min\n",
      "[Parallel(n_jobs=30)]: Done 241 out of 241 | elapsed:  8.9min finished\n"
     ]
    },
    {
     "name": "stdout",
     "output_type": "stream",
     "text": [
      "347 120,74 done --------------------\n",
      "(173520, 250, 3) (433466, 250, 3)\n",
      "Epoch 00109: early stopping\n"
     ]
    },
    {
     "name": "stderr",
     "output_type": "stream",
     "text": [
      "[Parallel(n_jobs=30)]: Using backend LokyBackend with 30 concurrent workers.\n",
      "[Parallel(n_jobs=30)]: Done 102 tasks      | elapsed:  4.1min\n",
      "[Parallel(n_jobs=30)]: Done 241 out of 241 | elapsed:  8.8min finished\n"
     ]
    },
    {
     "name": "stdout",
     "output_type": "stream",
     "text": [
      "347 120,76 done --------------------\n",
      "(173520, 250, 3) (433466, 250, 3)\n",
      "Epoch 00113: early stopping\n"
     ]
    },
    {
     "name": "stderr",
     "output_type": "stream",
     "text": [
      "[Parallel(n_jobs=30)]: Using backend LokyBackend with 30 concurrent workers.\n",
      "[Parallel(n_jobs=30)]: Done 102 tasks      | elapsed:  4.1min\n",
      "[Parallel(n_jobs=30)]: Done 241 out of 241 | elapsed:  8.8min finished\n"
     ]
    },
    {
     "name": "stdout",
     "output_type": "stream",
     "text": [
      "347 120,78 done --------------------\n",
      "(173520, 250, 3) (433466, 250, 3)\n",
      "Epoch 00098: early stopping\n"
     ]
    },
    {
     "name": "stderr",
     "output_type": "stream",
     "text": [
      "[Parallel(n_jobs=30)]: Using backend LokyBackend with 30 concurrent workers.\n",
      "[Parallel(n_jobs=30)]: Done 102 tasks      | elapsed:  4.0min\n",
      "[Parallel(n_jobs=30)]: Done 241 out of 241 | elapsed:  8.9min finished\n"
     ]
    },
    {
     "name": "stdout",
     "output_type": "stream",
     "text": [
      "347 120,80 done --------------------\n",
      "(173520, 250, 3) (433466, 250, 3)\n",
      "Epoch 00087: early stopping\n"
     ]
    },
    {
     "name": "stderr",
     "output_type": "stream",
     "text": [
      "[Parallel(n_jobs=30)]: Using backend LokyBackend with 30 concurrent workers.\n",
      "[Parallel(n_jobs=30)]: Done 102 tasks      | elapsed:  4.0min\n",
      "[Parallel(n_jobs=30)]: Done 241 out of 241 | elapsed:  8.8min finished\n"
     ]
    },
    {
     "name": "stdout",
     "output_type": "stream",
     "text": [
      "347 120,82 done --------------------\n",
      "(173520, 250, 3) (433466, 250, 3)\n",
      "Epoch 00104: early stopping\n"
     ]
    },
    {
     "name": "stderr",
     "output_type": "stream",
     "text": [
      "[Parallel(n_jobs=30)]: Using backend LokyBackend with 30 concurrent workers.\n",
      "[Parallel(n_jobs=30)]: Done 102 tasks      | elapsed:  4.2min\n",
      "[Parallel(n_jobs=30)]: Done 241 out of 241 | elapsed:  8.9min finished\n"
     ]
    },
    {
     "name": "stdout",
     "output_type": "stream",
     "text": [
      "347 120,84 done --------------------\n",
      "(173520, 250, 3) (433466, 250, 3)\n",
      "Epoch 00108: early stopping\n"
     ]
    },
    {
     "name": "stderr",
     "output_type": "stream",
     "text": [
      "[Parallel(n_jobs=30)]: Using backend LokyBackend with 30 concurrent workers.\n",
      "[Parallel(n_jobs=30)]: Done 102 tasks      | elapsed:  4.1min\n",
      "[Parallel(n_jobs=30)]: Done 241 out of 241 | elapsed:  8.8min finished\n"
     ]
    },
    {
     "name": "stdout",
     "output_type": "stream",
     "text": [
      "347 120,86 done --------------------\n",
      "(173520, 250, 3) (433466, 250, 3)\n",
      "Epoch 00106: early stopping\n"
     ]
    },
    {
     "name": "stderr",
     "output_type": "stream",
     "text": [
      "[Parallel(n_jobs=30)]: Using backend LokyBackend with 30 concurrent workers.\n",
      "[Parallel(n_jobs=30)]: Done 102 tasks      | elapsed:  4.1min\n",
      "[Parallel(n_jobs=30)]: Done 241 out of 241 | elapsed:  8.8min finished\n"
     ]
    },
    {
     "name": "stdout",
     "output_type": "stream",
     "text": [
      "347 120,88 done --------------------\n",
      "(173520, 250, 3) (433466, 250, 3)\n",
      "Epoch 00114: early stopping\n"
     ]
    },
    {
     "name": "stderr",
     "output_type": "stream",
     "text": [
      "[Parallel(n_jobs=30)]: Using backend LokyBackend with 30 concurrent workers.\n",
      "[Parallel(n_jobs=30)]: Done 102 tasks      | elapsed:  4.1min\n",
      "[Parallel(n_jobs=30)]: Done 241 out of 241 | elapsed:  8.8min finished\n"
     ]
    },
    {
     "name": "stdout",
     "output_type": "stream",
     "text": [
      "347 120,90 done --------------------\n",
      "(173520, 250, 3) (433466, 250, 3)\n",
      "Epoch 00094: early stopping\n"
     ]
    },
    {
     "name": "stderr",
     "output_type": "stream",
     "text": [
      "[Parallel(n_jobs=30)]: Using backend LokyBackend with 30 concurrent workers.\n",
      "[Parallel(n_jobs=30)]: Done 102 tasks      | elapsed:  4.1min\n",
      "[Parallel(n_jobs=30)]: Done 241 out of 241 | elapsed:  8.8min finished\n"
     ]
    },
    {
     "name": "stdout",
     "output_type": "stream",
     "text": [
      "347 120,92 done --------------------\n",
      "(173520, 250, 3) (433466, 250, 3)\n",
      "Epoch 00113: early stopping\n"
     ]
    },
    {
     "name": "stderr",
     "output_type": "stream",
     "text": [
      "[Parallel(n_jobs=30)]: Using backend LokyBackend with 30 concurrent workers.\n",
      "[Parallel(n_jobs=30)]: Done 102 tasks      | elapsed:  4.0min\n",
      "[Parallel(n_jobs=30)]: Done 241 out of 241 | elapsed:  8.8min finished\n"
     ]
    },
    {
     "name": "stdout",
     "output_type": "stream",
     "text": [
      "347 120,94 done --------------------\n",
      "(173520, 250, 3) (433466, 250, 3)\n",
      "Epoch 00116: early stopping\n"
     ]
    },
    {
     "name": "stderr",
     "output_type": "stream",
     "text": [
      "[Parallel(n_jobs=30)]: Using backend LokyBackend with 30 concurrent workers.\n",
      "[Parallel(n_jobs=30)]: Done 102 tasks      | elapsed:  4.1min\n",
      "[Parallel(n_jobs=30)]: Done 241 out of 241 | elapsed:  8.9min finished\n"
     ]
    },
    {
     "name": "stdout",
     "output_type": "stream",
     "text": [
      "347 120,96 done --------------------\n",
      "(173520, 250, 3) (433466, 250, 3)\n",
      "Epoch 00116: early stopping\n"
     ]
    },
    {
     "name": "stderr",
     "output_type": "stream",
     "text": [
      "[Parallel(n_jobs=30)]: Using backend LokyBackend with 30 concurrent workers.\n",
      "[Parallel(n_jobs=30)]: Done 102 tasks      | elapsed:  4.1min\n",
      "[Parallel(n_jobs=30)]: Done 241 out of 241 | elapsed:  8.8min finished\n"
     ]
    },
    {
     "name": "stdout",
     "output_type": "stream",
     "text": [
      "347 120,98 done --------------------\n",
      "(173520, 250, 3) (433466, 250, 3)\n",
      "Epoch 00119: early stopping\n"
     ]
    },
    {
     "name": "stderr",
     "output_type": "stream",
     "text": [
      "[Parallel(n_jobs=30)]: Using backend LokyBackend with 30 concurrent workers.\n",
      "[Parallel(n_jobs=30)]: Done 102 tasks      | elapsed:  4.0min\n",
      "[Parallel(n_jobs=30)]: Done 241 out of 241 | elapsed:  8.8min finished\n"
     ]
    },
    {
     "name": "stdout",
     "output_type": "stream",
     "text": [
      "347 120,100 done --------------------\n",
      "(173520, 250, 3) (433466, 250, 3)\n",
      "Epoch 00124: early stopping\n"
     ]
    },
    {
     "name": "stderr",
     "output_type": "stream",
     "text": [
      "[Parallel(n_jobs=30)]: Using backend LokyBackend with 30 concurrent workers.\n",
      "[Parallel(n_jobs=30)]: Done 102 tasks      | elapsed:  4.1min\n",
      "[Parallel(n_jobs=30)]: Done 241 out of 241 | elapsed:  8.9min finished\n"
     ]
    },
    {
     "name": "stdout",
     "output_type": "stream",
     "text": [
      "347 120,102 done --------------------\n",
      "(173520, 250, 3) (433466, 250, 3)\n",
      "Epoch 00114: early stopping\n"
     ]
    },
    {
     "name": "stderr",
     "output_type": "stream",
     "text": [
      "[Parallel(n_jobs=30)]: Using backend LokyBackend with 30 concurrent workers.\n",
      "[Parallel(n_jobs=30)]: Done 102 tasks      | elapsed:  4.1min\n",
      "[Parallel(n_jobs=30)]: Done 241 out of 241 | elapsed:  8.8min finished\n"
     ]
    },
    {
     "name": "stdout",
     "output_type": "stream",
     "text": [
      "347 120,104 done --------------------\n",
      "(173520, 250, 3) (433466, 250, 3)\n",
      "Epoch 00097: early stopping\n"
     ]
    },
    {
     "name": "stderr",
     "output_type": "stream",
     "text": [
      "[Parallel(n_jobs=30)]: Using backend LokyBackend with 30 concurrent workers.\n",
      "[Parallel(n_jobs=30)]: Done 102 tasks      | elapsed:  4.2min\n",
      "[Parallel(n_jobs=30)]: Done 241 out of 241 | elapsed:  8.9min finished\n"
     ]
    },
    {
     "name": "stdout",
     "output_type": "stream",
     "text": [
      "347 120,106 done --------------------\n",
      "(173520, 250, 3) (433466, 250, 3)\n",
      "Epoch 00134: early stopping\n"
     ]
    },
    {
     "name": "stderr",
     "output_type": "stream",
     "text": [
      "[Parallel(n_jobs=30)]: Using backend LokyBackend with 30 concurrent workers.\n",
      "[Parallel(n_jobs=30)]: Done 102 tasks      | elapsed:  4.0min\n",
      "[Parallel(n_jobs=30)]: Done 241 out of 241 | elapsed:  8.8min finished\n"
     ]
    },
    {
     "name": "stdout",
     "output_type": "stream",
     "text": [
      "347 120,108 done --------------------\n",
      "(173520, 250, 3) (433466, 250, 3)\n",
      "Epoch 00102: early stopping\n"
     ]
    },
    {
     "name": "stderr",
     "output_type": "stream",
     "text": [
      "[Parallel(n_jobs=30)]: Using backend LokyBackend with 30 concurrent workers.\n",
      "[Parallel(n_jobs=30)]: Done 102 tasks      | elapsed:  4.0min\n",
      "[Parallel(n_jobs=30)]: Done 241 out of 241 | elapsed:  8.9min finished\n"
     ]
    },
    {
     "name": "stdout",
     "output_type": "stream",
     "text": [
      "347 120,110 done --------------------\n",
      "(173520, 250, 3) (433466, 250, 3)\n",
      "Epoch 00116: early stopping\n"
     ]
    },
    {
     "name": "stderr",
     "output_type": "stream",
     "text": [
      "[Parallel(n_jobs=30)]: Using backend LokyBackend with 30 concurrent workers.\n",
      "[Parallel(n_jobs=30)]: Done 102 tasks      | elapsed:  4.3min\n",
      "[Parallel(n_jobs=30)]: Done 241 out of 241 | elapsed:  8.9min finished\n"
     ]
    },
    {
     "name": "stdout",
     "output_type": "stream",
     "text": [
      "347 120,112 done --------------------\n",
      "(173520, 250, 3) (433466, 250, 3)\n",
      "Epoch 00105: early stopping\n"
     ]
    },
    {
     "name": "stderr",
     "output_type": "stream",
     "text": [
      "[Parallel(n_jobs=30)]: Using backend LokyBackend with 30 concurrent workers.\n",
      "[Parallel(n_jobs=30)]: Done 102 tasks      | elapsed:  4.1min\n",
      "[Parallel(n_jobs=30)]: Done 241 out of 241 | elapsed:  8.8min finished\n"
     ]
    },
    {
     "name": "stdout",
     "output_type": "stream",
     "text": [
      "347 120,114 done --------------------\n",
      "(173520, 250, 3) (433466, 250, 3)\n",
      "Epoch 00107: early stopping\n"
     ]
    },
    {
     "name": "stderr",
     "output_type": "stream",
     "text": [
      "[Parallel(n_jobs=30)]: Using backend LokyBackend with 30 concurrent workers.\n",
      "[Parallel(n_jobs=30)]: Done 102 tasks      | elapsed:  4.1min\n",
      "[Parallel(n_jobs=30)]: Done 241 out of 241 | elapsed:  8.9min finished\n"
     ]
    },
    {
     "name": "stdout",
     "output_type": "stream",
     "text": [
      "347 120,116 done --------------------\n",
      "(173520, 250, 3) (433466, 250, 3)\n",
      "Epoch 00109: early stopping\n"
     ]
    },
    {
     "name": "stderr",
     "output_type": "stream",
     "text": [
      "[Parallel(n_jobs=30)]: Using backend LokyBackend with 30 concurrent workers.\n",
      "[Parallel(n_jobs=30)]: Done 102 tasks      | elapsed:  4.1min\n",
      "[Parallel(n_jobs=30)]: Done 241 out of 241 | elapsed:  8.9min finished\n"
     ]
    },
    {
     "name": "stdout",
     "output_type": "stream",
     "text": [
      "347 120,118 done --------------------\n",
      "(173520, 250, 3) (433466, 250, 3)\n",
      "Epoch 00116: early stopping\n"
     ]
    },
    {
     "name": "stderr",
     "output_type": "stream",
     "text": [
      "[Parallel(n_jobs=30)]: Using backend LokyBackend with 30 concurrent workers.\n",
      "[Parallel(n_jobs=30)]: Done 102 tasks      | elapsed:  4.0min\n",
      "[Parallel(n_jobs=30)]: Done 241 out of 241 | elapsed:  8.8min finished\n"
     ]
    },
    {
     "name": "stdout",
     "output_type": "stream",
     "text": [
      "347 120,120 done --------------------\n",
      "(173520, 250, 3) (433466, 250, 3)\n",
      "Epoch 00113: early stopping\n"
     ]
    },
    {
     "name": "stderr",
     "output_type": "stream",
     "text": [
      "[Parallel(n_jobs=30)]: Using backend LokyBackend with 30 concurrent workers.\n",
      "[Parallel(n_jobs=30)]: Done 102 tasks      | elapsed:  4.0min\n",
      "[Parallel(n_jobs=30)]: Done 241 out of 241 | elapsed:  8.8min finished\n"
     ]
    },
    {
     "name": "stdout",
     "output_type": "stream",
     "text": [
      "347 120,122 done --------------------\n",
      "(173520, 250, 3) (433466, 250, 3)\n",
      "Epoch 00115: early stopping\n"
     ]
    },
    {
     "name": "stderr",
     "output_type": "stream",
     "text": [
      "[Parallel(n_jobs=30)]: Using backend LokyBackend with 30 concurrent workers.\n",
      "[Parallel(n_jobs=30)]: Done 102 tasks      | elapsed:  4.0min\n",
      "[Parallel(n_jobs=30)]: Done 241 out of 241 | elapsed:  8.9min finished\n"
     ]
    },
    {
     "name": "stdout",
     "output_type": "stream",
     "text": [
      "347 120,124 done --------------------\n",
      "(173520, 250, 3) (433466, 250, 3)\n",
      "Epoch 00144: early stopping\n"
     ]
    },
    {
     "name": "stderr",
     "output_type": "stream",
     "text": [
      "[Parallel(n_jobs=30)]: Using backend LokyBackend with 30 concurrent workers.\n",
      "[Parallel(n_jobs=30)]: Done 102 tasks      | elapsed:  4.1min\n",
      "[Parallel(n_jobs=30)]: Done 241 out of 241 | elapsed:  8.9min finished\n"
     ]
    },
    {
     "name": "stdout",
     "output_type": "stream",
     "text": [
      "347 120,126 done --------------------\n",
      "(173520, 250, 3) (433466, 250, 3)\n",
      "Epoch 00127: early stopping\n"
     ]
    },
    {
     "name": "stderr",
     "output_type": "stream",
     "text": [
      "[Parallel(n_jobs=30)]: Using backend LokyBackend with 30 concurrent workers.\n",
      "[Parallel(n_jobs=30)]: Done 102 tasks      | elapsed:  4.1min\n",
      "[Parallel(n_jobs=30)]: Done 241 out of 241 | elapsed:  8.9min finished\n"
     ]
    },
    {
     "name": "stdout",
     "output_type": "stream",
     "text": [
      "347 120,128 done --------------------\n",
      "(173520, 250, 3) (433466, 250, 3)\n",
      "Epoch 00138: early stopping\n"
     ]
    },
    {
     "name": "stderr",
     "output_type": "stream",
     "text": [
      "[Parallel(n_jobs=30)]: Using backend LokyBackend with 30 concurrent workers.\n",
      "[Parallel(n_jobs=30)]: Done 102 tasks      | elapsed:  4.2min\n",
      "[Parallel(n_jobs=30)]: Done 241 out of 241 | elapsed:  8.9min finished\n"
     ]
    },
    {
     "name": "stdout",
     "output_type": "stream",
     "text": [
      "347 120,130 done --------------------\n",
      "(173520, 250, 3) (433466, 250, 3)\n",
      "Epoch 00111: early stopping\n"
     ]
    },
    {
     "name": "stderr",
     "output_type": "stream",
     "text": [
      "[Parallel(n_jobs=30)]: Using backend LokyBackend with 30 concurrent workers.\n",
      "[Parallel(n_jobs=30)]: Done 102 tasks      | elapsed:  4.1min\n",
      "[Parallel(n_jobs=30)]: Done 241 out of 241 | elapsed:  8.9min finished\n"
     ]
    },
    {
     "name": "stdout",
     "output_type": "stream",
     "text": [
      "347 120,132 done --------------------\n",
      "(173520, 250, 3) (433466, 250, 3)\n",
      "Epoch 00134: early stopping\n"
     ]
    },
    {
     "name": "stderr",
     "output_type": "stream",
     "text": [
      "[Parallel(n_jobs=30)]: Using backend LokyBackend with 30 concurrent workers.\n",
      "[Parallel(n_jobs=30)]: Done 102 tasks      | elapsed:  4.1min\n",
      "[Parallel(n_jobs=30)]: Done 241 out of 241 | elapsed:  8.9min finished\n"
     ]
    },
    {
     "name": "stdout",
     "output_type": "stream",
     "text": [
      "347 120,134 done --------------------\n",
      "(173520, 250, 3) (433466, 250, 3)\n",
      "Epoch 00113: early stopping\n"
     ]
    },
    {
     "name": "stderr",
     "output_type": "stream",
     "text": [
      "[Parallel(n_jobs=30)]: Using backend LokyBackend with 30 concurrent workers.\n",
      "[Parallel(n_jobs=30)]: Done 102 tasks      | elapsed:  4.1min\n",
      "[Parallel(n_jobs=30)]: Done 241 out of 241 | elapsed:  8.8min finished\n"
     ]
    },
    {
     "name": "stdout",
     "output_type": "stream",
     "text": [
      "347 120,136 done --------------------\n",
      "(173520, 250, 3) (433466, 250, 3)\n",
      "Epoch 00138: early stopping\n"
     ]
    },
    {
     "name": "stderr",
     "output_type": "stream",
     "text": [
      "[Parallel(n_jobs=30)]: Using backend LokyBackend with 30 concurrent workers.\n",
      "[Parallel(n_jobs=30)]: Done 102 tasks      | elapsed:  4.1min\n",
      "[Parallel(n_jobs=30)]: Done 241 out of 241 | elapsed:  8.8min finished\n"
     ]
    },
    {
     "name": "stdout",
     "output_type": "stream",
     "text": [
      "347 120,138 done --------------------\n",
      "(173520, 250, 3) (433466, 250, 3)\n",
      "Epoch 00129: early stopping\n"
     ]
    },
    {
     "name": "stderr",
     "output_type": "stream",
     "text": [
      "[Parallel(n_jobs=30)]: Using backend LokyBackend with 30 concurrent workers.\n",
      "[Parallel(n_jobs=30)]: Done 102 tasks      | elapsed:  4.1min\n",
      "[Parallel(n_jobs=30)]: Done 241 out of 241 | elapsed:  8.9min finished\n"
     ]
    },
    {
     "name": "stdout",
     "output_type": "stream",
     "text": [
      "347 120,140 done --------------------\n",
      "(173520, 250, 3) (433466, 250, 3)\n",
      "Epoch 00146: early stopping\n"
     ]
    },
    {
     "name": "stderr",
     "output_type": "stream",
     "text": [
      "[Parallel(n_jobs=30)]: Using backend LokyBackend with 30 concurrent workers.\n",
      "[Parallel(n_jobs=30)]: Done 102 tasks      | elapsed:  4.2min\n",
      "[Parallel(n_jobs=30)]: Done 241 out of 241 | elapsed:  8.9min finished\n"
     ]
    },
    {
     "name": "stdout",
     "output_type": "stream",
     "text": [
      "347 120,142 done --------------------\n",
      "(173520, 250, 3) (433466, 250, 3)\n",
      "Epoch 00131: early stopping\n"
     ]
    },
    {
     "name": "stderr",
     "output_type": "stream",
     "text": [
      "[Parallel(n_jobs=30)]: Using backend LokyBackend with 30 concurrent workers.\n",
      "[Parallel(n_jobs=30)]: Done 102 tasks      | elapsed:  4.1min\n",
      "[Parallel(n_jobs=30)]: Done 241 out of 241 | elapsed:  8.8min finished\n"
     ]
    },
    {
     "name": "stdout",
     "output_type": "stream",
     "text": [
      "347 120,144 done --------------------\n",
      "(173520, 250, 3) (433466, 250, 3)\n",
      "Epoch 00118: early stopping\n"
     ]
    },
    {
     "name": "stderr",
     "output_type": "stream",
     "text": [
      "[Parallel(n_jobs=30)]: Using backend LokyBackend with 30 concurrent workers.\n",
      "[Parallel(n_jobs=30)]: Done 102 tasks      | elapsed:  4.1min\n",
      "[Parallel(n_jobs=30)]: Done 241 out of 241 | elapsed:  8.8min finished\n"
     ]
    },
    {
     "name": "stdout",
     "output_type": "stream",
     "text": [
      "347 120,146 done --------------------\n",
      "(173520, 250, 3) (433466, 250, 3)\n",
      "Epoch 00133: early stopping\n"
     ]
    },
    {
     "name": "stderr",
     "output_type": "stream",
     "text": [
      "[Parallel(n_jobs=30)]: Using backend LokyBackend with 30 concurrent workers.\n",
      "[Parallel(n_jobs=30)]: Done 102 tasks      | elapsed:  4.1min\n",
      "[Parallel(n_jobs=30)]: Done 241 out of 241 | elapsed:  8.9min finished\n"
     ]
    },
    {
     "name": "stdout",
     "output_type": "stream",
     "text": [
      "347 120,148 done --------------------\n",
      "(173520, 250, 3) (433466, 250, 3)\n",
      "Epoch 00134: early stopping\n"
     ]
    },
    {
     "name": "stderr",
     "output_type": "stream",
     "text": [
      "[Parallel(n_jobs=30)]: Using backend LokyBackend with 30 concurrent workers.\n",
      "[Parallel(n_jobs=30)]: Done 102 tasks      | elapsed:  4.1min\n",
      "[Parallel(n_jobs=30)]: Done 241 out of 241 | elapsed:  8.9min finished\n"
     ]
    },
    {
     "name": "stdout",
     "output_type": "stream",
     "text": [
      "347 120,150 done --------------------\n",
      "(173520, 250, 3) (433466, 250, 3)\n",
      "Epoch 00132: early stopping\n"
     ]
    },
    {
     "name": "stderr",
     "output_type": "stream",
     "text": [
      "[Parallel(n_jobs=30)]: Using backend LokyBackend with 30 concurrent workers.\n",
      "[Parallel(n_jobs=30)]: Done 102 tasks      | elapsed:  4.1min\n",
      "[Parallel(n_jobs=30)]: Done 241 out of 241 | elapsed:  8.8min finished\n"
     ]
    },
    {
     "name": "stdout",
     "output_type": "stream",
     "text": [
      "347 120,152 done --------------------\n",
      "(173520, 250, 3) (433466, 250, 3)\n",
      "Epoch 00112: early stopping\n"
     ]
    },
    {
     "name": "stderr",
     "output_type": "stream",
     "text": [
      "[Parallel(n_jobs=30)]: Using backend LokyBackend with 30 concurrent workers.\n",
      "[Parallel(n_jobs=30)]: Done 102 tasks      | elapsed:  4.0min\n",
      "[Parallel(n_jobs=30)]: Done 241 out of 241 | elapsed:  8.9min finished\n"
     ]
    },
    {
     "name": "stdout",
     "output_type": "stream",
     "text": [
      "347 120,154 done --------------------\n",
      "(173520, 250, 3) (433466, 250, 3)\n",
      "Epoch 00151: early stopping\n"
     ]
    },
    {
     "name": "stderr",
     "output_type": "stream",
     "text": [
      "[Parallel(n_jobs=30)]: Using backend LokyBackend with 30 concurrent workers.\n",
      "[Parallel(n_jobs=30)]: Done 102 tasks      | elapsed:  4.1min\n",
      "[Parallel(n_jobs=30)]: Done 241 out of 241 | elapsed:  8.8min finished\n"
     ]
    },
    {
     "name": "stdout",
     "output_type": "stream",
     "text": [
      "347 120,156 done --------------------\n",
      "(173520, 250, 3) (433466, 250, 3)\n",
      "Epoch 00121: early stopping\n"
     ]
    },
    {
     "name": "stderr",
     "output_type": "stream",
     "text": [
      "[Parallel(n_jobs=30)]: Using backend LokyBackend with 30 concurrent workers.\n",
      "[Parallel(n_jobs=30)]: Done 102 tasks      | elapsed:  4.1min\n",
      "[Parallel(n_jobs=30)]: Done 241 out of 241 | elapsed:  8.8min finished\n"
     ]
    },
    {
     "name": "stdout",
     "output_type": "stream",
     "text": [
      "347 120,158 done --------------------\n",
      "(173520, 250, 3) (433466, 250, 3)\n",
      "Epoch 00127: early stopping\n"
     ]
    },
    {
     "name": "stderr",
     "output_type": "stream",
     "text": [
      "[Parallel(n_jobs=30)]: Using backend LokyBackend with 30 concurrent workers.\n",
      "[Parallel(n_jobs=30)]: Done 102 tasks      | elapsed:  4.1min\n",
      "[Parallel(n_jobs=30)]: Done 241 out of 241 | elapsed:  8.8min finished\n"
     ]
    },
    {
     "name": "stdout",
     "output_type": "stream",
     "text": [
      "347 120,160 done --------------------\n",
      "(173520, 250, 3) (433466, 250, 3)\n",
      "Epoch 00139: early stopping\n"
     ]
    },
    {
     "name": "stderr",
     "output_type": "stream",
     "text": [
      "[Parallel(n_jobs=30)]: Using backend LokyBackend with 30 concurrent workers.\n",
      "[Parallel(n_jobs=30)]: Done 102 tasks      | elapsed:  4.0min\n",
      "[Parallel(n_jobs=30)]: Done 241 out of 241 | elapsed:  8.8min finished\n"
     ]
    },
    {
     "name": "stdout",
     "output_type": "stream",
     "text": [
      "347 120,162 done --------------------\n",
      "(173520, 250, 3) (433466, 250, 3)\n",
      "Epoch 00140: early stopping\n"
     ]
    },
    {
     "name": "stderr",
     "output_type": "stream",
     "text": [
      "[Parallel(n_jobs=30)]: Using backend LokyBackend with 30 concurrent workers.\n",
      "[Parallel(n_jobs=30)]: Done 102 tasks      | elapsed:  4.0min\n",
      "[Parallel(n_jobs=30)]: Done 241 out of 241 | elapsed:  8.9min finished\n"
     ]
    },
    {
     "name": "stdout",
     "output_type": "stream",
     "text": [
      "347 120,164 done --------------------\n",
      "(173520, 250, 3) (433466, 250, 3)\n",
      "Epoch 00133: early stopping\n"
     ]
    },
    {
     "name": "stderr",
     "output_type": "stream",
     "text": [
      "[Parallel(n_jobs=30)]: Using backend LokyBackend with 30 concurrent workers.\n",
      "[Parallel(n_jobs=30)]: Done 102 tasks      | elapsed:  4.1min\n",
      "[Parallel(n_jobs=30)]: Done 241 out of 241 | elapsed:  8.8min finished\n"
     ]
    },
    {
     "name": "stdout",
     "output_type": "stream",
     "text": [
      "347 120,166 done --------------------\n",
      "(173520, 250, 3) (433466, 250, 3)\n",
      "Epoch 00161: early stopping\n"
     ]
    },
    {
     "name": "stderr",
     "output_type": "stream",
     "text": [
      "[Parallel(n_jobs=30)]: Using backend LokyBackend with 30 concurrent workers.\n",
      "[Parallel(n_jobs=30)]: Done 102 tasks      | elapsed:  4.2min\n",
      "[Parallel(n_jobs=30)]: Done 241 out of 241 | elapsed:  8.8min finished\n"
     ]
    },
    {
     "name": "stdout",
     "output_type": "stream",
     "text": [
      "347 120,168 done --------------------\n",
      "(173520, 250, 3) (433466, 250, 3)\n",
      "Epoch 00157: early stopping\n"
     ]
    },
    {
     "name": "stderr",
     "output_type": "stream",
     "text": [
      "[Parallel(n_jobs=30)]: Using backend LokyBackend with 30 concurrent workers.\n",
      "[Parallel(n_jobs=30)]: Done 102 tasks      | elapsed:  4.1min\n",
      "[Parallel(n_jobs=30)]: Done 241 out of 241 | elapsed:  8.8min finished\n"
     ]
    },
    {
     "name": "stdout",
     "output_type": "stream",
     "text": [
      "347 120,170 done --------------------\n",
      "(173520, 250, 3) (433466, 250, 3)\n",
      "Epoch 00154: early stopping\n"
     ]
    },
    {
     "name": "stderr",
     "output_type": "stream",
     "text": [
      "[Parallel(n_jobs=30)]: Using backend LokyBackend with 30 concurrent workers.\n",
      "[Parallel(n_jobs=30)]: Done 102 tasks      | elapsed:  4.1min\n",
      "[Parallel(n_jobs=30)]: Done 241 out of 241 | elapsed:  8.8min finished\n"
     ]
    },
    {
     "name": "stdout",
     "output_type": "stream",
     "text": [
      "347 120,172 done --------------------\n",
      "(173520, 250, 3) (433466, 250, 3)\n",
      "Epoch 00159: early stopping\n"
     ]
    },
    {
     "name": "stderr",
     "output_type": "stream",
     "text": [
      "[Parallel(n_jobs=30)]: Using backend LokyBackend with 30 concurrent workers.\n",
      "[Parallel(n_jobs=30)]: Done 102 tasks      | elapsed:  4.1min\n",
      "[Parallel(n_jobs=30)]: Done 241 out of 241 | elapsed:  8.9min finished\n"
     ]
    },
    {
     "name": "stdout",
     "output_type": "stream",
     "text": [
      "347 120,174 done --------------------\n",
      "(173520, 250, 3) (433466, 250, 3)\n",
      "Epoch 00138: early stopping\n"
     ]
    },
    {
     "name": "stderr",
     "output_type": "stream",
     "text": [
      "[Parallel(n_jobs=30)]: Using backend LokyBackend with 30 concurrent workers.\n",
      "[Parallel(n_jobs=30)]: Done 102 tasks      | elapsed:  4.1min\n",
      "[Parallel(n_jobs=30)]: Done 241 out of 241 | elapsed:  8.8min finished\n"
     ]
    },
    {
     "name": "stdout",
     "output_type": "stream",
     "text": [
      "347 120,176 done --------------------\n",
      "(173520, 250, 3) (433466, 250, 3)\n",
      "Epoch 00158: early stopping\n"
     ]
    },
    {
     "name": "stderr",
     "output_type": "stream",
     "text": [
      "[Parallel(n_jobs=30)]: Using backend LokyBackend with 30 concurrent workers.\n",
      "[Parallel(n_jobs=30)]: Done 102 tasks      | elapsed:  4.1min\n",
      "[Parallel(n_jobs=30)]: Done 241 out of 241 | elapsed:  8.8min finished\n"
     ]
    },
    {
     "name": "stdout",
     "output_type": "stream",
     "text": [
      "347 120,178 done --------------------\n",
      "(173520, 250, 3) (433466, 250, 3)\n",
      "Epoch 00142: early stopping\n"
     ]
    },
    {
     "name": "stderr",
     "output_type": "stream",
     "text": [
      "[Parallel(n_jobs=30)]: Using backend LokyBackend with 30 concurrent workers.\n",
      "[Parallel(n_jobs=30)]: Done 102 tasks      | elapsed:  4.0min\n",
      "[Parallel(n_jobs=30)]: Done 241 out of 241 | elapsed:  8.8min finished\n"
     ]
    },
    {
     "name": "stdout",
     "output_type": "stream",
     "text": [
      "347 120,180 done --------------------\n",
      "(173520, 250, 3) (433466, 250, 3)\n",
      "Epoch 00153: early stopping\n"
     ]
    },
    {
     "name": "stderr",
     "output_type": "stream",
     "text": [
      "[Parallel(n_jobs=30)]: Using backend LokyBackend with 30 concurrent workers.\n",
      "[Parallel(n_jobs=30)]: Done 102 tasks      | elapsed:  4.1min\n",
      "[Parallel(n_jobs=30)]: Done 241 out of 241 | elapsed:  8.8min finished\n"
     ]
    },
    {
     "name": "stdout",
     "output_type": "stream",
     "text": [
      "347 120,182 done --------------------\n",
      "(173520, 250, 3) (433466, 250, 3)\n",
      "Epoch 00142: early stopping\n"
     ]
    },
    {
     "name": "stderr",
     "output_type": "stream",
     "text": [
      "[Parallel(n_jobs=30)]: Using backend LokyBackend with 30 concurrent workers.\n",
      "[Parallel(n_jobs=30)]: Done 102 tasks      | elapsed:  4.0min\n",
      "[Parallel(n_jobs=30)]: Done 241 out of 241 | elapsed:  8.8min finished\n"
     ]
    },
    {
     "name": "stdout",
     "output_type": "stream",
     "text": [
      "347 120,184 done --------------------\n",
      "(173520, 250, 3) (433466, 250, 3)\n",
      "Epoch 00155: early stopping\n"
     ]
    },
    {
     "name": "stderr",
     "output_type": "stream",
     "text": [
      "[Parallel(n_jobs=30)]: Using backend LokyBackend with 30 concurrent workers.\n",
      "[Parallel(n_jobs=30)]: Done 102 tasks      | elapsed:  4.1min\n",
      "[Parallel(n_jobs=30)]: Done 241 out of 241 | elapsed:  8.8min finished\n"
     ]
    },
    {
     "name": "stdout",
     "output_type": "stream",
     "text": [
      "347 120,186 done --------------------\n",
      "(173520, 250, 3) (433466, 250, 3)\n",
      "Epoch 00151: early stopping\n"
     ]
    },
    {
     "name": "stderr",
     "output_type": "stream",
     "text": [
      "[Parallel(n_jobs=30)]: Using backend LokyBackend with 30 concurrent workers.\n",
      "[Parallel(n_jobs=30)]: Done 102 tasks      | elapsed:  4.1min\n",
      "[Parallel(n_jobs=30)]: Done 241 out of 241 | elapsed:  8.9min finished\n"
     ]
    },
    {
     "name": "stdout",
     "output_type": "stream",
     "text": [
      "347 120,188 done --------------------\n",
      "(173520, 250, 3) (433466, 250, 3)\n",
      "Epoch 00166: early stopping\n"
     ]
    },
    {
     "name": "stderr",
     "output_type": "stream",
     "text": [
      "[Parallel(n_jobs=30)]: Using backend LokyBackend with 30 concurrent workers.\n",
      "[Parallel(n_jobs=30)]: Done 102 tasks      | elapsed:  4.0min\n",
      "[Parallel(n_jobs=30)]: Done 241 out of 241 | elapsed:  8.9min finished\n"
     ]
    },
    {
     "name": "stdout",
     "output_type": "stream",
     "text": [
      "347 120,190 done --------------------\n",
      "(173520, 250, 3) (433466, 250, 3)\n",
      "Epoch 00179: early stopping\n"
     ]
    },
    {
     "name": "stderr",
     "output_type": "stream",
     "text": [
      "[Parallel(n_jobs=30)]: Using backend LokyBackend with 30 concurrent workers.\n",
      "[Parallel(n_jobs=30)]: Done 102 tasks      | elapsed:  4.1min\n",
      "[Parallel(n_jobs=30)]: Done 241 out of 241 | elapsed:  8.8min finished\n"
     ]
    },
    {
     "name": "stdout",
     "output_type": "stream",
     "text": [
      "347 120,192 done --------------------\n",
      "(173520, 250, 3) (433466, 250, 3)\n",
      "Epoch 00151: early stopping\n"
     ]
    },
    {
     "name": "stderr",
     "output_type": "stream",
     "text": [
      "[Parallel(n_jobs=30)]: Using backend LokyBackend with 30 concurrent workers.\n",
      "[Parallel(n_jobs=30)]: Done 102 tasks      | elapsed:  4.1min\n",
      "[Parallel(n_jobs=30)]: Done 241 out of 241 | elapsed:  8.8min finished\n"
     ]
    },
    {
     "name": "stdout",
     "output_type": "stream",
     "text": [
      "347 120,194 done --------------------\n",
      "(173520, 250, 3) (433466, 250, 3)\n",
      "Epoch 00167: early stopping\n"
     ]
    },
    {
     "name": "stderr",
     "output_type": "stream",
     "text": [
      "[Parallel(n_jobs=30)]: Using backend LokyBackend with 30 concurrent workers.\n",
      "[Parallel(n_jobs=30)]: Done 102 tasks      | elapsed:  4.1min\n",
      "[Parallel(n_jobs=30)]: Done 241 out of 241 | elapsed:  8.8min finished\n"
     ]
    },
    {
     "name": "stdout",
     "output_type": "stream",
     "text": [
      "347 120,196 done --------------------\n",
      "(173520, 250, 3) (433466, 250, 3)\n",
      "Epoch 00194: early stopping\n"
     ]
    },
    {
     "name": "stderr",
     "output_type": "stream",
     "text": [
      "[Parallel(n_jobs=30)]: Using backend LokyBackend with 30 concurrent workers.\n",
      "[Parallel(n_jobs=30)]: Done 102 tasks      | elapsed:  4.0min\n",
      "[Parallel(n_jobs=30)]: Done 241 out of 241 | elapsed:  8.8min finished\n"
     ]
    },
    {
     "name": "stdout",
     "output_type": "stream",
     "text": [
      "347 120,198 done --------------------\n",
      "(173520, 250, 3) (433466, 250, 3)\n",
      "Epoch 00169: early stopping\n"
     ]
    },
    {
     "name": "stderr",
     "output_type": "stream",
     "text": [
      "[Parallel(n_jobs=30)]: Using backend LokyBackend with 30 concurrent workers.\n",
      "[Parallel(n_jobs=30)]: Done 102 tasks      | elapsed:  4.1min\n",
      "[Parallel(n_jobs=30)]: Done 241 out of 241 | elapsed:  8.9min finished\n"
     ]
    },
    {
     "name": "stdout",
     "output_type": "stream",
     "text": [
      "347 120,200 done --------------------\n",
      "(173520, 250, 3) (433466, 250, 3)\n",
      "Epoch 00161: early stopping\n"
     ]
    },
    {
     "name": "stderr",
     "output_type": "stream",
     "text": [
      "[Parallel(n_jobs=30)]: Using backend LokyBackend with 30 concurrent workers.\n",
      "[Parallel(n_jobs=30)]: Done 102 tasks      | elapsed:  4.1min\n",
      "[Parallel(n_jobs=30)]: Done 241 out of 241 | elapsed:  8.9min finished\n"
     ]
    },
    {
     "name": "stdout",
     "output_type": "stream",
     "text": [
      "347 120,202 done --------------------\n",
      "(173520, 250, 3) (433466, 250, 3)\n",
      "Epoch 00140: early stopping\n"
     ]
    },
    {
     "name": "stderr",
     "output_type": "stream",
     "text": [
      "[Parallel(n_jobs=30)]: Using backend LokyBackend with 30 concurrent workers.\n",
      "[Parallel(n_jobs=30)]: Done 102 tasks      | elapsed:  4.1min\n",
      "[Parallel(n_jobs=30)]: Done 241 out of 241 | elapsed:  8.8min finished\n"
     ]
    },
    {
     "name": "stdout",
     "output_type": "stream",
     "text": [
      "347 120,204 done --------------------\n",
      "(173520, 250, 3) (433466, 250, 3)\n",
      "Epoch 00178: early stopping\n"
     ]
    },
    {
     "name": "stderr",
     "output_type": "stream",
     "text": [
      "[Parallel(n_jobs=30)]: Using backend LokyBackend with 30 concurrent workers.\n",
      "[Parallel(n_jobs=30)]: Done 102 tasks      | elapsed:  4.1min\n",
      "[Parallel(n_jobs=30)]: Done 241 out of 241 | elapsed:  8.8min finished\n"
     ]
    },
    {
     "name": "stdout",
     "output_type": "stream",
     "text": [
      "347 120,206 done --------------------\n",
      "(173520, 250, 3) (433466, 250, 3)\n",
      "Epoch 00173: early stopping\n"
     ]
    },
    {
     "name": "stderr",
     "output_type": "stream",
     "text": [
      "[Parallel(n_jobs=30)]: Using backend LokyBackend with 30 concurrent workers.\n",
      "[Parallel(n_jobs=30)]: Done 102 tasks      | elapsed:  4.1min\n",
      "[Parallel(n_jobs=30)]: Done 241 out of 241 | elapsed:  8.8min finished\n"
     ]
    },
    {
     "name": "stdout",
     "output_type": "stream",
     "text": [
      "347 120,208 done --------------------\n",
      "(173520, 250, 3) (433466, 250, 3)\n",
      "Epoch 00164: early stopping\n"
     ]
    },
    {
     "name": "stderr",
     "output_type": "stream",
     "text": [
      "[Parallel(n_jobs=30)]: Using backend LokyBackend with 30 concurrent workers.\n",
      "[Parallel(n_jobs=30)]: Done 102 tasks      | elapsed:  4.1min\n",
      "[Parallel(n_jobs=30)]: Done 241 out of 241 | elapsed:  8.8min finished\n"
     ]
    },
    {
     "name": "stdout",
     "output_type": "stream",
     "text": [
      "347 120,210 done --------------------\n",
      "(173520, 250, 3) (433466, 250, 3)\n",
      "Epoch 00159: early stopping\n"
     ]
    },
    {
     "name": "stderr",
     "output_type": "stream",
     "text": [
      "[Parallel(n_jobs=30)]: Using backend LokyBackend with 30 concurrent workers.\n",
      "[Parallel(n_jobs=30)]: Done 102 tasks      | elapsed:  4.1min\n",
      "[Parallel(n_jobs=30)]: Done 241 out of 241 | elapsed:  8.8min finished\n"
     ]
    },
    {
     "name": "stdout",
     "output_type": "stream",
     "text": [
      "347 120,212 done --------------------\n",
      "(173520, 250, 3) (433466, 250, 3)\n",
      "Epoch 00165: early stopping\n"
     ]
    },
    {
     "name": "stderr",
     "output_type": "stream",
     "text": [
      "[Parallel(n_jobs=30)]: Using backend LokyBackend with 30 concurrent workers.\n",
      "[Parallel(n_jobs=30)]: Done 102 tasks      | elapsed:  4.1min\n",
      "[Parallel(n_jobs=30)]: Done 241 out of 241 | elapsed:  8.9min finished\n"
     ]
    },
    {
     "name": "stdout",
     "output_type": "stream",
     "text": [
      "347 120,214 done --------------------\n",
      "(173520, 250, 3) (433466, 250, 3)\n"
     ]
    },
    {
     "name": "stderr",
     "output_type": "stream",
     "text": [
      "[Parallel(n_jobs=30)]: Using backend LokyBackend with 30 concurrent workers.\n",
      "[Parallel(n_jobs=30)]: Done 102 tasks      | elapsed:  4.1min\n",
      "[Parallel(n_jobs=30)]: Done 241 out of 241 | elapsed:  8.8min finished\n"
     ]
    },
    {
     "name": "stdout",
     "output_type": "stream",
     "text": [
      "347 120,216 done --------------------\n",
      "(173520, 250, 3) (433466, 250, 3)\n",
      "Epoch 00187: early stopping\n"
     ]
    },
    {
     "name": "stderr",
     "output_type": "stream",
     "text": [
      "[Parallel(n_jobs=30)]: Using backend LokyBackend with 30 concurrent workers.\n",
      "[Parallel(n_jobs=30)]: Done 102 tasks      | elapsed:  4.2min\n",
      "[Parallel(n_jobs=30)]: Done 241 out of 241 | elapsed:  8.9min finished\n"
     ]
    },
    {
     "name": "stdout",
     "output_type": "stream",
     "text": [
      "347 120,218 done --------------------\n",
      "(173520, 250, 3) (433466, 250, 3)\n",
      "Epoch 00178: early stopping\n"
     ]
    },
    {
     "name": "stderr",
     "output_type": "stream",
     "text": [
      "[Parallel(n_jobs=30)]: Using backend LokyBackend with 30 concurrent workers.\n",
      "[Parallel(n_jobs=30)]: Done 102 tasks      | elapsed:  4.0min\n",
      "[Parallel(n_jobs=30)]: Done 241 out of 241 | elapsed:  8.9min finished\n"
     ]
    },
    {
     "name": "stdout",
     "output_type": "stream",
     "text": [
      "347 120,220 done --------------------\n",
      "(173520, 250, 3) (433466, 250, 3)\n",
      "Epoch 00184: early stopping\n"
     ]
    },
    {
     "name": "stderr",
     "output_type": "stream",
     "text": [
      "[Parallel(n_jobs=30)]: Using backend LokyBackend with 30 concurrent workers.\n",
      "[Parallel(n_jobs=30)]: Done 102 tasks      | elapsed:  4.0min\n",
      "[Parallel(n_jobs=30)]: Done 241 out of 241 | elapsed:  8.8min finished\n"
     ]
    },
    {
     "name": "stdout",
     "output_type": "stream",
     "text": [
      "347 120,222 done --------------------\n",
      "(173520, 250, 3) (433466, 250, 3)\n",
      "Epoch 00157: early stopping\n"
     ]
    },
    {
     "name": "stderr",
     "output_type": "stream",
     "text": [
      "[Parallel(n_jobs=30)]: Using backend LokyBackend with 30 concurrent workers.\n",
      "[Parallel(n_jobs=30)]: Done 102 tasks      | elapsed:  4.1min\n",
      "[Parallel(n_jobs=30)]: Done 241 out of 241 | elapsed:  8.9min finished\n"
     ]
    },
    {
     "name": "stdout",
     "output_type": "stream",
     "text": [
      "347 120,224 done --------------------\n",
      "(173520, 250, 3) (433466, 250, 3)\n",
      "Epoch 00142: early stopping\n"
     ]
    },
    {
     "name": "stderr",
     "output_type": "stream",
     "text": [
      "[Parallel(n_jobs=30)]: Using backend LokyBackend with 30 concurrent workers.\n",
      "[Parallel(n_jobs=30)]: Done 102 tasks      | elapsed:  4.1min\n",
      "[Parallel(n_jobs=30)]: Done 241 out of 241 | elapsed:  8.8min finished\n"
     ]
    },
    {
     "name": "stdout",
     "output_type": "stream",
     "text": [
      "347 120,226 done --------------------\n",
      "(173520, 250, 3) (433466, 250, 3)\n",
      "Epoch 00154: early stopping\n"
     ]
    },
    {
     "name": "stderr",
     "output_type": "stream",
     "text": [
      "[Parallel(n_jobs=30)]: Using backend LokyBackend with 30 concurrent workers.\n",
      "[Parallel(n_jobs=30)]: Done 102 tasks      | elapsed:  4.2min\n",
      "[Parallel(n_jobs=30)]: Done 241 out of 241 | elapsed:  8.9min finished\n"
     ]
    },
    {
     "name": "stdout",
     "output_type": "stream",
     "text": [
      "347 120,228 done --------------------\n",
      "(173520, 250, 3) (433466, 250, 3)\n",
      "Epoch 00159: early stopping\n"
     ]
    },
    {
     "name": "stderr",
     "output_type": "stream",
     "text": [
      "[Parallel(n_jobs=30)]: Using backend LokyBackend with 30 concurrent workers.\n",
      "[Parallel(n_jobs=30)]: Done 102 tasks      | elapsed:  4.0min\n",
      "[Parallel(n_jobs=30)]: Done 241 out of 241 | elapsed:  8.9min finished\n"
     ]
    },
    {
     "name": "stdout",
     "output_type": "stream",
     "text": [
      "347 120,230 done --------------------\n",
      "(173520, 250, 3) (433466, 250, 3)\n",
      "Epoch 00178: early stopping\n"
     ]
    },
    {
     "name": "stderr",
     "output_type": "stream",
     "text": [
      "[Parallel(n_jobs=30)]: Using backend LokyBackend with 30 concurrent workers.\n",
      "[Parallel(n_jobs=30)]: Done 102 tasks      | elapsed:  4.1min\n",
      "[Parallel(n_jobs=30)]: Done 241 out of 241 | elapsed:  8.8min finished\n"
     ]
    },
    {
     "name": "stdout",
     "output_type": "stream",
     "text": [
      "347 120,232 done --------------------\n",
      "(173520, 250, 3) (433466, 250, 3)\n",
      "Epoch 00151: early stopping\n"
     ]
    },
    {
     "name": "stderr",
     "output_type": "stream",
     "text": [
      "[Parallel(n_jobs=30)]: Using backend LokyBackend with 30 concurrent workers.\n",
      "[Parallel(n_jobs=30)]: Done 102 tasks      | elapsed:  4.0min\n",
      "[Parallel(n_jobs=30)]: Done 241 out of 241 | elapsed:  8.8min finished\n"
     ]
    },
    {
     "name": "stdout",
     "output_type": "stream",
     "text": [
      "347 120,234 done --------------------\n",
      "(173520, 250, 3) (433466, 250, 3)\n",
      "Epoch 00149: early stopping\n"
     ]
    },
    {
     "name": "stderr",
     "output_type": "stream",
     "text": [
      "[Parallel(n_jobs=30)]: Using backend LokyBackend with 30 concurrent workers.\n",
      "[Parallel(n_jobs=30)]: Done 102 tasks      | elapsed:  4.1min\n",
      "[Parallel(n_jobs=30)]: Done 241 out of 241 | elapsed:  8.9min finished\n"
     ]
    },
    {
     "name": "stdout",
     "output_type": "stream",
     "text": [
      "347 120,236 done --------------------\n",
      "(173520, 250, 3) (433466, 250, 3)\n",
      "Epoch 00154: early stopping\n"
     ]
    },
    {
     "name": "stderr",
     "output_type": "stream",
     "text": [
      "[Parallel(n_jobs=30)]: Using backend LokyBackend with 30 concurrent workers.\n",
      "[Parallel(n_jobs=30)]: Done 102 tasks      | elapsed:  4.1min\n",
      "[Parallel(n_jobs=30)]: Done 241 out of 241 | elapsed:  8.8min finished\n"
     ]
    },
    {
     "name": "stdout",
     "output_type": "stream",
     "text": [
      "347 120,238 done --------------------\n",
      "(173520, 250, 3) (433466, 250, 3)\n",
      "Epoch 00146: early stopping\n"
     ]
    },
    {
     "name": "stderr",
     "output_type": "stream",
     "text": [
      "[Parallel(n_jobs=30)]: Using backend LokyBackend with 30 concurrent workers.\n",
      "[Parallel(n_jobs=30)]: Done 102 tasks      | elapsed:  4.0min\n",
      "[Parallel(n_jobs=30)]: Done 241 out of 241 | elapsed:  8.8min finished\n"
     ]
    },
    {
     "name": "stdout",
     "output_type": "stream",
     "text": [
      "347 120,240 done --------------------\n",
      "(173520, 250, 3) (433466, 250, 3)\n",
      "Epoch 00162: early stopping\n"
     ]
    },
    {
     "name": "stderr",
     "output_type": "stream",
     "text": [
      "[Parallel(n_jobs=30)]: Using backend LokyBackend with 30 concurrent workers.\n",
      "[Parallel(n_jobs=30)]: Done 102 tasks      | elapsed:  4.2min\n",
      "[Parallel(n_jobs=30)]: Done 241 out of 241 | elapsed:  8.8min finished\n"
     ]
    },
    {
     "name": "stdout",
     "output_type": "stream",
     "text": [
      "347 120,242 done --------------------\n",
      "(173520, 250, 3) (433466, 250, 3)\n",
      "Epoch 00143: early stopping\n"
     ]
    },
    {
     "name": "stderr",
     "output_type": "stream",
     "text": [
      "[Parallel(n_jobs=30)]: Using backend LokyBackend with 30 concurrent workers.\n",
      "[Parallel(n_jobs=30)]: Done 102 tasks      | elapsed:  4.1min\n",
      "[Parallel(n_jobs=30)]: Done 241 out of 241 | elapsed:  8.9min finished\n"
     ]
    },
    {
     "name": "stdout",
     "output_type": "stream",
     "text": [
      "347 120,244 done --------------------\n",
      "(173520, 250, 3) (433466, 250, 3)\n",
      "Epoch 00147: early stopping\n"
     ]
    },
    {
     "name": "stderr",
     "output_type": "stream",
     "text": [
      "[Parallel(n_jobs=30)]: Using backend LokyBackend with 30 concurrent workers.\n",
      "[Parallel(n_jobs=30)]: Done 102 tasks      | elapsed:  4.1min\n",
      "[Parallel(n_jobs=30)]: Done 241 out of 241 | elapsed:  8.8min finished\n"
     ]
    },
    {
     "name": "stdout",
     "output_type": "stream",
     "text": [
      "347 120,246 done --------------------\n",
      "(173520, 250, 3) (433466, 250, 3)\n",
      "Epoch 00151: early stopping\n"
     ]
    },
    {
     "name": "stderr",
     "output_type": "stream",
     "text": [
      "[Parallel(n_jobs=30)]: Using backend LokyBackend with 30 concurrent workers.\n",
      "[Parallel(n_jobs=30)]: Done 102 tasks      | elapsed:  4.2min\n",
      "[Parallel(n_jobs=30)]: Done 241 out of 241 | elapsed:  8.8min finished\n"
     ]
    },
    {
     "name": "stdout",
     "output_type": "stream",
     "text": [
      "347 120,248 done --------------------\n",
      "(173520, 250, 3) (433466, 250, 3)\n",
      "Epoch 00160: early stopping\n"
     ]
    },
    {
     "name": "stderr",
     "output_type": "stream",
     "text": [
      "[Parallel(n_jobs=30)]: Using backend LokyBackend with 30 concurrent workers.\n",
      "[Parallel(n_jobs=30)]: Done 102 tasks      | elapsed:  4.1min\n",
      "[Parallel(n_jobs=30)]: Done 241 out of 241 | elapsed:  8.8min finished\n"
     ]
    },
    {
     "name": "stdout",
     "output_type": "stream",
     "text": [
      "347 120,250 done --------------------\n",
      "(173520, 250, 3) (433466, 250, 3)\n",
      "Epoch 00114: early stopping\n"
     ]
    },
    {
     "name": "stderr",
     "output_type": "stream",
     "text": [
      "[Parallel(n_jobs=30)]: Using backend LokyBackend with 30 concurrent workers.\n",
      "[Parallel(n_jobs=30)]: Done 102 tasks      | elapsed:  3.9min\n",
      "[Parallel(n_jobs=30)]: Done 241 out of 241 | elapsed:  8.5min finished\n"
     ]
    },
    {
     "name": "stdout",
     "output_type": "stream",
     "text": [
      "347 120,252 done --------------------\n",
      "(173520, 250, 3) (433466, 250, 3)\n",
      "Epoch 00114: early stopping\n"
     ]
    },
    {
     "name": "stderr",
     "output_type": "stream",
     "text": [
      "[Parallel(n_jobs=30)]: Using backend LokyBackend with 30 concurrent workers.\n",
      "[Parallel(n_jobs=30)]: Done 102 tasks      | elapsed:  3.9min\n"
     ]
    },
    {
     "name": "stdout",
     "output_type": "stream",
     "text": [
      "347 120,254 done --------------------\n"
     ]
    },
    {
     "name": "stderr",
     "output_type": "stream",
     "text": [
      "[Parallel(n_jobs=30)]: Done 241 out of 241 | elapsed:  8.6min finished\n"
     ]
    }
   ],
   "source": [
    "def get_training_testing_sitting(window_size=10,\n",
    "                         base_window_size=10,n_user=300):\n",
    "    n_train = window_size*60//base_window_size\n",
    "    X_train = []\n",
    "    X_test = []\n",
    "    y_train = []\n",
    "    y_test = []\n",
    "    count = 0\n",
    "    i = 0\n",
    "    while i<len(X):\n",
    "        if X[i].shape[0]<n_train+30*6:\n",
    "            i+=1\n",
    "            continue\n",
    "        X_train.append(X[i][:n_train])\n",
    "        X_test.append(X[i][n_train:])\n",
    "        y_train.extend([y[i]]*X_train[-1].shape[0])\n",
    "        y_test.extend([y[i]]*X_test[-1].shape[0])\n",
    "        count+=1\n",
    "        i+=1\n",
    "        if count==n_user:\n",
    "            break\n",
    "    return np.concatenate(X_train),np.concatenate(X_test),y_train,y_test\n",
    "def do_averaging(X1,w=30):\n",
    "    def moving_average(x, w):\n",
    "        return pd.DataFrame({'x':x}).x.rolling(window=w).mean().fillna(method='bfill').values.reshape(-1)\n",
    "#         return np.convolve(x, np.ones(w), 'same') / w\n",
    "    X2 = X1.copy()\n",
    "    for i in range(X2.shape[0]):\n",
    "        X2[i] = np.apply_along_axis(lambda m: moving_average(m,w), axis=0, arr=X2[i])\n",
    "    return X2\n",
    "\n",
    "def get_model(input_shape=(500,3),n_classes=1):\n",
    "    model =  Sequential()\n",
    "    model.add(Conv1D(128,2,input_shape=input_shape,activation='relu',kernel_initializer='normal',padding='same'))\n",
    "    model.add(MaxPooling1D(2))\n",
    "    model.add(Conv1D(128,2,activation='relu',kernel_initializer='normal',padding='same'))\n",
    "    model.add(MaxPooling1D(2))\n",
    "#     model.add(Conv1D(128,2,activation='relu',kernel_initializer='normal',padding='same'))\n",
    "#     model.add(MaxPooling1D(2))\n",
    "#     model.add(Conv1D(128,2,activation='relu',kernel_initializer='normal',padding='same'))\n",
    "#     model.add(MaxPooling1D(2))\n",
    "    model.add(Activation('tanh'))\n",
    "#     model.add(BatchNormalization())\n",
    "    model.add(Dropout(.5))\n",
    "    model.add(GRU(128,return_sequences=True,activation='tanh'))\n",
    "    model.add(Flatten())\n",
    "    model.add(Dense(n_classes))\n",
    "    model.add(Dense(n_classes,activation='softmax'))\n",
    "    model.compile(loss=tf.keras.losses.SparseCategoricalCrossentropy(),optimizer='adam')\n",
    "    return model\n",
    "\n",
    "\n",
    "def get_test_scores(model,x_test,y_test,test_size=None,n_iter=1000,base_window_size=20):\n",
    "    def get_score(user,test_size,n_iter,base_window_size):\n",
    "        df = test_df[test_df.original==user]\n",
    "        score1 = []\n",
    "        score2 = []\n",
    "        test_lengths = []\n",
    "        for t in test_size:\n",
    "            n  = np.int64(t*60/base_window_size)\n",
    "            if n>df.shape[0]:\n",
    "                continue\n",
    "            y_true = [df['original'].values[0]]*n_iter\n",
    "            y_pred_majority = []\n",
    "    #         y_pred_maxmean = []\n",
    "            for i in range(n_iter):\n",
    "                temp_df = df.sample(n,replace=False)\n",
    "                y_pred_majority.append(mode(temp_df['prediction'].values)[0][0])\n",
    "    #             temp_df = np.mean(np.concatenate(list(temp_df['probability'])),axis=0)\n",
    "    #             y_pred_maxmean.append(np.argmax(temp_df))\n",
    "\n",
    "\n",
    "            majority_score = accuracy_score(y_true,y_pred_majority)\n",
    "    #         maxmean_score = accuracy_score(y_true,y_pred_maxmean)\n",
    "            score1.append(majority_score)\n",
    "    #         score2.append(maxmean_score)\n",
    "            test_lengths.append(t)\n",
    "        \n",
    "        df = pd.DataFrame({'majority_score':score1,\n",
    "    #                         'maxmean_score':score2,\n",
    "                            'test_lengths':test_lengths})\n",
    "#         print(df.loc[0])\n",
    "        return df\n",
    "    \n",
    "    y_pred = model.predict(x_test).argmax(axis=1)\n",
    "#     y_pred1 = y_pred.argmax(axis=1)\n",
    "    test_df = pd.DataFrame({'prediction':y_pred,'original':y_test})\n",
    "#                             'probability':list(y_pred)})\n",
    "#     test_df['probability'] = test_df['probability'].apply(lambda a:a.reshape(1,-1)) \n",
    "    if test_size is None:\n",
    "        test_size = np.arange(1,120,1)\n",
    "    del x_test\n",
    "    \n",
    "    result  = Parallel(verbose=2,n_jobs=30)(delayed(get_score)(user,test_size,n_iter,base_window_size) for user in np.unique(test_df.original.values))\n",
    "    test_score = pd.concat(result)\n",
    "    acc_ = accuracy_score(test_df['original'],test_df['prediction'])\n",
    "    \n",
    "    test_score = test_score.append(pd.DataFrame({'majority_score':[acc_],\n",
    "#                                                     'maxmean_score':[acc_],\n",
    "                                                    'test_lengths':[0]}))\n",
    "    test_score = test_score.groupby('test_lengths',as_index=False).mean()\n",
    "    return test_score\n",
    "\n",
    "\n",
    "\n",
    "def get_trained_model(X_train,y_train,n_timesteps,n_channels,window_size,filepath):\n",
    "    n_classes = len(np.unique(y_train))\n",
    "    model =  get_model(input_shape=(n_timesteps,n_channels),n_classes=n_classes)\n",
    "#     model.summary()\n",
    "    checkpoint = ModelCheckpoint(filepath, monitor='val_loss', verbose=0, save_best_only=True, mode='min',save_weights_only=False)\n",
    "    es = EarlyStopping(monitor='val_loss', mode='min', verbose=1,patience=40)\n",
    "    callbacks_list = [es,checkpoint]\n",
    "#     train_x,test_x,train_y,test_y = train_test_split(X_train,y_train,test_size=.2,stratify=y_train)\n",
    "    train_x,val_x,train_y,val_y = train_test_split(X_train,y_train,test_size=.2,stratify=y_train)\n",
    "    history = model.fit(train_x,train_y,validation_data=(val_x,val_y), epochs=200, batch_size=300,verbose=0,\n",
    "          callbacks=callbacks_list,shuffle=True)\n",
    "    model.load_weights(filepath)\n",
    "#     y_pred = model.predict(test_x).argmax(axis=1)\n",
    "\n",
    "#     from sklearn.metrics import classification_report\n",
    "\n",
    "#     print(accuracy_score(test_y,y_pred),window_size)\n",
    "    return model\n",
    "\n",
    "\n",
    "def get_training_testing(window_size=10,\n",
    "                         base_window_size=10):\n",
    "    n_train = window_size*60//base_window_size\n",
    "    X_train = []\n",
    "    X_test = []\n",
    "    y_train = []\n",
    "    y_test = []\n",
    "    def split_data(df):\n",
    "        filepath = directory+df['user'].values[0]\n",
    "        df  = pickle.load(open(filepath,'rb'))\n",
    "        if df.shape[0]<n_train+30*6:\n",
    "            print(filepath[-2:],end=',')\n",
    "            return \n",
    "        df['time'] = df['window'].apply(lambda a:a[0])\n",
    "        df['data'] = df['data'].apply(lambda a:np.array([np.array(b) for b in a]))\n",
    "        df['data'] = df['data'].apply(lambda a:a[a[:,0].argsort(),:].reshape(1,-1,4))\n",
    "        df['data'] = df['data'].apply(lambda a:a[:,:,1:])\n",
    "        df = df.sort_values('time').reset_index(drop=True)\n",
    "        user_id = df.user.values[0]\n",
    "        X_train.append(np.concatenate(list(df[:n_train]['data'].values)))\n",
    "        X_test.append(np.concatenate(list(df[n_train:]['data'].values)))\n",
    "        y_train.extend([user_id]*X_train[-1].shape[0])\n",
    "        y_test.extend([user_id]*X_test[-1].shape[0])\n",
    "        print(filepath[-2:],end=',')\n",
    "        return \n",
    "    data.groupby('user',as_index=False).apply(split_data)\n",
    "    return np.concatenate(X_train),np.concatenate(X_test),y_train,y_test\n",
    "\n",
    "\n",
    "\n",
    "# directory = './data/walking_10/right_wrist/'\n",
    "# filepath1 = './data/all_walking_data_10.p'\n",
    "# if not os.path.isfile(filepath1):\n",
    "#     print(filepath1)\n",
    "#     data_col = []\n",
    "#     for f in os.listdir(directory):\n",
    "#         filepath = directory+f\n",
    "#         data  = pickle.load(open(filepath,'rb'))\n",
    "#         data_col.append(df)\n",
    "#     data = pd.concat(data_col)\n",
    "#     unique_users = data.user.unique()\n",
    "#     unique_users_dict = {u:i for i,u in enumerate(unique_users)}\n",
    "#     data['user_id'] = data['user'].apply(lambda a:unique_users_dict[a])\n",
    "#     data['time'] = data['window'].apply(lambda a:a[0])\n",
    "#     data['data'] = data['data'].apply(lambda a:np.array([np.array(b) for b in a]))\n",
    "#     data['data'] = data['data'].apply(lambda a:a[a[:,0].argsort(),:].reshape(1,-1,4))\n",
    "#     data['data'] = data['data'].apply(lambda a:a[:,:,1:])\n",
    "#     pickle.dump(data,open(filepath1,'wb'))\n",
    "# data = pd.DataFrame({'user':list(os.listdir(directory))})\n",
    "\n",
    "\n",
    "def get_test_score(X_train,X_test,y_train,y_test,window_size,base_window_size,n_user,model_save_path,n_timesteps,n_channels,test_lengths,smoothing=10):\n",
    "    model_save_path1 = model_save_path+ str(window_size)+'/'\n",
    "    if not os.path.isdir(model_save_path1):\n",
    "        os.makedirs(model_save_path1)        \n",
    "    pickle.dump(unique_users_dict,open(model_save_path1+str(n_user)+'user_dict.p','wb'))\n",
    "    filepath = model_save_path1+str(smoothing)+'samples_ma_walking.hdf5'\n",
    "    model = get_trained_model(np.nan_to_num(X_train),y_train,n_timesteps,n_channels,window_size,filepath=filepath)\n",
    "    test_score = get_test_scores(model,np.nan_to_num(X_test),y_test,test_size=test_lengths,n_iter=1000,base_window_size=base_window_size)\n",
    "    test_score['train_user'] = n_user\n",
    "    test_score['train_lengths'] = window_size\n",
    "    test_score['smoothing_factor'] = smoothing    \n",
    "    del X_train\n",
    "    del X_test\n",
    "    del y_train\n",
    "    del y_test\n",
    "    return test_score\n",
    "\n",
    "base_window_size = 10\n",
    "Fs = 25\n",
    "n_timesteps = base_window_size*Fs\n",
    "n_channels = 3\n",
    "window_size = 120\n",
    "test_lengths = np.arange(1,121,1)\n",
    "n_user = 347\n",
    "model_save_path = './models/mymodels/'\n",
    "result_save_path = './results/myresults/'\n",
    "if not os.path.isdir(result_save_path):\n",
    "    os.makedirs(result_save_path)\n",
    "if not os.path.isdir(model_save_path):\n",
    "    os.makedirs(model_save_path)\n",
    "X_train1,X_test1,y_train1,y_test1 = get_training_testing_sitting(window_size=window_size,base_window_size=base_window_size,n_user=n_user)\n",
    "for smoothing in np.arange(0,255,2):\n",
    "    if smoothing==0:\n",
    "        X_train = X_train1.copy()\n",
    "        X_test = X_test1.copy()\n",
    "    else:    \n",
    "        X_train = do_averaging(X_train1,w=smoothing)\n",
    "        X_test = do_averaging(X_test1,w=smoothing)\n",
    "    y_train = y_train1.copy()\n",
    "    y_test = y_test1.copy()\n",
    "    print(X_train.shape,X_test.shape)\n",
    "    unique_users = np.unique(y_train+y_test)\n",
    "    unique_users_dict = {u:i for i,u in enumerate(unique_users)}\n",
    "    y_train = np.array([unique_users_dict[a] for a in y_train])\n",
    "    y_test = np.array([unique_users_dict[a] for a in y_test])\n",
    "    test_score = get_test_score(X_train,X_test,y_train,y_test,window_size,base_window_size,n_user,model_save_path,n_timesteps,n_channels,test_lengths,smoothing=smoothing)\n",
    "#     results.append(test_score)\n",
    "    pickle.dump(test_score,open(result_save_path+str(smoothing)+'.p','wb'))\n",
    "    print(n_user,window_size,end=',')\n",
    "    print(smoothing,'done','-'*20)"
   ]
  },
  {
   "cell_type": "code",
   "execution_count": null,
   "id": "instrumental-revolution",
   "metadata": {},
   "outputs": [],
   "source": []
  },
  {
   "cell_type": "code",
   "execution_count": null,
   "id": "first-affiliate",
   "metadata": {},
   "outputs": [],
   "source": []
  }
 ],
 "metadata": {
  "kernelspec": {
   "display_name": "Python 3",
   "language": "python",
   "name": "python3"
  },
  "language_info": {
   "codemirror_mode": {
    "name": "ipython",
    "version": 3
   },
   "file_extension": ".py",
   "mimetype": "text/x-python",
   "name": "python",
   "nbconvert_exporter": "python",
   "pygments_lexer": "ipython3",
   "version": "3.8.5"
  }
 },
 "nbformat": 4,
 "nbformat_minor": 5
}
